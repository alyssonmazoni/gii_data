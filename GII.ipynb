{
  "nbformat": 4,
  "nbformat_minor": 0,
  "metadata": {
    "colab": {
      "name": "GII.ipynb",
      "provenance": [],
      "authorship_tag": "ABX9TyPsaugYM96yAqlHc/0cZ+vh",
      "include_colab_link": true
    },
    "kernelspec": {
      "name": "python3",
      "display_name": "Python 3"
    },
    "language_info": {
      "name": "python"
    }
  },
  "cells": [
    {
      "cell_type": "markdown",
      "metadata": {
        "id": "view-in-github",
        "colab_type": "text"
      },
      "source": [
        "<a href=\"https://colab.research.google.com/github/alyssonmazoni/gii_data/blob/main/GII.ipynb\" target=\"_parent\"><img src=\"https://colab.research.google.com/assets/colab-badge.svg\" alt=\"Open In Colab\"/></a>"
      ]
    },
    {
      "cell_type": "markdown",
      "source": [
        "# Load folder"
      ],
      "metadata": {
        "id": "LKl_wroDDtPE"
      }
    },
    {
      "cell_type": "code",
      "execution_count": null,
      "metadata": {
        "id": "jRJ7dJaCrUEr"
      },
      "outputs": [],
      "source": [
        "from google.colab import drive"
      ]
    },
    {
      "cell_type": "code",
      "source": [
        ""
      ],
      "metadata": {
        "id": "u0wvb7jkDDDS"
      },
      "execution_count": null,
      "outputs": []
    },
    {
      "cell_type": "code",
      "source": [
        "drive.mount('/content/drive')"
      ],
      "metadata": {
        "colab": {
          "base_uri": "https://localhost:8080/"
        },
        "id": "yYC1Hz5grqRh",
        "outputId": "f0c286a4-8950-435d-c279-295887d97aa6"
      },
      "execution_count": null,
      "outputs": [
        {
          "output_type": "stream",
          "name": "stdout",
          "text": [
            "Mounted at /content/drive\n"
          ]
        }
      ]
    },
    {
      "cell_type": "code",
      "source": [
        "folder = '/content/drive/My Drive/InSySPo/Karen/'"
      ],
      "metadata": {
        "id": "ujPoMAJuruk3"
      },
      "execution_count": null,
      "outputs": []
    },
    {
      "cell_type": "markdown",
      "source": [
        "# Tests"
      ],
      "metadata": {
        "id": "p9VgDCENDx5X"
      }
    },
    {
      "cell_type": "code",
      "source": [
        "import os\n",
        "import pandas as pd\n",
        "import numpy as np\n",
        "import matplotlib.pyplot as plt"
      ],
      "metadata": {
        "id": "Q36jDHxPr4Wn"
      },
      "execution_count": null,
      "outputs": []
    },
    {
      "cell_type": "code",
      "source": [
        "os.listdir(folder)"
      ],
      "metadata": {
        "colab": {
          "base_uri": "https://localhost:8080/"
        },
        "id": "zX_c16y3r44j",
        "outputId": "92aa4fbc-1d4d-4b6b-de1a-a89394eb888a"
      },
      "execution_count": null,
      "outputs": [
        {
          "output_type": "execute_result",
          "data": {
            "text/plain": [
              "['Dados pesquisa.xlsx',\n",
              " 'wipo_pub_2000-tech2.xlsx',\n",
              " 'Analysis_2017.csv',\n",
              " 'Analysis_2021.csv',\n",
              " 'Analysis_2020.csv',\n",
              " 'Analysis_2019.csv',\n",
              " 'Analysis_2016.csv',\n",
              " 'Analysis_2015.csv',\n",
              " 'Analysis_2014.csv',\n",
              " 'Analysis_2013.csv',\n",
              " 'Analysis_2018.csv',\n",
              " 'GII results.gsheet',\n",
              " 'GII.ipynb']"
            ]
          },
          "metadata": {},
          "execution_count": 5
        }
      ]
    },
    {
      "cell_type": "code",
      "source": [
        "\n"
      ],
      "metadata": {
        "id": "_NZaWo6Dr6QD"
      },
      "execution_count": null,
      "outputs": []
    },
    {
      "cell_type": "code",
      "source": [
        "T = pd.read_csv(folder+'Analysis_2013.csv',engine='python',header = 0,quotechar='\"')"
      ],
      "metadata": {
        "id": "SAHaUUq2sVW6"
      },
      "execution_count": null,
      "outputs": []
    },
    {
      "cell_type": "code",
      "source": [
        "T.columns[:20]"
      ],
      "metadata": {
        "colab": {
          "base_uri": "https://localhost:8080/"
        },
        "id": "4orCz5qnsdsf",
        "outputId": "9d92689d-a9ad-45a8-902a-c0bf5ec5d587"
      },
      "execution_count": null,
      "outputs": [
        {
          "output_type": "execute_result",
          "data": {
            "text/plain": [
              "Index([' ', ' .1', 'Rank Indicators', 'Albania', 'Algeria', 'Angola',\n",
              "       'Argentina', 'Armenia', 'Australia', 'Austria', 'Azerbaijan', 'Bahrain',\n",
              "       'Bangladesh', 'Barbados', 'Belarus', 'Belgium', 'Belize', 'Benin',\n",
              "       'Bolivia, Plurinational State of', 'Bosnia and Herzegovina'],\n",
              "      dtype='object')"
            ]
          },
          "metadata": {},
          "execution_count": 44
        }
      ]
    },
    {
      "cell_type": "code",
      "source": [
        "T"
      ],
      "metadata": {
        "colab": {
          "base_uri": "https://localhost:8080/",
          "height": 869
        },
        "id": "GwT2WfWXswhL",
        "outputId": "b8b2a620-64a8-42f9-fc27-097fc6d5331a"
      },
      "execution_count": null,
      "outputs": [
        {
          "output_type": "execute_result",
          "data": {
            "text/plain": [
              "                                                                        .1  \\\n",
              "0                       Indicator                                      NaN   \n",
              "1         Global Innovation Index                                            \n",
              "2     Innovation Efficiency Index                                            \n",
              "3                Innovation Input                                            \n",
              "4               Innovation Output                                            \n",
              "..                            ...                                      ...   \n",
              "113                          7.3.                        Online creativity   \n",
              "114                        7.3.1.        Generic top-level domains (gTLDs)   \n",
              "115                        7.3.2.  Country-code top-level domains (ccTLDs)   \n",
              "116                        7.3.3.                  Wikipedia monthly edits   \n",
              "117                        7.3.4.                 Video uploads on YouTube   \n",
              "\n",
              "    Rank Indicators  Albania  Algeria  Angola  Argentina  Armenia  Australia  \\\n",
              "0              None      NaN      NaN     NaN        NaN      NaN        NaN   \n",
              "1                       93.0    138.0   135.0       56.0     59.0       19.0   \n",
              "2                      129.0    141.0    22.0       20.0     42.0      116.0   \n",
              "3                       77.0    112.0   140.0       78.0     71.0       11.0   \n",
              "4                      118.0    141.0   117.0       43.0     47.0       32.0   \n",
              "..              ...      ...      ...     ...        ...      ...        ...   \n",
              "113                     69.0    116.0   124.0       40.0     52.0        9.0   \n",
              "114                     87.0    121.0   128.0       71.0     91.0        7.0   \n",
              "115                     78.0    121.0   132.0       17.0     54.0       15.0   \n",
              "116                     64.0    106.0   122.0       50.0     39.0       27.0   \n",
              "117                     41.0    104.0   118.0       40.0     59.0       15.0   \n",
              "\n",
              "     Austria  ...  United Kingdom.4  United States of America.4  Uruguay.4  \\\n",
              "0        NaN  ...              None                        None       None   \n",
              "1       23.0  ...          Strength                                          \n",
              "2       98.0  ...          Weakness                    Weakness              \n",
              "3       17.0  ...          Strength                    Strength              \n",
              "4       27.0  ...          Strength                                          \n",
              "..       ...  ...               ...                         ...        ...   \n",
              "113     19.0  ...          Strength                               Strength   \n",
              "114     16.0  ...                                      Strength              \n",
              "115      8.0  ...                                                            \n",
              "116     22.0  ...                                                 Strength   \n",
              "117     35.0  ...                                      Strength              \n",
              "\n",
              "     Uzbekistan.4  Venezuela, Bolivarian Republic of.4  Viet Nam.4   Yemen.4  \\\n",
              "0            None                                 None        None      None   \n",
              "1        Weakness                                                   Weakness   \n",
              "2        Weakness                             Strength    Strength             \n",
              "3                                             Weakness              Weakness   \n",
              "4        Weakness                                                              \n",
              "..            ...                                  ...         ...       ...   \n",
              "113                                                                            \n",
              "114      Weakness                                                              \n",
              "115                                           Strength                         \n",
              "116      Weakness                                                              \n",
              "117      Weakness                                                              \n",
              "\n",
              "     Zambia.4  Zimbabwe.4  Unnamed: 752  \n",
              "0        None        None           NaN  \n",
              "1                Weakness           NaN  \n",
              "2    Strength    Strength           NaN  \n",
              "3                Weakness           NaN  \n",
              "4                                   NaN  \n",
              "..        ...         ...           ...  \n",
              "113                                 NaN  \n",
              "114                                 NaN  \n",
              "115  Weakness                       NaN  \n",
              "116              Weakness           NaN  \n",
              "117                                 NaN  \n",
              "\n",
              "[118 rows x 753 columns]"
            ],
            "text/html": [
              "\n",
              "  <div id=\"df-5e31be7b-fbf6-4d8c-a9d4-6b41ec1647c0\">\n",
              "    <div class=\"colab-df-container\">\n",
              "      <div>\n",
              "<style scoped>\n",
              "    .dataframe tbody tr th:only-of-type {\n",
              "        vertical-align: middle;\n",
              "    }\n",
              "\n",
              "    .dataframe tbody tr th {\n",
              "        vertical-align: top;\n",
              "    }\n",
              "\n",
              "    .dataframe thead th {\n",
              "        text-align: right;\n",
              "    }\n",
              "</style>\n",
              "<table border=\"1\" class=\"dataframe\">\n",
              "  <thead>\n",
              "    <tr style=\"text-align: right;\">\n",
              "      <th></th>\n",
              "      <th></th>\n",
              "      <th>.1</th>\n",
              "      <th>Rank Indicators</th>\n",
              "      <th>Albania</th>\n",
              "      <th>Algeria</th>\n",
              "      <th>Angola</th>\n",
              "      <th>Argentina</th>\n",
              "      <th>Armenia</th>\n",
              "      <th>Australia</th>\n",
              "      <th>Austria</th>\n",
              "      <th>...</th>\n",
              "      <th>United Kingdom.4</th>\n",
              "      <th>United States of America.4</th>\n",
              "      <th>Uruguay.4</th>\n",
              "      <th>Uzbekistan.4</th>\n",
              "      <th>Venezuela, Bolivarian Republic of.4</th>\n",
              "      <th>Viet Nam.4</th>\n",
              "      <th>Yemen.4</th>\n",
              "      <th>Zambia.4</th>\n",
              "      <th>Zimbabwe.4</th>\n",
              "      <th>Unnamed: 752</th>\n",
              "    </tr>\n",
              "  </thead>\n",
              "  <tbody>\n",
              "    <tr>\n",
              "      <th>0</th>\n",
              "      <td>Indicator</td>\n",
              "      <td>NaN</td>\n",
              "      <td>None</td>\n",
              "      <td>NaN</td>\n",
              "      <td>NaN</td>\n",
              "      <td>NaN</td>\n",
              "      <td>NaN</td>\n",
              "      <td>NaN</td>\n",
              "      <td>NaN</td>\n",
              "      <td>NaN</td>\n",
              "      <td>...</td>\n",
              "      <td>None</td>\n",
              "      <td>None</td>\n",
              "      <td>None</td>\n",
              "      <td>None</td>\n",
              "      <td>None</td>\n",
              "      <td>None</td>\n",
              "      <td>None</td>\n",
              "      <td>None</td>\n",
              "      <td>None</td>\n",
              "      <td>NaN</td>\n",
              "    </tr>\n",
              "    <tr>\n",
              "      <th>1</th>\n",
              "      <td>Global Innovation Index</td>\n",
              "      <td></td>\n",
              "      <td></td>\n",
              "      <td>93.0</td>\n",
              "      <td>138.0</td>\n",
              "      <td>135.0</td>\n",
              "      <td>56.0</td>\n",
              "      <td>59.0</td>\n",
              "      <td>19.0</td>\n",
              "      <td>23.0</td>\n",
              "      <td>...</td>\n",
              "      <td>Strength</td>\n",
              "      <td></td>\n",
              "      <td></td>\n",
              "      <td>Weakness</td>\n",
              "      <td></td>\n",
              "      <td></td>\n",
              "      <td>Weakness</td>\n",
              "      <td></td>\n",
              "      <td>Weakness</td>\n",
              "      <td>NaN</td>\n",
              "    </tr>\n",
              "    <tr>\n",
              "      <th>2</th>\n",
              "      <td>Innovation Efficiency Index</td>\n",
              "      <td></td>\n",
              "      <td></td>\n",
              "      <td>129.0</td>\n",
              "      <td>141.0</td>\n",
              "      <td>22.0</td>\n",
              "      <td>20.0</td>\n",
              "      <td>42.0</td>\n",
              "      <td>116.0</td>\n",
              "      <td>98.0</td>\n",
              "      <td>...</td>\n",
              "      <td>Weakness</td>\n",
              "      <td>Weakness</td>\n",
              "      <td></td>\n",
              "      <td>Weakness</td>\n",
              "      <td>Strength</td>\n",
              "      <td>Strength</td>\n",
              "      <td></td>\n",
              "      <td>Strength</td>\n",
              "      <td>Strength</td>\n",
              "      <td>NaN</td>\n",
              "    </tr>\n",
              "    <tr>\n",
              "      <th>3</th>\n",
              "      <td>Innovation Input</td>\n",
              "      <td></td>\n",
              "      <td></td>\n",
              "      <td>77.0</td>\n",
              "      <td>112.0</td>\n",
              "      <td>140.0</td>\n",
              "      <td>78.0</td>\n",
              "      <td>71.0</td>\n",
              "      <td>11.0</td>\n",
              "      <td>17.0</td>\n",
              "      <td>...</td>\n",
              "      <td>Strength</td>\n",
              "      <td>Strength</td>\n",
              "      <td></td>\n",
              "      <td></td>\n",
              "      <td>Weakness</td>\n",
              "      <td></td>\n",
              "      <td>Weakness</td>\n",
              "      <td></td>\n",
              "      <td>Weakness</td>\n",
              "      <td>NaN</td>\n",
              "    </tr>\n",
              "    <tr>\n",
              "      <th>4</th>\n",
              "      <td>Innovation Output</td>\n",
              "      <td></td>\n",
              "      <td></td>\n",
              "      <td>118.0</td>\n",
              "      <td>141.0</td>\n",
              "      <td>117.0</td>\n",
              "      <td>43.0</td>\n",
              "      <td>47.0</td>\n",
              "      <td>32.0</td>\n",
              "      <td>27.0</td>\n",
              "      <td>...</td>\n",
              "      <td>Strength</td>\n",
              "      <td></td>\n",
              "      <td></td>\n",
              "      <td>Weakness</td>\n",
              "      <td></td>\n",
              "      <td></td>\n",
              "      <td></td>\n",
              "      <td></td>\n",
              "      <td></td>\n",
              "      <td>NaN</td>\n",
              "    </tr>\n",
              "    <tr>\n",
              "      <th>...</th>\n",
              "      <td>...</td>\n",
              "      <td>...</td>\n",
              "      <td>...</td>\n",
              "      <td>...</td>\n",
              "      <td>...</td>\n",
              "      <td>...</td>\n",
              "      <td>...</td>\n",
              "      <td>...</td>\n",
              "      <td>...</td>\n",
              "      <td>...</td>\n",
              "      <td>...</td>\n",
              "      <td>...</td>\n",
              "      <td>...</td>\n",
              "      <td>...</td>\n",
              "      <td>...</td>\n",
              "      <td>...</td>\n",
              "      <td>...</td>\n",
              "      <td>...</td>\n",
              "      <td>...</td>\n",
              "      <td>...</td>\n",
              "      <td>...</td>\n",
              "    </tr>\n",
              "    <tr>\n",
              "      <th>113</th>\n",
              "      <td>7.3.</td>\n",
              "      <td>Online creativity</td>\n",
              "      <td></td>\n",
              "      <td>69.0</td>\n",
              "      <td>116.0</td>\n",
              "      <td>124.0</td>\n",
              "      <td>40.0</td>\n",
              "      <td>52.0</td>\n",
              "      <td>9.0</td>\n",
              "      <td>19.0</td>\n",
              "      <td>...</td>\n",
              "      <td>Strength</td>\n",
              "      <td></td>\n",
              "      <td>Strength</td>\n",
              "      <td></td>\n",
              "      <td></td>\n",
              "      <td></td>\n",
              "      <td></td>\n",
              "      <td></td>\n",
              "      <td></td>\n",
              "      <td>NaN</td>\n",
              "    </tr>\n",
              "    <tr>\n",
              "      <th>114</th>\n",
              "      <td>7.3.1.</td>\n",
              "      <td>Generic top-level domains (gTLDs)</td>\n",
              "      <td></td>\n",
              "      <td>87.0</td>\n",
              "      <td>121.0</td>\n",
              "      <td>128.0</td>\n",
              "      <td>71.0</td>\n",
              "      <td>91.0</td>\n",
              "      <td>7.0</td>\n",
              "      <td>16.0</td>\n",
              "      <td>...</td>\n",
              "      <td></td>\n",
              "      <td>Strength</td>\n",
              "      <td></td>\n",
              "      <td>Weakness</td>\n",
              "      <td></td>\n",
              "      <td></td>\n",
              "      <td></td>\n",
              "      <td></td>\n",
              "      <td></td>\n",
              "      <td>NaN</td>\n",
              "    </tr>\n",
              "    <tr>\n",
              "      <th>115</th>\n",
              "      <td>7.3.2.</td>\n",
              "      <td>Country-code top-level domains (ccTLDs)</td>\n",
              "      <td></td>\n",
              "      <td>78.0</td>\n",
              "      <td>121.0</td>\n",
              "      <td>132.0</td>\n",
              "      <td>17.0</td>\n",
              "      <td>54.0</td>\n",
              "      <td>15.0</td>\n",
              "      <td>8.0</td>\n",
              "      <td>...</td>\n",
              "      <td></td>\n",
              "      <td></td>\n",
              "      <td></td>\n",
              "      <td></td>\n",
              "      <td>Strength</td>\n",
              "      <td></td>\n",
              "      <td></td>\n",
              "      <td>Weakness</td>\n",
              "      <td></td>\n",
              "      <td>NaN</td>\n",
              "    </tr>\n",
              "    <tr>\n",
              "      <th>116</th>\n",
              "      <td>7.3.3.</td>\n",
              "      <td>Wikipedia monthly edits</td>\n",
              "      <td></td>\n",
              "      <td>64.0</td>\n",
              "      <td>106.0</td>\n",
              "      <td>122.0</td>\n",
              "      <td>50.0</td>\n",
              "      <td>39.0</td>\n",
              "      <td>27.0</td>\n",
              "      <td>22.0</td>\n",
              "      <td>...</td>\n",
              "      <td></td>\n",
              "      <td></td>\n",
              "      <td>Strength</td>\n",
              "      <td>Weakness</td>\n",
              "      <td></td>\n",
              "      <td></td>\n",
              "      <td></td>\n",
              "      <td></td>\n",
              "      <td>Weakness</td>\n",
              "      <td>NaN</td>\n",
              "    </tr>\n",
              "    <tr>\n",
              "      <th>117</th>\n",
              "      <td>7.3.4.</td>\n",
              "      <td>Video uploads on YouTube</td>\n",
              "      <td></td>\n",
              "      <td>41.0</td>\n",
              "      <td>104.0</td>\n",
              "      <td>118.0</td>\n",
              "      <td>40.0</td>\n",
              "      <td>59.0</td>\n",
              "      <td>15.0</td>\n",
              "      <td>35.0</td>\n",
              "      <td>...</td>\n",
              "      <td></td>\n",
              "      <td>Strength</td>\n",
              "      <td></td>\n",
              "      <td>Weakness</td>\n",
              "      <td></td>\n",
              "      <td></td>\n",
              "      <td></td>\n",
              "      <td></td>\n",
              "      <td></td>\n",
              "      <td>NaN</td>\n",
              "    </tr>\n",
              "  </tbody>\n",
              "</table>\n",
              "<p>118 rows × 753 columns</p>\n",
              "</div>\n",
              "      <button class=\"colab-df-convert\" onclick=\"convertToInteractive('df-5e31be7b-fbf6-4d8c-a9d4-6b41ec1647c0')\"\n",
              "              title=\"Convert this dataframe to an interactive table.\"\n",
              "              style=\"display:none;\">\n",
              "        \n",
              "  <svg xmlns=\"http://www.w3.org/2000/svg\" height=\"24px\"viewBox=\"0 0 24 24\"\n",
              "       width=\"24px\">\n",
              "    <path d=\"M0 0h24v24H0V0z\" fill=\"none\"/>\n",
              "    <path d=\"M18.56 5.44l.94 2.06.94-2.06 2.06-.94-2.06-.94-.94-2.06-.94 2.06-2.06.94zm-11 1L8.5 8.5l.94-2.06 2.06-.94-2.06-.94L8.5 2.5l-.94 2.06-2.06.94zm10 10l.94 2.06.94-2.06 2.06-.94-2.06-.94-.94-2.06-.94 2.06-2.06.94z\"/><path d=\"M17.41 7.96l-1.37-1.37c-.4-.4-.92-.59-1.43-.59-.52 0-1.04.2-1.43.59L10.3 9.45l-7.72 7.72c-.78.78-.78 2.05 0 2.83L4 21.41c.39.39.9.59 1.41.59.51 0 1.02-.2 1.41-.59l7.78-7.78 2.81-2.81c.8-.78.8-2.07 0-2.86zM5.41 20L4 18.59l7.72-7.72 1.47 1.35L5.41 20z\"/>\n",
              "  </svg>\n",
              "      </button>\n",
              "      \n",
              "  <style>\n",
              "    .colab-df-container {\n",
              "      display:flex;\n",
              "      flex-wrap:wrap;\n",
              "      gap: 12px;\n",
              "    }\n",
              "\n",
              "    .colab-df-convert {\n",
              "      background-color: #E8F0FE;\n",
              "      border: none;\n",
              "      border-radius: 50%;\n",
              "      cursor: pointer;\n",
              "      display: none;\n",
              "      fill: #1967D2;\n",
              "      height: 32px;\n",
              "      padding: 0 0 0 0;\n",
              "      width: 32px;\n",
              "    }\n",
              "\n",
              "    .colab-df-convert:hover {\n",
              "      background-color: #E2EBFA;\n",
              "      box-shadow: 0px 1px 2px rgba(60, 64, 67, 0.3), 0px 1px 3px 1px rgba(60, 64, 67, 0.15);\n",
              "      fill: #174EA6;\n",
              "    }\n",
              "\n",
              "    [theme=dark] .colab-df-convert {\n",
              "      background-color: #3B4455;\n",
              "      fill: #D2E3FC;\n",
              "    }\n",
              "\n",
              "    [theme=dark] .colab-df-convert:hover {\n",
              "      background-color: #434B5C;\n",
              "      box-shadow: 0px 1px 3px 1px rgba(0, 0, 0, 0.15);\n",
              "      filter: drop-shadow(0px 1px 2px rgba(0, 0, 0, 0.3));\n",
              "      fill: #FFFFFF;\n",
              "    }\n",
              "  </style>\n",
              "\n",
              "      <script>\n",
              "        const buttonEl =\n",
              "          document.querySelector('#df-5e31be7b-fbf6-4d8c-a9d4-6b41ec1647c0 button.colab-df-convert');\n",
              "        buttonEl.style.display =\n",
              "          google.colab.kernel.accessAllowed ? 'block' : 'none';\n",
              "\n",
              "        async function convertToInteractive(key) {\n",
              "          const element = document.querySelector('#df-5e31be7b-fbf6-4d8c-a9d4-6b41ec1647c0');\n",
              "          const dataTable =\n",
              "            await google.colab.kernel.invokeFunction('convertToInteractive',\n",
              "                                                     [key], {});\n",
              "          if (!dataTable) return;\n",
              "\n",
              "          const docLinkHtml = 'Like what you see? Visit the ' +\n",
              "            '<a target=\"_blank\" href=https://colab.research.google.com/notebooks/data_table.ipynb>data table notebook</a>'\n",
              "            + ' to learn more about interactive tables.';\n",
              "          element.innerHTML = '';\n",
              "          dataTable['output_type'] = 'display_data';\n",
              "          await google.colab.output.renderOutput(dataTable, element);\n",
              "          const docLink = document.createElement('div');\n",
              "          docLink.innerHTML = docLinkHtml;\n",
              "          element.appendChild(docLink);\n",
              "        }\n",
              "      </script>\n",
              "    </div>\n",
              "  </div>\n",
              "  "
            ]
          },
          "metadata": {},
          "execution_count": 45
        }
      ]
    },
    {
      "cell_type": "code",
      "source": [
        "(T.shape[1]-4)"
      ],
      "metadata": {
        "colab": {
          "base_uri": "https://localhost:8080/"
        },
        "id": "3jtHWSkVt35c",
        "outputId": "fdbb7cb8-0ed5-4611-a904-5b2a77eb37bb"
      },
      "execution_count": null,
      "outputs": [
        {
          "output_type": "execute_result",
          "data": {
            "text/plain": [
              "749"
            ]
          },
          "metadata": {},
          "execution_count": 46
        }
      ]
    },
    {
      "cell_type": "code",
      "source": [
        "T.columns[3:153]"
      ],
      "metadata": {
        "colab": {
          "base_uri": "https://localhost:8080/"
        },
        "id": "X4ZqZxM1uQJ8",
        "outputId": "2f00eb73-d97d-4448-cd22-902e60192b23"
      },
      "execution_count": null,
      "outputs": [
        {
          "output_type": "execute_result",
          "data": {
            "text/plain": [
              "Index(['Albania', 'Algeria', 'Angola', 'Argentina', 'Armenia', 'Australia',\n",
              "       'Austria', 'Azerbaijan', 'Bahrain', 'Bangladesh',\n",
              "       ...\n",
              "       'United Kingdom', 'United States of America', 'Uruguay', 'Uzbekistan',\n",
              "       'Venezuela, Bolivarian Republic of', 'Viet Nam', 'Yemen', 'Zambia',\n",
              "       'Zimbabwe', 'Score'],\n",
              "      dtype='object', length=150)"
            ]
          },
          "metadata": {},
          "execution_count": 47
        }
      ]
    },
    {
      "cell_type": "code",
      "source": [
        "T.columns[153:153+150]"
      ],
      "metadata": {
        "colab": {
          "base_uri": "https://localhost:8080/"
        },
        "id": "zVB-Sp-Jvnbk",
        "outputId": "ddb11b15-e185-42b8-e183-8fc024ab7755"
      },
      "execution_count": null,
      "outputs": [
        {
          "output_type": "execute_result",
          "data": {
            "text/plain": [
              "Index(['Albania.1', 'Algeria.1', 'Angola.1', 'Argentina.1', 'Armenia.1',\n",
              "       'Australia.1', 'Austria.1', 'Azerbaijan.1', 'Bahrain.1', 'Bangladesh.1',\n",
              "       ...\n",
              "       'United Kingdom.1', 'United States of America.1', 'Uruguay.1',\n",
              "       'Uzbekistan.1', 'Venezuela, Bolivarian Republic of.1', 'Viet Nam.1',\n",
              "       'Yemen.1', 'Zambia.1', 'Zimbabwe.1', 'Value'],\n",
              "      dtype='object', length=150)"
            ]
          },
          "metadata": {},
          "execution_count": 31
        }
      ]
    },
    {
      "cell_type": "code",
      "source": [
        "T.columns[303:303+150]"
      ],
      "metadata": {
        "colab": {
          "base_uri": "https://localhost:8080/"
        },
        "id": "PxBRjAdEwLSO",
        "outputId": "4761cfe5-1a9e-4b52-ada6-d4a4b041a78c"
      },
      "execution_count": null,
      "outputs": [
        {
          "output_type": "execute_result",
          "data": {
            "text/plain": [
              "Index(['Albania.2', 'Algeria.2', 'Angola.2', 'Argentina.2', 'Armenia.2',\n",
              "       'Australia.2', 'Austria.2', 'Azerbaijan.2', 'Bahrain.2', 'Bangladesh.2',\n",
              "       ...\n",
              "       'United Kingdom.2', 'United States of America.2', 'Uruguay.2',\n",
              "       'Uzbekistan.2', 'Venezuela, Bolivarian Republic of.2', 'Viet Nam.2',\n",
              "       'Yemen.2', 'Zambia.2', 'Zimbabwe.2', 'Income Group(Strength/Weakness)'],\n",
              "      dtype='object', length=150)"
            ]
          },
          "metadata": {},
          "execution_count": 39
        }
      ]
    },
    {
      "cell_type": "code",
      "source": [
        "T.columns[453:453+150]"
      ],
      "metadata": {
        "colab": {
          "base_uri": "https://localhost:8080/"
        },
        "id": "TMBb81wgwWZz",
        "outputId": "9f9edf55-58a4-44f4-dbc0-aa333b690677"
      },
      "execution_count": null,
      "outputs": [
        {
          "output_type": "execute_result",
          "data": {
            "text/plain": [
              "Index(['Albania.3', 'Algeria.3', 'Angola.3', 'Argentina.3', 'Armenia.3',\n",
              "       'Australia.3', 'Austria.3', 'Azerbaijan.3', 'Bahrain.3', 'Bangladesh.3',\n",
              "       ...\n",
              "       'United Kingdom.3', 'United States of America.3', 'Uruguay.3',\n",
              "       'Uzbekistan.3', 'Venezuela, Bolivarian Republic of.3', 'Viet Nam.3',\n",
              "       'Yemen.3', 'Zambia.3', 'Zimbabwe.3', 'Strength / Weakness'],\n",
              "      dtype='object', length=150)"
            ]
          },
          "metadata": {},
          "execution_count": 40
        }
      ]
    },
    {
      "cell_type": "code",
      "source": [
        "T.columns[603:603+150]"
      ],
      "metadata": {
        "colab": {
          "base_uri": "https://localhost:8080/"
        },
        "id": "CS2TmZdYwjz7",
        "outputId": "f69336cd-a5ae-4846-aee9-95eb15d86012"
      },
      "execution_count": null,
      "outputs": [
        {
          "output_type": "execute_result",
          "data": {
            "text/plain": [
              "Index(['Albania.4', 'Algeria.4', 'Angola.4', 'Argentina.4', 'Armenia.4',\n",
              "       'Australia.4', 'Austria.4', 'Azerbaijan.4', 'Bahrain.4', 'Bangladesh.4',\n",
              "       ...\n",
              "       'United Kingdom.4', 'United States of America.4', 'Uruguay.4',\n",
              "       'Uzbekistan.4', 'Venezuela, Bolivarian Republic of.4', 'Viet Nam.4',\n",
              "       'Yemen.4', 'Zambia.4', 'Zimbabwe.4', 'Unnamed: 752'],\n",
              "      dtype='object', length=150)"
            ]
          },
          "metadata": {},
          "execution_count": 36
        }
      ]
    },
    {
      "cell_type": "code",
      "source": [
        "A.iloc[:,1].astype(float)"
      ],
      "metadata": {
        "colab": {
          "base_uri": "https://localhost:8080/",
          "height": 329
        },
        "id": "1uvAC7Q04-R9",
        "outputId": "df1aac81-b6f1-46ad-c26d-2d6b9584c9b7"
      },
      "execution_count": null,
      "outputs": [
        {
          "output_type": "error",
          "ename": "ValueError",
          "evalue": "ignored",
          "traceback": [
            "\u001b[0;31m---------------------------------------------------------------------------\u001b[0m",
            "\u001b[0;31mValueError\u001b[0m                                Traceback (most recent call last)",
            "\u001b[0;32m<ipython-input-11-7e360a7e50f4>\u001b[0m in \u001b[0;36m<module>\u001b[0;34m()\u001b[0m\n\u001b[0;32m----> 1\u001b[0;31m \u001b[0mA\u001b[0m\u001b[0;34m.\u001b[0m\u001b[0miloc\u001b[0m\u001b[0;34m[\u001b[0m\u001b[0;34m:\u001b[0m\u001b[0;34m,\u001b[0m\u001b[0;36m1\u001b[0m\u001b[0;34m]\u001b[0m\u001b[0;34m.\u001b[0m\u001b[0mastype\u001b[0m\u001b[0;34m(\u001b[0m\u001b[0mfloat\u001b[0m\u001b[0;34m)\u001b[0m\u001b[0;34m\u001b[0m\u001b[0;34m\u001b[0m\u001b[0m\n\u001b[0m",
            "\u001b[0;32m/usr/local/lib/python3.7/dist-packages/pandas/core/generic.py\u001b[0m in \u001b[0;36mastype\u001b[0;34m(self, dtype, copy, errors)\u001b[0m\n\u001b[1;32m   5813\u001b[0m         \u001b[0;32melse\u001b[0m\u001b[0;34m:\u001b[0m\u001b[0;34m\u001b[0m\u001b[0;34m\u001b[0m\u001b[0m\n\u001b[1;32m   5814\u001b[0m             \u001b[0;31m# else, only a single dtype is given\u001b[0m\u001b[0;34m\u001b[0m\u001b[0;34m\u001b[0m\u001b[0;34m\u001b[0m\u001b[0m\n\u001b[0;32m-> 5815\u001b[0;31m             \u001b[0mnew_data\u001b[0m \u001b[0;34m=\u001b[0m \u001b[0mself\u001b[0m\u001b[0;34m.\u001b[0m\u001b[0m_mgr\u001b[0m\u001b[0;34m.\u001b[0m\u001b[0mastype\u001b[0m\u001b[0;34m(\u001b[0m\u001b[0mdtype\u001b[0m\u001b[0;34m=\u001b[0m\u001b[0mdtype\u001b[0m\u001b[0;34m,\u001b[0m \u001b[0mcopy\u001b[0m\u001b[0;34m=\u001b[0m\u001b[0mcopy\u001b[0m\u001b[0;34m,\u001b[0m \u001b[0merrors\u001b[0m\u001b[0;34m=\u001b[0m\u001b[0merrors\u001b[0m\u001b[0;34m)\u001b[0m\u001b[0;34m\u001b[0m\u001b[0;34m\u001b[0m\u001b[0m\n\u001b[0m\u001b[1;32m   5816\u001b[0m             \u001b[0;32mreturn\u001b[0m \u001b[0mself\u001b[0m\u001b[0;34m.\u001b[0m\u001b[0m_constructor\u001b[0m\u001b[0;34m(\u001b[0m\u001b[0mnew_data\u001b[0m\u001b[0;34m)\u001b[0m\u001b[0;34m.\u001b[0m\u001b[0m__finalize__\u001b[0m\u001b[0;34m(\u001b[0m\u001b[0mself\u001b[0m\u001b[0;34m,\u001b[0m \u001b[0mmethod\u001b[0m\u001b[0;34m=\u001b[0m\u001b[0;34m\"astype\"\u001b[0m\u001b[0;34m)\u001b[0m\u001b[0;34m\u001b[0m\u001b[0;34m\u001b[0m\u001b[0m\n\u001b[1;32m   5817\u001b[0m \u001b[0;34m\u001b[0m\u001b[0m\n",
            "\u001b[0;32m/usr/local/lib/python3.7/dist-packages/pandas/core/internals/managers.py\u001b[0m in \u001b[0;36mastype\u001b[0;34m(self, dtype, copy, errors)\u001b[0m\n\u001b[1;32m    416\u001b[0m \u001b[0;34m\u001b[0m\u001b[0m\n\u001b[1;32m    417\u001b[0m     \u001b[0;32mdef\u001b[0m \u001b[0mastype\u001b[0m\u001b[0;34m(\u001b[0m\u001b[0mself\u001b[0m\u001b[0;34m:\u001b[0m \u001b[0mT\u001b[0m\u001b[0;34m,\u001b[0m \u001b[0mdtype\u001b[0m\u001b[0;34m,\u001b[0m \u001b[0mcopy\u001b[0m\u001b[0;34m:\u001b[0m \u001b[0mbool\u001b[0m \u001b[0;34m=\u001b[0m \u001b[0;32mFalse\u001b[0m\u001b[0;34m,\u001b[0m \u001b[0merrors\u001b[0m\u001b[0;34m:\u001b[0m \u001b[0mstr\u001b[0m \u001b[0;34m=\u001b[0m \u001b[0;34m\"raise\"\u001b[0m\u001b[0;34m)\u001b[0m \u001b[0;34m->\u001b[0m \u001b[0mT\u001b[0m\u001b[0;34m:\u001b[0m\u001b[0;34m\u001b[0m\u001b[0;34m\u001b[0m\u001b[0m\n\u001b[0;32m--> 418\u001b[0;31m         \u001b[0;32mreturn\u001b[0m \u001b[0mself\u001b[0m\u001b[0;34m.\u001b[0m\u001b[0mapply\u001b[0m\u001b[0;34m(\u001b[0m\u001b[0;34m\"astype\"\u001b[0m\u001b[0;34m,\u001b[0m \u001b[0mdtype\u001b[0m\u001b[0;34m=\u001b[0m\u001b[0mdtype\u001b[0m\u001b[0;34m,\u001b[0m \u001b[0mcopy\u001b[0m\u001b[0;34m=\u001b[0m\u001b[0mcopy\u001b[0m\u001b[0;34m,\u001b[0m \u001b[0merrors\u001b[0m\u001b[0;34m=\u001b[0m\u001b[0merrors\u001b[0m\u001b[0;34m)\u001b[0m\u001b[0;34m\u001b[0m\u001b[0;34m\u001b[0m\u001b[0m\n\u001b[0m\u001b[1;32m    419\u001b[0m \u001b[0;34m\u001b[0m\u001b[0m\n\u001b[1;32m    420\u001b[0m     def convert(\n",
            "\u001b[0;32m/usr/local/lib/python3.7/dist-packages/pandas/core/internals/managers.py\u001b[0m in \u001b[0;36mapply\u001b[0;34m(self, f, align_keys, ignore_failures, **kwargs)\u001b[0m\n\u001b[1;32m    325\u001b[0m                     \u001b[0mapplied\u001b[0m \u001b[0;34m=\u001b[0m \u001b[0mb\u001b[0m\u001b[0;34m.\u001b[0m\u001b[0mapply\u001b[0m\u001b[0;34m(\u001b[0m\u001b[0mf\u001b[0m\u001b[0;34m,\u001b[0m \u001b[0;34m**\u001b[0m\u001b[0mkwargs\u001b[0m\u001b[0;34m)\u001b[0m\u001b[0;34m\u001b[0m\u001b[0;34m\u001b[0m\u001b[0m\n\u001b[1;32m    326\u001b[0m                 \u001b[0;32melse\u001b[0m\u001b[0;34m:\u001b[0m\u001b[0;34m\u001b[0m\u001b[0;34m\u001b[0m\u001b[0m\n\u001b[0;32m--> 327\u001b[0;31m                     \u001b[0mapplied\u001b[0m \u001b[0;34m=\u001b[0m \u001b[0mgetattr\u001b[0m\u001b[0;34m(\u001b[0m\u001b[0mb\u001b[0m\u001b[0;34m,\u001b[0m \u001b[0mf\u001b[0m\u001b[0;34m)\u001b[0m\u001b[0;34m(\u001b[0m\u001b[0;34m**\u001b[0m\u001b[0mkwargs\u001b[0m\u001b[0;34m)\u001b[0m\u001b[0;34m\u001b[0m\u001b[0;34m\u001b[0m\u001b[0m\n\u001b[0m\u001b[1;32m    328\u001b[0m             \u001b[0;32mexcept\u001b[0m \u001b[0;34m(\u001b[0m\u001b[0mTypeError\u001b[0m\u001b[0;34m,\u001b[0m \u001b[0mNotImplementedError\u001b[0m\u001b[0;34m)\u001b[0m\u001b[0;34m:\u001b[0m\u001b[0;34m\u001b[0m\u001b[0;34m\u001b[0m\u001b[0m\n\u001b[1;32m    329\u001b[0m                 \u001b[0;32mif\u001b[0m \u001b[0;32mnot\u001b[0m \u001b[0mignore_failures\u001b[0m\u001b[0;34m:\u001b[0m\u001b[0;34m\u001b[0m\u001b[0;34m\u001b[0m\u001b[0m\n",
            "\u001b[0;32m/usr/local/lib/python3.7/dist-packages/pandas/core/internals/blocks.py\u001b[0m in \u001b[0;36mastype\u001b[0;34m(self, dtype, copy, errors)\u001b[0m\n\u001b[1;32m    589\u001b[0m         \u001b[0mvalues\u001b[0m \u001b[0;34m=\u001b[0m \u001b[0mself\u001b[0m\u001b[0;34m.\u001b[0m\u001b[0mvalues\u001b[0m\u001b[0;34m\u001b[0m\u001b[0;34m\u001b[0m\u001b[0m\n\u001b[1;32m    590\u001b[0m \u001b[0;34m\u001b[0m\u001b[0m\n\u001b[0;32m--> 591\u001b[0;31m         \u001b[0mnew_values\u001b[0m \u001b[0;34m=\u001b[0m \u001b[0mastype_array_safe\u001b[0m\u001b[0;34m(\u001b[0m\u001b[0mvalues\u001b[0m\u001b[0;34m,\u001b[0m \u001b[0mdtype\u001b[0m\u001b[0;34m,\u001b[0m \u001b[0mcopy\u001b[0m\u001b[0;34m=\u001b[0m\u001b[0mcopy\u001b[0m\u001b[0;34m,\u001b[0m \u001b[0merrors\u001b[0m\u001b[0;34m=\u001b[0m\u001b[0merrors\u001b[0m\u001b[0;34m)\u001b[0m\u001b[0;34m\u001b[0m\u001b[0;34m\u001b[0m\u001b[0m\n\u001b[0m\u001b[1;32m    592\u001b[0m \u001b[0;34m\u001b[0m\u001b[0m\n\u001b[1;32m    593\u001b[0m         \u001b[0mnew_values\u001b[0m \u001b[0;34m=\u001b[0m \u001b[0mmaybe_coerce_values\u001b[0m\u001b[0;34m(\u001b[0m\u001b[0mnew_values\u001b[0m\u001b[0;34m)\u001b[0m\u001b[0;34m\u001b[0m\u001b[0;34m\u001b[0m\u001b[0m\n",
            "\u001b[0;32m/usr/local/lib/python3.7/dist-packages/pandas/core/dtypes/cast.py\u001b[0m in \u001b[0;36mastype_array_safe\u001b[0;34m(values, dtype, copy, errors)\u001b[0m\n\u001b[1;32m   1307\u001b[0m \u001b[0;34m\u001b[0m\u001b[0m\n\u001b[1;32m   1308\u001b[0m     \u001b[0;32mtry\u001b[0m\u001b[0;34m:\u001b[0m\u001b[0;34m\u001b[0m\u001b[0;34m\u001b[0m\u001b[0m\n\u001b[0;32m-> 1309\u001b[0;31m         \u001b[0mnew_values\u001b[0m \u001b[0;34m=\u001b[0m \u001b[0mastype_array\u001b[0m\u001b[0;34m(\u001b[0m\u001b[0mvalues\u001b[0m\u001b[0;34m,\u001b[0m \u001b[0mdtype\u001b[0m\u001b[0;34m,\u001b[0m \u001b[0mcopy\u001b[0m\u001b[0;34m=\u001b[0m\u001b[0mcopy\u001b[0m\u001b[0;34m)\u001b[0m\u001b[0;34m\u001b[0m\u001b[0;34m\u001b[0m\u001b[0m\n\u001b[0m\u001b[1;32m   1310\u001b[0m     \u001b[0;32mexcept\u001b[0m \u001b[0;34m(\u001b[0m\u001b[0mValueError\u001b[0m\u001b[0;34m,\u001b[0m \u001b[0mTypeError\u001b[0m\u001b[0;34m)\u001b[0m\u001b[0;34m:\u001b[0m\u001b[0;34m\u001b[0m\u001b[0;34m\u001b[0m\u001b[0m\n\u001b[1;32m   1311\u001b[0m         \u001b[0;31m# e.g. astype_nansafe can fail on object-dtype of strings\u001b[0m\u001b[0;34m\u001b[0m\u001b[0;34m\u001b[0m\u001b[0;34m\u001b[0m\u001b[0m\n",
            "\u001b[0;32m/usr/local/lib/python3.7/dist-packages/pandas/core/dtypes/cast.py\u001b[0m in \u001b[0;36mastype_array\u001b[0;34m(values, dtype, copy)\u001b[0m\n\u001b[1;32m   1255\u001b[0m \u001b[0;34m\u001b[0m\u001b[0m\n\u001b[1;32m   1256\u001b[0m     \u001b[0;32melse\u001b[0m\u001b[0;34m:\u001b[0m\u001b[0;34m\u001b[0m\u001b[0;34m\u001b[0m\u001b[0m\n\u001b[0;32m-> 1257\u001b[0;31m         \u001b[0mvalues\u001b[0m \u001b[0;34m=\u001b[0m \u001b[0mastype_nansafe\u001b[0m\u001b[0;34m(\u001b[0m\u001b[0mvalues\u001b[0m\u001b[0;34m,\u001b[0m \u001b[0mdtype\u001b[0m\u001b[0;34m,\u001b[0m \u001b[0mcopy\u001b[0m\u001b[0;34m=\u001b[0m\u001b[0mcopy\u001b[0m\u001b[0;34m)\u001b[0m\u001b[0;34m\u001b[0m\u001b[0;34m\u001b[0m\u001b[0m\n\u001b[0m\u001b[1;32m   1258\u001b[0m \u001b[0;34m\u001b[0m\u001b[0m\n\u001b[1;32m   1259\u001b[0m     \u001b[0;31m# in pandas we don't store numpy str dtypes, so convert to object\u001b[0m\u001b[0;34m\u001b[0m\u001b[0;34m\u001b[0m\u001b[0;34m\u001b[0m\u001b[0m\n",
            "\u001b[0;32m/usr/local/lib/python3.7/dist-packages/pandas/core/dtypes/cast.py\u001b[0m in \u001b[0;36mastype_nansafe\u001b[0;34m(arr, dtype, copy, skipna)\u001b[0m\n\u001b[1;32m   1199\u001b[0m     \u001b[0;32mif\u001b[0m \u001b[0mcopy\u001b[0m \u001b[0;32mor\u001b[0m \u001b[0mis_object_dtype\u001b[0m\u001b[0;34m(\u001b[0m\u001b[0marr\u001b[0m\u001b[0;34m.\u001b[0m\u001b[0mdtype\u001b[0m\u001b[0;34m)\u001b[0m \u001b[0;32mor\u001b[0m \u001b[0mis_object_dtype\u001b[0m\u001b[0;34m(\u001b[0m\u001b[0mdtype\u001b[0m\u001b[0;34m)\u001b[0m\u001b[0;34m:\u001b[0m\u001b[0;34m\u001b[0m\u001b[0;34m\u001b[0m\u001b[0m\n\u001b[1;32m   1200\u001b[0m         \u001b[0;31m# Explicit copy, or required since NumPy can't view from / to object.\u001b[0m\u001b[0;34m\u001b[0m\u001b[0;34m\u001b[0m\u001b[0;34m\u001b[0m\u001b[0m\n\u001b[0;32m-> 1201\u001b[0;31m         \u001b[0;32mreturn\u001b[0m \u001b[0marr\u001b[0m\u001b[0;34m.\u001b[0m\u001b[0mastype\u001b[0m\u001b[0;34m(\u001b[0m\u001b[0mdtype\u001b[0m\u001b[0;34m,\u001b[0m \u001b[0mcopy\u001b[0m\u001b[0;34m=\u001b[0m\u001b[0;32mTrue\u001b[0m\u001b[0;34m)\u001b[0m\u001b[0;34m\u001b[0m\u001b[0;34m\u001b[0m\u001b[0m\n\u001b[0m\u001b[1;32m   1202\u001b[0m \u001b[0;34m\u001b[0m\u001b[0m\n\u001b[1;32m   1203\u001b[0m     \u001b[0;32mreturn\u001b[0m \u001b[0marr\u001b[0m\u001b[0;34m.\u001b[0m\u001b[0mastype\u001b[0m\u001b[0;34m(\u001b[0m\u001b[0mdtype\u001b[0m\u001b[0;34m,\u001b[0m \u001b[0mcopy\u001b[0m\u001b[0;34m=\u001b[0m\u001b[0mcopy\u001b[0m\u001b[0;34m)\u001b[0m\u001b[0;34m\u001b[0m\u001b[0;34m\u001b[0m\u001b[0m\n",
            "\u001b[0;31mValueError\u001b[0m: could not convert string to float: '[56]'"
          ]
        }
      ]
    },
    {
      "cell_type": "code",
      "source": [
        "T.columns[:3]"
      ],
      "metadata": {
        "colab": {
          "base_uri": "https://localhost:8080/"
        },
        "id": "8ljYZi1I5C3e",
        "outputId": "559f847d-567f-4c33-a9d2-fcdd6fc19794"
      },
      "execution_count": null,
      "outputs": [
        {
          "output_type": "execute_result",
          "data": {
            "text/plain": [
              "Index([' ', ' .1', 'Rank Indicators'], dtype='object')"
            ]
          },
          "metadata": {},
          "execution_count": 51
        }
      ]
    },
    {
      "cell_type": "code",
      "source": [
        "v = T.iloc[:,0].str.contains('^[0-9]{1}[.]{1}$',regex=True)"
      ],
      "metadata": {
        "id": "3bD8j2G_wpQC"
      },
      "execution_count": null,
      "outputs": []
    },
    {
      "cell_type": "code",
      "source": [
        "np.sum(v)"
      ],
      "metadata": {
        "colab": {
          "base_uri": "https://localhost:8080/"
        },
        "id": "vvJSKQ2J0xTk",
        "outputId": "2150cf79-8708-4275-cb56-f3ccf688dc65"
      },
      "execution_count": null,
      "outputs": [
        {
          "output_type": "execute_result",
          "data": {
            "text/plain": [
              "7"
            ]
          },
          "metadata": {},
          "execution_count": 53
        }
      ]
    },
    {
      "cell_type": "code",
      "source": [
        "components"
      ],
      "metadata": {
        "colab": {
          "base_uri": "https://localhost:8080/"
        },
        "id": "r9U0ZyBH5nOc",
        "outputId": "1b28ab87-a960-4d74-8291-56fe782b05e5"
      },
      "execution_count": null,
      "outputs": [
        {
          "output_type": "execute_result",
          "data": {
            "text/plain": [
              "['Institutions',\n",
              " 'Human capital and research',\n",
              " 'Infrastructure',\n",
              " 'Market sophistication',\n",
              " 'Business sophistication',\n",
              " 'Knowledge and technology outputs',\n",
              " 'Creative outputs']"
            ]
          },
          "metadata": {},
          "execution_count": 54
        }
      ]
    },
    {
      "cell_type": "code",
      "source": [
        "components = list(T.loc[v,' .1'])\n",
        "A = T.loc[v,:]\n",
        "A = A.iloc[:,3:152]\n",
        "X = A.values\n",
        "A.index = components\n",
        "A"
      ],
      "metadata": {
        "colab": {
          "base_uri": "https://localhost:8080/",
          "height": 553
        },
        "id": "-zTWINU31hH5",
        "outputId": "48840f4f-35e2-41b9-807a-5a3af8ea855d"
      },
      "execution_count": null,
      "outputs": [
        {
          "output_type": "execute_result",
          "data": {
            "text/plain": [
              "                                  Albania  Algeria  Angola  Argentina  \\\n",
              "Institutions                         73.0    118.0   136.0      106.0   \n",
              "Human capital and research           84.0     79.0   126.0       51.0   \n",
              "Infrastructure                       75.0     93.0   129.0       63.0   \n",
              "Market sophistication                32.0    114.0   121.0      120.0   \n",
              "Business sophistication             128.0    139.0   141.0       55.0   \n",
              "Knowledge and technology outputs    108.0    115.0    62.0       74.0   \n",
              "Creative outputs                    121.0    140.0   137.0       29.0   \n",
              "\n",
              "                                  Armenia  Australia  Austria  Azerbaijan  \\\n",
              "Institutions                         57.0       11.0     13.0        99.0   \n",
              "Human capital and research           71.0       11.0     10.0        94.0   \n",
              "Infrastructure                       97.0       16.0     21.0        99.0   \n",
              "Market sophistication                48.0        9.0     24.0        55.0   \n",
              "Business sophistication              84.0       18.0     29.0       118.0   \n",
              "Knowledge and technology outputs     58.0       46.0     30.0       126.0   \n",
              "Creative outputs                     53.0       17.0     18.0        94.0   \n",
              "\n",
              "                                  Bahrain  Bangladesh  ...  \\\n",
              "Institutions                         46.0       127.0  ...   \n",
              "Human capital and research           82.0       138.0  ...   \n",
              "Infrastructure                       45.0       109.0  ...   \n",
              "Market sophistication                59.0       126.0  ...   \n",
              "Business sophistication              43.0       138.0  ...   \n",
              "Knowledge and technology outputs     72.0        80.0  ...   \n",
              "Creative outputs                    111.0       131.0  ...   \n",
              "\n",
              "                                  United Arab Emirates  United Kingdom  \\\n",
              "Institutions                                      33.0            14.0   \n",
              "Human capital and research                        24.0            13.0   \n",
              "Infrastructure                                    22.0             5.0   \n",
              "Market sophistication                             63.0             3.0   \n",
              "Business sophistication                           22.0            10.0   \n",
              "Knowledge and technology outputs                 131.0             8.0   \n",
              "Creative outputs                                  28.0             9.0   \n",
              "\n",
              "                                  United States of America  Uruguay  \\\n",
              "Institutions                                          17.0     45.0   \n",
              "Human capital and research                             6.0     69.0   \n",
              "Infrastructure                                        17.0     53.0   \n",
              "Market sophistication                                  2.0    119.0   \n",
              "Business sophistication                                2.0     77.0   \n",
              "Knowledge and technology outputs                       7.0     82.0   \n",
              "Creative outputs                                      19.0     36.0   \n",
              "\n",
              "                                  Uzbekistan  \\\n",
              "Institutions                           126.0   \n",
              "Human capital and research              86.0   \n",
              "Infrastructure                         111.0   \n",
              "Market sophistication                  108.0   \n",
              "Business sophistication                122.0   \n",
              "Knowledge and technology outputs        69.0   \n",
              "Creative outputs                       141.0   \n",
              "\n",
              "                                  Venezuela, Bolivarian Republic of  Viet Nam  \\\n",
              "Institutions                                                  142.0     122.0   \n",
              "Human capital and research                                     91.0      98.0   \n",
              "Infrastructure                                                 86.0      80.0   \n",
              "Market sophistication                                         142.0      73.0   \n",
              "Business sophistication                                        58.0      67.0   \n",
              "Knowledge and technology outputs                               73.0      51.0   \n",
              "Creative outputs                                              113.0      66.0   \n",
              "\n",
              "                                  Yemen  Zambia  Zimbabwe  \n",
              "Institutions                      137.0   111.0     141.0  \n",
              "Human capital and research        111.0   142.0     136.0  \n",
              "Infrastructure                    135.0   124.0     132.0  \n",
              "Market sophistication             130.0    68.0     102.0  \n",
              "Business sophistication           142.0   129.0      76.0  \n",
              "Knowledge and technology outputs  130.0    71.0     128.0  \n",
              "Creative outputs                  138.0   126.0      93.0  \n",
              "\n",
              "[7 rows x 149 columns]"
            ],
            "text/html": [
              "\n",
              "  <div id=\"df-e3452ecf-36f7-422b-abc8-61312e237cb3\">\n",
              "    <div class=\"colab-df-container\">\n",
              "      <div>\n",
              "<style scoped>\n",
              "    .dataframe tbody tr th:only-of-type {\n",
              "        vertical-align: middle;\n",
              "    }\n",
              "\n",
              "    .dataframe tbody tr th {\n",
              "        vertical-align: top;\n",
              "    }\n",
              "\n",
              "    .dataframe thead th {\n",
              "        text-align: right;\n",
              "    }\n",
              "</style>\n",
              "<table border=\"1\" class=\"dataframe\">\n",
              "  <thead>\n",
              "    <tr style=\"text-align: right;\">\n",
              "      <th></th>\n",
              "      <th>Albania</th>\n",
              "      <th>Algeria</th>\n",
              "      <th>Angola</th>\n",
              "      <th>Argentina</th>\n",
              "      <th>Armenia</th>\n",
              "      <th>Australia</th>\n",
              "      <th>Austria</th>\n",
              "      <th>Azerbaijan</th>\n",
              "      <th>Bahrain</th>\n",
              "      <th>Bangladesh</th>\n",
              "      <th>...</th>\n",
              "      <th>United Arab Emirates</th>\n",
              "      <th>United Kingdom</th>\n",
              "      <th>United States of America</th>\n",
              "      <th>Uruguay</th>\n",
              "      <th>Uzbekistan</th>\n",
              "      <th>Venezuela, Bolivarian Republic of</th>\n",
              "      <th>Viet Nam</th>\n",
              "      <th>Yemen</th>\n",
              "      <th>Zambia</th>\n",
              "      <th>Zimbabwe</th>\n",
              "    </tr>\n",
              "  </thead>\n",
              "  <tbody>\n",
              "    <tr>\n",
              "      <th>Institutions</th>\n",
              "      <td>73.0</td>\n",
              "      <td>118.0</td>\n",
              "      <td>136.0</td>\n",
              "      <td>106.0</td>\n",
              "      <td>57.0</td>\n",
              "      <td>11.0</td>\n",
              "      <td>13.0</td>\n",
              "      <td>99.0</td>\n",
              "      <td>46.0</td>\n",
              "      <td>127.0</td>\n",
              "      <td>...</td>\n",
              "      <td>33.0</td>\n",
              "      <td>14.0</td>\n",
              "      <td>17.0</td>\n",
              "      <td>45.0</td>\n",
              "      <td>126.0</td>\n",
              "      <td>142.0</td>\n",
              "      <td>122.0</td>\n",
              "      <td>137.0</td>\n",
              "      <td>111.0</td>\n",
              "      <td>141.0</td>\n",
              "    </tr>\n",
              "    <tr>\n",
              "      <th>Human capital and research</th>\n",
              "      <td>84.0</td>\n",
              "      <td>79.0</td>\n",
              "      <td>126.0</td>\n",
              "      <td>51.0</td>\n",
              "      <td>71.0</td>\n",
              "      <td>11.0</td>\n",
              "      <td>10.0</td>\n",
              "      <td>94.0</td>\n",
              "      <td>82.0</td>\n",
              "      <td>138.0</td>\n",
              "      <td>...</td>\n",
              "      <td>24.0</td>\n",
              "      <td>13.0</td>\n",
              "      <td>6.0</td>\n",
              "      <td>69.0</td>\n",
              "      <td>86.0</td>\n",
              "      <td>91.0</td>\n",
              "      <td>98.0</td>\n",
              "      <td>111.0</td>\n",
              "      <td>142.0</td>\n",
              "      <td>136.0</td>\n",
              "    </tr>\n",
              "    <tr>\n",
              "      <th>Infrastructure</th>\n",
              "      <td>75.0</td>\n",
              "      <td>93.0</td>\n",
              "      <td>129.0</td>\n",
              "      <td>63.0</td>\n",
              "      <td>97.0</td>\n",
              "      <td>16.0</td>\n",
              "      <td>21.0</td>\n",
              "      <td>99.0</td>\n",
              "      <td>45.0</td>\n",
              "      <td>109.0</td>\n",
              "      <td>...</td>\n",
              "      <td>22.0</td>\n",
              "      <td>5.0</td>\n",
              "      <td>17.0</td>\n",
              "      <td>53.0</td>\n",
              "      <td>111.0</td>\n",
              "      <td>86.0</td>\n",
              "      <td>80.0</td>\n",
              "      <td>135.0</td>\n",
              "      <td>124.0</td>\n",
              "      <td>132.0</td>\n",
              "    </tr>\n",
              "    <tr>\n",
              "      <th>Market sophistication</th>\n",
              "      <td>32.0</td>\n",
              "      <td>114.0</td>\n",
              "      <td>121.0</td>\n",
              "      <td>120.0</td>\n",
              "      <td>48.0</td>\n",
              "      <td>9.0</td>\n",
              "      <td>24.0</td>\n",
              "      <td>55.0</td>\n",
              "      <td>59.0</td>\n",
              "      <td>126.0</td>\n",
              "      <td>...</td>\n",
              "      <td>63.0</td>\n",
              "      <td>3.0</td>\n",
              "      <td>2.0</td>\n",
              "      <td>119.0</td>\n",
              "      <td>108.0</td>\n",
              "      <td>142.0</td>\n",
              "      <td>73.0</td>\n",
              "      <td>130.0</td>\n",
              "      <td>68.0</td>\n",
              "      <td>102.0</td>\n",
              "    </tr>\n",
              "    <tr>\n",
              "      <th>Business sophistication</th>\n",
              "      <td>128.0</td>\n",
              "      <td>139.0</td>\n",
              "      <td>141.0</td>\n",
              "      <td>55.0</td>\n",
              "      <td>84.0</td>\n",
              "      <td>18.0</td>\n",
              "      <td>29.0</td>\n",
              "      <td>118.0</td>\n",
              "      <td>43.0</td>\n",
              "      <td>138.0</td>\n",
              "      <td>...</td>\n",
              "      <td>22.0</td>\n",
              "      <td>10.0</td>\n",
              "      <td>2.0</td>\n",
              "      <td>77.0</td>\n",
              "      <td>122.0</td>\n",
              "      <td>58.0</td>\n",
              "      <td>67.0</td>\n",
              "      <td>142.0</td>\n",
              "      <td>129.0</td>\n",
              "      <td>76.0</td>\n",
              "    </tr>\n",
              "    <tr>\n",
              "      <th>Knowledge and technology outputs</th>\n",
              "      <td>108.0</td>\n",
              "      <td>115.0</td>\n",
              "      <td>62.0</td>\n",
              "      <td>74.0</td>\n",
              "      <td>58.0</td>\n",
              "      <td>46.0</td>\n",
              "      <td>30.0</td>\n",
              "      <td>126.0</td>\n",
              "      <td>72.0</td>\n",
              "      <td>80.0</td>\n",
              "      <td>...</td>\n",
              "      <td>131.0</td>\n",
              "      <td>8.0</td>\n",
              "      <td>7.0</td>\n",
              "      <td>82.0</td>\n",
              "      <td>69.0</td>\n",
              "      <td>73.0</td>\n",
              "      <td>51.0</td>\n",
              "      <td>130.0</td>\n",
              "      <td>71.0</td>\n",
              "      <td>128.0</td>\n",
              "    </tr>\n",
              "    <tr>\n",
              "      <th>Creative outputs</th>\n",
              "      <td>121.0</td>\n",
              "      <td>140.0</td>\n",
              "      <td>137.0</td>\n",
              "      <td>29.0</td>\n",
              "      <td>53.0</td>\n",
              "      <td>17.0</td>\n",
              "      <td>18.0</td>\n",
              "      <td>94.0</td>\n",
              "      <td>111.0</td>\n",
              "      <td>131.0</td>\n",
              "      <td>...</td>\n",
              "      <td>28.0</td>\n",
              "      <td>9.0</td>\n",
              "      <td>19.0</td>\n",
              "      <td>36.0</td>\n",
              "      <td>141.0</td>\n",
              "      <td>113.0</td>\n",
              "      <td>66.0</td>\n",
              "      <td>138.0</td>\n",
              "      <td>126.0</td>\n",
              "      <td>93.0</td>\n",
              "    </tr>\n",
              "  </tbody>\n",
              "</table>\n",
              "<p>7 rows × 149 columns</p>\n",
              "</div>\n",
              "      <button class=\"colab-df-convert\" onclick=\"convertToInteractive('df-e3452ecf-36f7-422b-abc8-61312e237cb3')\"\n",
              "              title=\"Convert this dataframe to an interactive table.\"\n",
              "              style=\"display:none;\">\n",
              "        \n",
              "  <svg xmlns=\"http://www.w3.org/2000/svg\" height=\"24px\"viewBox=\"0 0 24 24\"\n",
              "       width=\"24px\">\n",
              "    <path d=\"M0 0h24v24H0V0z\" fill=\"none\"/>\n",
              "    <path d=\"M18.56 5.44l.94 2.06.94-2.06 2.06-.94-2.06-.94-.94-2.06-.94 2.06-2.06.94zm-11 1L8.5 8.5l.94-2.06 2.06-.94-2.06-.94L8.5 2.5l-.94 2.06-2.06.94zm10 10l.94 2.06.94-2.06 2.06-.94-2.06-.94-.94-2.06-.94 2.06-2.06.94z\"/><path d=\"M17.41 7.96l-1.37-1.37c-.4-.4-.92-.59-1.43-.59-.52 0-1.04.2-1.43.59L10.3 9.45l-7.72 7.72c-.78.78-.78 2.05 0 2.83L4 21.41c.39.39.9.59 1.41.59.51 0 1.02-.2 1.41-.59l7.78-7.78 2.81-2.81c.8-.78.8-2.07 0-2.86zM5.41 20L4 18.59l7.72-7.72 1.47 1.35L5.41 20z\"/>\n",
              "  </svg>\n",
              "      </button>\n",
              "      \n",
              "  <style>\n",
              "    .colab-df-container {\n",
              "      display:flex;\n",
              "      flex-wrap:wrap;\n",
              "      gap: 12px;\n",
              "    }\n",
              "\n",
              "    .colab-df-convert {\n",
              "      background-color: #E8F0FE;\n",
              "      border: none;\n",
              "      border-radius: 50%;\n",
              "      cursor: pointer;\n",
              "      display: none;\n",
              "      fill: #1967D2;\n",
              "      height: 32px;\n",
              "      padding: 0 0 0 0;\n",
              "      width: 32px;\n",
              "    }\n",
              "\n",
              "    .colab-df-convert:hover {\n",
              "      background-color: #E2EBFA;\n",
              "      box-shadow: 0px 1px 2px rgba(60, 64, 67, 0.3), 0px 1px 3px 1px rgba(60, 64, 67, 0.15);\n",
              "      fill: #174EA6;\n",
              "    }\n",
              "\n",
              "    [theme=dark] .colab-df-convert {\n",
              "      background-color: #3B4455;\n",
              "      fill: #D2E3FC;\n",
              "    }\n",
              "\n",
              "    [theme=dark] .colab-df-convert:hover {\n",
              "      background-color: #434B5C;\n",
              "      box-shadow: 0px 1px 3px 1px rgba(0, 0, 0, 0.15);\n",
              "      filter: drop-shadow(0px 1px 2px rgba(0, 0, 0, 0.3));\n",
              "      fill: #FFFFFF;\n",
              "    }\n",
              "  </style>\n",
              "\n",
              "      <script>\n",
              "        const buttonEl =\n",
              "          document.querySelector('#df-e3452ecf-36f7-422b-abc8-61312e237cb3 button.colab-df-convert');\n",
              "        buttonEl.style.display =\n",
              "          google.colab.kernel.accessAllowed ? 'block' : 'none';\n",
              "\n",
              "        async function convertToInteractive(key) {\n",
              "          const element = document.querySelector('#df-e3452ecf-36f7-422b-abc8-61312e237cb3');\n",
              "          const dataTable =\n",
              "            await google.colab.kernel.invokeFunction('convertToInteractive',\n",
              "                                                     [key], {});\n",
              "          if (!dataTable) return;\n",
              "\n",
              "          const docLinkHtml = 'Like what you see? Visit the ' +\n",
              "            '<a target=\"_blank\" href=https://colab.research.google.com/notebooks/data_table.ipynb>data table notebook</a>'\n",
              "            + ' to learn more about interactive tables.';\n",
              "          element.innerHTML = '';\n",
              "          dataTable['output_type'] = 'display_data';\n",
              "          await google.colab.output.renderOutput(dataTable, element);\n",
              "          const docLink = document.createElement('div');\n",
              "          docLink.innerHTML = docLinkHtml;\n",
              "          element.appendChild(docLink);\n",
              "        }\n",
              "      </script>\n",
              "    </div>\n",
              "  </div>\n",
              "  "
            ]
          },
          "metadata": {},
          "execution_count": 55
        }
      ]
    },
    {
      "cell_type": "code",
      "source": [
        "gii = T.iloc[1,3:152]\n",
        "gii = gii.to_frame(name = 'GII').transpose()\n",
        "gii\n"
      ],
      "metadata": {
        "colab": {
          "base_uri": "https://localhost:8080/",
          "height": 226
        },
        "id": "qW3TOyR64Sut",
        "outputId": "a73ff2ed-217f-4d65-c7ac-0db994ed442d"
      },
      "execution_count": null,
      "outputs": [
        {
          "output_type": "execute_result",
          "data": {
            "text/plain": [
              "    Albania Algeria Angola Argentina Armenia Australia Austria Azerbaijan  \\\n",
              "GII    93.0   138.0  135.0      56.0    59.0      19.0    23.0      105.0   \n",
              "\n",
              "    Bahrain Bangladesh  ... United Arab Emirates United Kingdom  \\\n",
              "GII    67.0      130.0  ...                 38.0            3.0   \n",
              "\n",
              "    United States of America Uruguay Uzbekistan  \\\n",
              "GII                      5.0    52.0      133.0   \n",
              "\n",
              "    Venezuela, Bolivarian Republic of Viet Nam  Yemen Zambia Zimbabwe  \n",
              "GII                             114.0     76.0  142.0  118.0    132.0  \n",
              "\n",
              "[1 rows x 149 columns]"
            ],
            "text/html": [
              "\n",
              "  <div id=\"df-247bb7f0-c281-424f-91a2-27bd0e9d68f6\">\n",
              "    <div class=\"colab-df-container\">\n",
              "      <div>\n",
              "<style scoped>\n",
              "    .dataframe tbody tr th:only-of-type {\n",
              "        vertical-align: middle;\n",
              "    }\n",
              "\n",
              "    .dataframe tbody tr th {\n",
              "        vertical-align: top;\n",
              "    }\n",
              "\n",
              "    .dataframe thead th {\n",
              "        text-align: right;\n",
              "    }\n",
              "</style>\n",
              "<table border=\"1\" class=\"dataframe\">\n",
              "  <thead>\n",
              "    <tr style=\"text-align: right;\">\n",
              "      <th></th>\n",
              "      <th>Albania</th>\n",
              "      <th>Algeria</th>\n",
              "      <th>Angola</th>\n",
              "      <th>Argentina</th>\n",
              "      <th>Armenia</th>\n",
              "      <th>Australia</th>\n",
              "      <th>Austria</th>\n",
              "      <th>Azerbaijan</th>\n",
              "      <th>Bahrain</th>\n",
              "      <th>Bangladesh</th>\n",
              "      <th>...</th>\n",
              "      <th>United Arab Emirates</th>\n",
              "      <th>United Kingdom</th>\n",
              "      <th>United States of America</th>\n",
              "      <th>Uruguay</th>\n",
              "      <th>Uzbekistan</th>\n",
              "      <th>Venezuela, Bolivarian Republic of</th>\n",
              "      <th>Viet Nam</th>\n",
              "      <th>Yemen</th>\n",
              "      <th>Zambia</th>\n",
              "      <th>Zimbabwe</th>\n",
              "    </tr>\n",
              "  </thead>\n",
              "  <tbody>\n",
              "    <tr>\n",
              "      <th>GII</th>\n",
              "      <td>93.0</td>\n",
              "      <td>138.0</td>\n",
              "      <td>135.0</td>\n",
              "      <td>56.0</td>\n",
              "      <td>59.0</td>\n",
              "      <td>19.0</td>\n",
              "      <td>23.0</td>\n",
              "      <td>105.0</td>\n",
              "      <td>67.0</td>\n",
              "      <td>130.0</td>\n",
              "      <td>...</td>\n",
              "      <td>38.0</td>\n",
              "      <td>3.0</td>\n",
              "      <td>5.0</td>\n",
              "      <td>52.0</td>\n",
              "      <td>133.0</td>\n",
              "      <td>114.0</td>\n",
              "      <td>76.0</td>\n",
              "      <td>142.0</td>\n",
              "      <td>118.0</td>\n",
              "      <td>132.0</td>\n",
              "    </tr>\n",
              "  </tbody>\n",
              "</table>\n",
              "<p>1 rows × 149 columns</p>\n",
              "</div>\n",
              "      <button class=\"colab-df-convert\" onclick=\"convertToInteractive('df-247bb7f0-c281-424f-91a2-27bd0e9d68f6')\"\n",
              "              title=\"Convert this dataframe to an interactive table.\"\n",
              "              style=\"display:none;\">\n",
              "        \n",
              "  <svg xmlns=\"http://www.w3.org/2000/svg\" height=\"24px\"viewBox=\"0 0 24 24\"\n",
              "       width=\"24px\">\n",
              "    <path d=\"M0 0h24v24H0V0z\" fill=\"none\"/>\n",
              "    <path d=\"M18.56 5.44l.94 2.06.94-2.06 2.06-.94-2.06-.94-.94-2.06-.94 2.06-2.06.94zm-11 1L8.5 8.5l.94-2.06 2.06-.94-2.06-.94L8.5 2.5l-.94 2.06-2.06.94zm10 10l.94 2.06.94-2.06 2.06-.94-2.06-.94-.94-2.06-.94 2.06-2.06.94z\"/><path d=\"M17.41 7.96l-1.37-1.37c-.4-.4-.92-.59-1.43-.59-.52 0-1.04.2-1.43.59L10.3 9.45l-7.72 7.72c-.78.78-.78 2.05 0 2.83L4 21.41c.39.39.9.59 1.41.59.51 0 1.02-.2 1.41-.59l7.78-7.78 2.81-2.81c.8-.78.8-2.07 0-2.86zM5.41 20L4 18.59l7.72-7.72 1.47 1.35L5.41 20z\"/>\n",
              "  </svg>\n",
              "      </button>\n",
              "      \n",
              "  <style>\n",
              "    .colab-df-container {\n",
              "      display:flex;\n",
              "      flex-wrap:wrap;\n",
              "      gap: 12px;\n",
              "    }\n",
              "\n",
              "    .colab-df-convert {\n",
              "      background-color: #E8F0FE;\n",
              "      border: none;\n",
              "      border-radius: 50%;\n",
              "      cursor: pointer;\n",
              "      display: none;\n",
              "      fill: #1967D2;\n",
              "      height: 32px;\n",
              "      padding: 0 0 0 0;\n",
              "      width: 32px;\n",
              "    }\n",
              "\n",
              "    .colab-df-convert:hover {\n",
              "      background-color: #E2EBFA;\n",
              "      box-shadow: 0px 1px 2px rgba(60, 64, 67, 0.3), 0px 1px 3px 1px rgba(60, 64, 67, 0.15);\n",
              "      fill: #174EA6;\n",
              "    }\n",
              "\n",
              "    [theme=dark] .colab-df-convert {\n",
              "      background-color: #3B4455;\n",
              "      fill: #D2E3FC;\n",
              "    }\n",
              "\n",
              "    [theme=dark] .colab-df-convert:hover {\n",
              "      background-color: #434B5C;\n",
              "      box-shadow: 0px 1px 3px 1px rgba(0, 0, 0, 0.15);\n",
              "      filter: drop-shadow(0px 1px 2px rgba(0, 0, 0, 0.3));\n",
              "      fill: #FFFFFF;\n",
              "    }\n",
              "  </style>\n",
              "\n",
              "      <script>\n",
              "        const buttonEl =\n",
              "          document.querySelector('#df-247bb7f0-c281-424f-91a2-27bd0e9d68f6 button.colab-df-convert');\n",
              "        buttonEl.style.display =\n",
              "          google.colab.kernel.accessAllowed ? 'block' : 'none';\n",
              "\n",
              "        async function convertToInteractive(key) {\n",
              "          const element = document.querySelector('#df-247bb7f0-c281-424f-91a2-27bd0e9d68f6');\n",
              "          const dataTable =\n",
              "            await google.colab.kernel.invokeFunction('convertToInteractive',\n",
              "                                                     [key], {});\n",
              "          if (!dataTable) return;\n",
              "\n",
              "          const docLinkHtml = 'Like what you see? Visit the ' +\n",
              "            '<a target=\"_blank\" href=https://colab.research.google.com/notebooks/data_table.ipynb>data table notebook</a>'\n",
              "            + ' to learn more about interactive tables.';\n",
              "          element.innerHTML = '';\n",
              "          dataTable['output_type'] = 'display_data';\n",
              "          await google.colab.output.renderOutput(dataTable, element);\n",
              "          const docLink = document.createElement('div');\n",
              "          docLink.innerHTML = docLinkHtml;\n",
              "          element.appendChild(docLink);\n",
              "        }\n",
              "      </script>\n",
              "    </div>\n",
              "  </div>\n",
              "  "
            ]
          },
          "metadata": {},
          "execution_count": 56
        }
      ]
    },
    {
      "cell_type": "code",
      "source": [
        "F = pd.concat((A,gii),axis=0)\n",
        "F = F.transpose()\n",
        "F\n",
        "F.columns = ['Institutions','HumanCapital','Infrastructure','Market','Business','Knowledge','Creative','GII']"
      ],
      "metadata": {
        "id": "NrdQiKn-17gn"
      },
      "execution_count": null,
      "outputs": []
    },
    {
      "cell_type": "code",
      "source": [
        "import statsmodels.api as sm\n",
        "from statsmodels.formula.api import ols"
      ],
      "metadata": {
        "id": "wI9SuErJ2qvn"
      },
      "execution_count": null,
      "outputs": []
    },
    {
      "cell_type": "code",
      "source": [
        "F = F.dropna()\n",
        "F.shape"
      ],
      "metadata": {
        "colab": {
          "base_uri": "https://localhost:8080/"
        },
        "id": "PyjNJ7C1-eGr",
        "outputId": "95ea4144-cdc3-4cf3-c6e1-3cdc3c0931b5"
      },
      "execution_count": null,
      "outputs": [
        {
          "output_type": "execute_result",
          "data": {
            "text/plain": [
              "(142, 8)"
            ]
          },
          "metadata": {},
          "execution_count": 59
        }
      ]
    },
    {
      "cell_type": "code",
      "source": [
        "F.head()"
      ],
      "metadata": {
        "colab": {
          "base_uri": "https://localhost:8080/",
          "height": 206
        },
        "id": "SsrgaTt1--qH",
        "outputId": "51bb108e-8740-4ebc-f445-e678f216cbee"
      },
      "execution_count": null,
      "outputs": [
        {
          "output_type": "execute_result",
          "data": {
            "text/plain": [
              "          Institutions HumanCapital Infrastructure Market Business Knowledge  \\\n",
              "Albania           73.0         84.0           75.0   32.0    128.0     108.0   \n",
              "Algeria          118.0         79.0           93.0  114.0    139.0     115.0   \n",
              "Angola           136.0        126.0          129.0  121.0    141.0      62.0   \n",
              "Argentina        106.0         51.0           63.0  120.0     55.0      74.0   \n",
              "Armenia           57.0         71.0           97.0   48.0     84.0      58.0   \n",
              "\n",
              "          Creative    GII  \n",
              "Albania      121.0   93.0  \n",
              "Algeria      140.0  138.0  \n",
              "Angola       137.0  135.0  \n",
              "Argentina     29.0   56.0  \n",
              "Armenia       53.0   59.0  "
            ],
            "text/html": [
              "\n",
              "  <div id=\"df-9ed08640-84c1-4535-882e-fa72ad85d7e3\">\n",
              "    <div class=\"colab-df-container\">\n",
              "      <div>\n",
              "<style scoped>\n",
              "    .dataframe tbody tr th:only-of-type {\n",
              "        vertical-align: middle;\n",
              "    }\n",
              "\n",
              "    .dataframe tbody tr th {\n",
              "        vertical-align: top;\n",
              "    }\n",
              "\n",
              "    .dataframe thead th {\n",
              "        text-align: right;\n",
              "    }\n",
              "</style>\n",
              "<table border=\"1\" class=\"dataframe\">\n",
              "  <thead>\n",
              "    <tr style=\"text-align: right;\">\n",
              "      <th></th>\n",
              "      <th>Institutions</th>\n",
              "      <th>HumanCapital</th>\n",
              "      <th>Infrastructure</th>\n",
              "      <th>Market</th>\n",
              "      <th>Business</th>\n",
              "      <th>Knowledge</th>\n",
              "      <th>Creative</th>\n",
              "      <th>GII</th>\n",
              "    </tr>\n",
              "  </thead>\n",
              "  <tbody>\n",
              "    <tr>\n",
              "      <th>Albania</th>\n",
              "      <td>73.0</td>\n",
              "      <td>84.0</td>\n",
              "      <td>75.0</td>\n",
              "      <td>32.0</td>\n",
              "      <td>128.0</td>\n",
              "      <td>108.0</td>\n",
              "      <td>121.0</td>\n",
              "      <td>93.0</td>\n",
              "    </tr>\n",
              "    <tr>\n",
              "      <th>Algeria</th>\n",
              "      <td>118.0</td>\n",
              "      <td>79.0</td>\n",
              "      <td>93.0</td>\n",
              "      <td>114.0</td>\n",
              "      <td>139.0</td>\n",
              "      <td>115.0</td>\n",
              "      <td>140.0</td>\n",
              "      <td>138.0</td>\n",
              "    </tr>\n",
              "    <tr>\n",
              "      <th>Angola</th>\n",
              "      <td>136.0</td>\n",
              "      <td>126.0</td>\n",
              "      <td>129.0</td>\n",
              "      <td>121.0</td>\n",
              "      <td>141.0</td>\n",
              "      <td>62.0</td>\n",
              "      <td>137.0</td>\n",
              "      <td>135.0</td>\n",
              "    </tr>\n",
              "    <tr>\n",
              "      <th>Argentina</th>\n",
              "      <td>106.0</td>\n",
              "      <td>51.0</td>\n",
              "      <td>63.0</td>\n",
              "      <td>120.0</td>\n",
              "      <td>55.0</td>\n",
              "      <td>74.0</td>\n",
              "      <td>29.0</td>\n",
              "      <td>56.0</td>\n",
              "    </tr>\n",
              "    <tr>\n",
              "      <th>Armenia</th>\n",
              "      <td>57.0</td>\n",
              "      <td>71.0</td>\n",
              "      <td>97.0</td>\n",
              "      <td>48.0</td>\n",
              "      <td>84.0</td>\n",
              "      <td>58.0</td>\n",
              "      <td>53.0</td>\n",
              "      <td>59.0</td>\n",
              "    </tr>\n",
              "  </tbody>\n",
              "</table>\n",
              "</div>\n",
              "      <button class=\"colab-df-convert\" onclick=\"convertToInteractive('df-9ed08640-84c1-4535-882e-fa72ad85d7e3')\"\n",
              "              title=\"Convert this dataframe to an interactive table.\"\n",
              "              style=\"display:none;\">\n",
              "        \n",
              "  <svg xmlns=\"http://www.w3.org/2000/svg\" height=\"24px\"viewBox=\"0 0 24 24\"\n",
              "       width=\"24px\">\n",
              "    <path d=\"M0 0h24v24H0V0z\" fill=\"none\"/>\n",
              "    <path d=\"M18.56 5.44l.94 2.06.94-2.06 2.06-.94-2.06-.94-.94-2.06-.94 2.06-2.06.94zm-11 1L8.5 8.5l.94-2.06 2.06-.94-2.06-.94L8.5 2.5l-.94 2.06-2.06.94zm10 10l.94 2.06.94-2.06 2.06-.94-2.06-.94-.94-2.06-.94 2.06-2.06.94z\"/><path d=\"M17.41 7.96l-1.37-1.37c-.4-.4-.92-.59-1.43-.59-.52 0-1.04.2-1.43.59L10.3 9.45l-7.72 7.72c-.78.78-.78 2.05 0 2.83L4 21.41c.39.39.9.59 1.41.59.51 0 1.02-.2 1.41-.59l7.78-7.78 2.81-2.81c.8-.78.8-2.07 0-2.86zM5.41 20L4 18.59l7.72-7.72 1.47 1.35L5.41 20z\"/>\n",
              "  </svg>\n",
              "      </button>\n",
              "      \n",
              "  <style>\n",
              "    .colab-df-container {\n",
              "      display:flex;\n",
              "      flex-wrap:wrap;\n",
              "      gap: 12px;\n",
              "    }\n",
              "\n",
              "    .colab-df-convert {\n",
              "      background-color: #E8F0FE;\n",
              "      border: none;\n",
              "      border-radius: 50%;\n",
              "      cursor: pointer;\n",
              "      display: none;\n",
              "      fill: #1967D2;\n",
              "      height: 32px;\n",
              "      padding: 0 0 0 0;\n",
              "      width: 32px;\n",
              "    }\n",
              "\n",
              "    .colab-df-convert:hover {\n",
              "      background-color: #E2EBFA;\n",
              "      box-shadow: 0px 1px 2px rgba(60, 64, 67, 0.3), 0px 1px 3px 1px rgba(60, 64, 67, 0.15);\n",
              "      fill: #174EA6;\n",
              "    }\n",
              "\n",
              "    [theme=dark] .colab-df-convert {\n",
              "      background-color: #3B4455;\n",
              "      fill: #D2E3FC;\n",
              "    }\n",
              "\n",
              "    [theme=dark] .colab-df-convert:hover {\n",
              "      background-color: #434B5C;\n",
              "      box-shadow: 0px 1px 3px 1px rgba(0, 0, 0, 0.15);\n",
              "      filter: drop-shadow(0px 1px 2px rgba(0, 0, 0, 0.3));\n",
              "      fill: #FFFFFF;\n",
              "    }\n",
              "  </style>\n",
              "\n",
              "      <script>\n",
              "        const buttonEl =\n",
              "          document.querySelector('#df-9ed08640-84c1-4535-882e-fa72ad85d7e3 button.colab-df-convert');\n",
              "        buttonEl.style.display =\n",
              "          google.colab.kernel.accessAllowed ? 'block' : 'none';\n",
              "\n",
              "        async function convertToInteractive(key) {\n",
              "          const element = document.querySelector('#df-9ed08640-84c1-4535-882e-fa72ad85d7e3');\n",
              "          const dataTable =\n",
              "            await google.colab.kernel.invokeFunction('convertToInteractive',\n",
              "                                                     [key], {});\n",
              "          if (!dataTable) return;\n",
              "\n",
              "          const docLinkHtml = 'Like what you see? Visit the ' +\n",
              "            '<a target=\"_blank\" href=https://colab.research.google.com/notebooks/data_table.ipynb>data table notebook</a>'\n",
              "            + ' to learn more about interactive tables.';\n",
              "          element.innerHTML = '';\n",
              "          dataTable['output_type'] = 'display_data';\n",
              "          await google.colab.output.renderOutput(dataTable, element);\n",
              "          const docLink = document.createElement('div');\n",
              "          docLink.innerHTML = docLinkHtml;\n",
              "          element.appendChild(docLink);\n",
              "        }\n",
              "      </script>\n",
              "    </div>\n",
              "  </div>\n",
              "  "
            ]
          },
          "metadata": {},
          "execution_count": 61
        }
      ]
    },
    {
      "cell_type": "code",
      "source": [
        "model = ols('GII ~ Institutions+HumanCapital+Infrastructure+Market+Business+Knowledge+Creative', data=F).fit()\n",
        "anova_table = sm.stats.anova_lm(model, typ=2)\n",
        "anova_table\n"
      ],
      "metadata": {
        "id": "sa6MJ6On350M",
        "colab": {
          "base_uri": "https://localhost:8080/",
          "height": 381
        },
        "outputId": "c42ef2ee-1d84-4aec-81d5-c5823cd82240"
      },
      "execution_count": null,
      "outputs": [
        {
          "output_type": "stream",
          "name": "stderr",
          "text": [
            "/usr/local/lib/python3.7/dist-packages/statsmodels/regression/linear_model.py:1578: RuntimeWarning: divide by zero encountered in true_divide\n",
            "  return np.dot(wresid, wresid) / self.df_resid\n"
          ]
        },
        {
          "output_type": "error",
          "ename": "ValueError",
          "evalue": "ignored",
          "traceback": [
            "\u001b[0;31m---------------------------------------------------------------------------\u001b[0m",
            "\u001b[0;31mValueError\u001b[0m                                Traceback (most recent call last)",
            "\u001b[0;32m<ipython-input-62-1a7860294ebf>\u001b[0m in \u001b[0;36m<module>\u001b[0;34m()\u001b[0m\n\u001b[1;32m      1\u001b[0m \u001b[0mmodel\u001b[0m \u001b[0;34m=\u001b[0m \u001b[0mols\u001b[0m\u001b[0;34m(\u001b[0m\u001b[0;34m'GII ~ Institutions+HumanCapital+Infrastructure+Market+Business+Knowledge+Creative'\u001b[0m\u001b[0;34m,\u001b[0m \u001b[0mdata\u001b[0m\u001b[0;34m=\u001b[0m\u001b[0mF\u001b[0m\u001b[0;34m)\u001b[0m\u001b[0;34m.\u001b[0m\u001b[0mfit\u001b[0m\u001b[0;34m(\u001b[0m\u001b[0;34m)\u001b[0m\u001b[0;34m\u001b[0m\u001b[0;34m\u001b[0m\u001b[0m\n\u001b[0;32m----> 2\u001b[0;31m \u001b[0manova_table\u001b[0m \u001b[0;34m=\u001b[0m \u001b[0msm\u001b[0m\u001b[0;34m.\u001b[0m\u001b[0mstats\u001b[0m\u001b[0;34m.\u001b[0m\u001b[0manova_lm\u001b[0m\u001b[0;34m(\u001b[0m\u001b[0mmodel\u001b[0m\u001b[0;34m,\u001b[0m \u001b[0mtyp\u001b[0m\u001b[0;34m=\u001b[0m\u001b[0;36m2\u001b[0m\u001b[0;34m)\u001b[0m\u001b[0;34m\u001b[0m\u001b[0;34m\u001b[0m\u001b[0m\n\u001b[0m\u001b[1;32m      3\u001b[0m \u001b[0manova_table\u001b[0m\u001b[0;34m\u001b[0m\u001b[0;34m\u001b[0m\u001b[0m\n",
            "\u001b[0;32m/usr/local/lib/python3.7/dist-packages/statsmodels/stats/anova.py\u001b[0m in \u001b[0;36manova_lm\u001b[0;34m(*args, **kwargs)\u001b[0m\n\u001b[1;32m    349\u001b[0m     \u001b[0;32mif\u001b[0m \u001b[0mlen\u001b[0m\u001b[0;34m(\u001b[0m\u001b[0margs\u001b[0m\u001b[0;34m)\u001b[0m \u001b[0;34m==\u001b[0m \u001b[0;36m1\u001b[0m\u001b[0;34m:\u001b[0m\u001b[0;34m\u001b[0m\u001b[0;34m\u001b[0m\u001b[0m\n\u001b[1;32m    350\u001b[0m         \u001b[0mmodel\u001b[0m \u001b[0;34m=\u001b[0m \u001b[0margs\u001b[0m\u001b[0;34m[\u001b[0m\u001b[0;36m0\u001b[0m\u001b[0;34m]\u001b[0m\u001b[0;34m\u001b[0m\u001b[0;34m\u001b[0m\u001b[0m\n\u001b[0;32m--> 351\u001b[0;31m         \u001b[0;32mreturn\u001b[0m \u001b[0manova_single\u001b[0m\u001b[0;34m(\u001b[0m\u001b[0mmodel\u001b[0m\u001b[0;34m,\u001b[0m \u001b[0;34m**\u001b[0m\u001b[0mkwargs\u001b[0m\u001b[0;34m)\u001b[0m\u001b[0;34m\u001b[0m\u001b[0;34m\u001b[0m\u001b[0m\n\u001b[0m\u001b[1;32m    352\u001b[0m \u001b[0;34m\u001b[0m\u001b[0m\n\u001b[1;32m    353\u001b[0m     \u001b[0;32mif\u001b[0m \u001b[0mtyp\u001b[0m \u001b[0;32mnot\u001b[0m \u001b[0;32min\u001b[0m \u001b[0;34m[\u001b[0m\u001b[0;36m1\u001b[0m\u001b[0;34m,\u001b[0m \u001b[0;34m\"I\"\u001b[0m\u001b[0;34m]\u001b[0m\u001b[0;34m:\u001b[0m\u001b[0;34m\u001b[0m\u001b[0;34m\u001b[0m\u001b[0m\n",
            "\u001b[0;32m/usr/local/lib/python3.7/dist-packages/statsmodels/stats/anova.py\u001b[0m in \u001b[0;36manova_single\u001b[0;34m(model, **kwargs)\u001b[0m\n\u001b[1;32m     81\u001b[0m     \u001b[0;32melif\u001b[0m \u001b[0mtyp\u001b[0m \u001b[0;32min\u001b[0m \u001b[0;34m[\u001b[0m\u001b[0;36m2\u001b[0m\u001b[0;34m,\u001b[0m \u001b[0;34m\"II\"\u001b[0m\u001b[0;34m]\u001b[0m\u001b[0;34m:\u001b[0m\u001b[0;34m\u001b[0m\u001b[0;34m\u001b[0m\u001b[0m\n\u001b[1;32m     82\u001b[0m         return anova2_lm_single(model, design_info, n_rows, test, pr_test,\n\u001b[0;32m---> 83\u001b[0;31m                                 robust)\n\u001b[0m\u001b[1;32m     84\u001b[0m     \u001b[0;32melif\u001b[0m \u001b[0mtyp\u001b[0m \u001b[0;32min\u001b[0m \u001b[0;34m[\u001b[0m\u001b[0;36m3\u001b[0m\u001b[0;34m,\u001b[0m \u001b[0;34m\"III\"\u001b[0m\u001b[0;34m]\u001b[0m\u001b[0;34m:\u001b[0m\u001b[0;34m\u001b[0m\u001b[0;34m\u001b[0m\u001b[0m\n\u001b[1;32m     85\u001b[0m         return anova3_lm_single(model, design_info, n_rows, test, pr_test,\n",
            "\u001b[0;32m/usr/local/lib/python3.7/dist-packages/statsmodels/stats/anova.py\u001b[0m in \u001b[0;36manova2_lm_single\u001b[0;34m(model, design_info, n_rows, test, pr_test, robust)\u001b[0m\n\u001b[1;32m    177\u001b[0m \u001b[0;34m\u001b[0m\u001b[0m\n\u001b[1;32m    178\u001b[0m     \u001b[0mtable\u001b[0m \u001b[0;34m=\u001b[0m \u001b[0mDataFrame\u001b[0m\u001b[0;34m(\u001b[0m\u001b[0mnp\u001b[0m\u001b[0;34m.\u001b[0m\u001b[0mzeros\u001b[0m\u001b[0;34m(\u001b[0m\u001b[0;34m(\u001b[0m\u001b[0mn_rows\u001b[0m\u001b[0;34m,\u001b[0m \u001b[0;36m4\u001b[0m\u001b[0;34m)\u001b[0m\u001b[0;34m)\u001b[0m\u001b[0;34m,\u001b[0m \u001b[0mcolumns\u001b[0m \u001b[0;34m=\u001b[0m \u001b[0mnames\u001b[0m\u001b[0;34m)\u001b[0m\u001b[0;34m\u001b[0m\u001b[0;34m\u001b[0m\u001b[0m\n\u001b[0;32m--> 179\u001b[0;31m     \u001b[0mcov\u001b[0m \u001b[0;34m=\u001b[0m \u001b[0m_get_covariance\u001b[0m\u001b[0;34m(\u001b[0m\u001b[0mmodel\u001b[0m\u001b[0;34m,\u001b[0m \u001b[0;32mNone\u001b[0m\u001b[0;34m)\u001b[0m\u001b[0;34m\u001b[0m\u001b[0;34m\u001b[0m\u001b[0m\n\u001b[0m\u001b[1;32m    180\u001b[0m     \u001b[0mrobust_cov\u001b[0m \u001b[0;34m=\u001b[0m \u001b[0m_get_covariance\u001b[0m\u001b[0;34m(\u001b[0m\u001b[0mmodel\u001b[0m\u001b[0;34m,\u001b[0m \u001b[0mrobust\u001b[0m\u001b[0;34m)\u001b[0m\u001b[0;34m\u001b[0m\u001b[0;34m\u001b[0m\u001b[0m\n\u001b[1;32m    181\u001b[0m     \u001b[0mcol_order\u001b[0m \u001b[0;34m=\u001b[0m \u001b[0;34m[\u001b[0m\u001b[0;34m]\u001b[0m\u001b[0;34m\u001b[0m\u001b[0;34m\u001b[0m\u001b[0m\n",
            "\u001b[0;32m/usr/local/lib/python3.7/dist-packages/statsmodels/stats/anova.py\u001b[0m in \u001b[0;36m_get_covariance\u001b[0;34m(model, robust)\u001b[0m\n\u001b[1;32m     13\u001b[0m \u001b[0;32mdef\u001b[0m \u001b[0m_get_covariance\u001b[0m\u001b[0;34m(\u001b[0m\u001b[0mmodel\u001b[0m\u001b[0;34m,\u001b[0m \u001b[0mrobust\u001b[0m\u001b[0;34m)\u001b[0m\u001b[0;34m:\u001b[0m\u001b[0;34m\u001b[0m\u001b[0;34m\u001b[0m\u001b[0m\n\u001b[1;32m     14\u001b[0m     \u001b[0;32mif\u001b[0m \u001b[0mrobust\u001b[0m \u001b[0;32mis\u001b[0m \u001b[0;32mNone\u001b[0m\u001b[0;34m:\u001b[0m\u001b[0;34m\u001b[0m\u001b[0;34m\u001b[0m\u001b[0m\n\u001b[0;32m---> 15\u001b[0;31m         \u001b[0;32mreturn\u001b[0m \u001b[0mmodel\u001b[0m\u001b[0;34m.\u001b[0m\u001b[0mcov_params\u001b[0m\u001b[0;34m(\u001b[0m\u001b[0;34m)\u001b[0m\u001b[0;34m\u001b[0m\u001b[0;34m\u001b[0m\u001b[0m\n\u001b[0m\u001b[1;32m     16\u001b[0m     \u001b[0;32melif\u001b[0m \u001b[0mrobust\u001b[0m \u001b[0;34m==\u001b[0m \u001b[0;34m\"hc0\"\u001b[0m\u001b[0;34m:\u001b[0m\u001b[0;34m\u001b[0m\u001b[0;34m\u001b[0m\u001b[0m\n\u001b[1;32m     17\u001b[0m         \u001b[0mse\u001b[0m \u001b[0;34m=\u001b[0m \u001b[0mmodel\u001b[0m\u001b[0;34m.\u001b[0m\u001b[0mHC0_se\u001b[0m\u001b[0;34m\u001b[0m\u001b[0;34m\u001b[0m\u001b[0m\n",
            "\u001b[0;32m/usr/local/lib/python3.7/dist-packages/statsmodels/base/wrapper.py\u001b[0m in \u001b[0;36mwrapper\u001b[0;34m(self, *args, **kwargs)\u001b[0m\n\u001b[1;32m     93\u001b[0m             \u001b[0mobj\u001b[0m \u001b[0;34m=\u001b[0m \u001b[0mdata\u001b[0m\u001b[0;34m.\u001b[0m\u001b[0mwrap_output\u001b[0m\u001b[0;34m(\u001b[0m\u001b[0mfunc\u001b[0m\u001b[0;34m(\u001b[0m\u001b[0mresults\u001b[0m\u001b[0;34m,\u001b[0m \u001b[0;34m*\u001b[0m\u001b[0margs\u001b[0m\u001b[0;34m,\u001b[0m \u001b[0;34m**\u001b[0m\u001b[0mkwargs\u001b[0m\u001b[0;34m)\u001b[0m\u001b[0;34m,\u001b[0m \u001b[0mhow\u001b[0m\u001b[0;34m[\u001b[0m\u001b[0;36m0\u001b[0m\u001b[0;34m]\u001b[0m\u001b[0;34m,\u001b[0m \u001b[0mhow\u001b[0m\u001b[0;34m[\u001b[0m\u001b[0;36m1\u001b[0m\u001b[0;34m:\u001b[0m\u001b[0;34m]\u001b[0m\u001b[0;34m)\u001b[0m\u001b[0;34m\u001b[0m\u001b[0;34m\u001b[0m\u001b[0m\n\u001b[1;32m     94\u001b[0m         \u001b[0;32melif\u001b[0m \u001b[0mhow\u001b[0m\u001b[0;34m:\u001b[0m\u001b[0;34m\u001b[0m\u001b[0;34m\u001b[0m\u001b[0m\n\u001b[0;32m---> 95\u001b[0;31m             \u001b[0mobj\u001b[0m \u001b[0;34m=\u001b[0m \u001b[0mdata\u001b[0m\u001b[0;34m.\u001b[0m\u001b[0mwrap_output\u001b[0m\u001b[0;34m(\u001b[0m\u001b[0mfunc\u001b[0m\u001b[0;34m(\u001b[0m\u001b[0mresults\u001b[0m\u001b[0;34m,\u001b[0m \u001b[0;34m*\u001b[0m\u001b[0margs\u001b[0m\u001b[0;34m,\u001b[0m \u001b[0;34m**\u001b[0m\u001b[0mkwargs\u001b[0m\u001b[0;34m)\u001b[0m\u001b[0;34m,\u001b[0m \u001b[0mhow\u001b[0m\u001b[0;34m)\u001b[0m\u001b[0;34m\u001b[0m\u001b[0;34m\u001b[0m\u001b[0m\n\u001b[0m\u001b[1;32m     96\u001b[0m         \u001b[0;32mreturn\u001b[0m \u001b[0mobj\u001b[0m\u001b[0;34m\u001b[0m\u001b[0;34m\u001b[0m\u001b[0m\n\u001b[1;32m     97\u001b[0m \u001b[0;34m\u001b[0m\u001b[0m\n",
            "\u001b[0;32m/usr/local/lib/python3.7/dist-packages/statsmodels/base/model.py\u001b[0m in \u001b[0;36mcov_params\u001b[0;34m(self, r_matrix, column, scale, cov_p, other)\u001b[0m\n\u001b[1;32m   1374\u001b[0m                 \u001b[0;32mif\u001b[0m \u001b[0mscale\u001b[0m \u001b[0;32mis\u001b[0m \u001b[0;32mNone\u001b[0m\u001b[0;34m:\u001b[0m\u001b[0;34m\u001b[0m\u001b[0;34m\u001b[0m\u001b[0m\n\u001b[1;32m   1375\u001b[0m                     \u001b[0mscale\u001b[0m \u001b[0;34m=\u001b[0m \u001b[0mself\u001b[0m\u001b[0;34m.\u001b[0m\u001b[0mscale\u001b[0m\u001b[0;34m\u001b[0m\u001b[0;34m\u001b[0m\u001b[0m\n\u001b[0;32m-> 1376\u001b[0;31m                 \u001b[0mcov_p\u001b[0m \u001b[0;34m=\u001b[0m \u001b[0mself\u001b[0m\u001b[0;34m.\u001b[0m\u001b[0mnormalized_cov_params\u001b[0m \u001b[0;34m*\u001b[0m \u001b[0mscale\u001b[0m\u001b[0;34m\u001b[0m\u001b[0;34m\u001b[0m\u001b[0m\n\u001b[0m\u001b[1;32m   1377\u001b[0m \u001b[0;34m\u001b[0m\u001b[0m\n\u001b[1;32m   1378\u001b[0m         \u001b[0;32mif\u001b[0m \u001b[0mcolumn\u001b[0m \u001b[0;32mis\u001b[0m \u001b[0;32mnot\u001b[0m \u001b[0;32mNone\u001b[0m\u001b[0;34m:\u001b[0m\u001b[0;34m\u001b[0m\u001b[0;34m\u001b[0m\u001b[0m\n",
            "\u001b[0;31mValueError\u001b[0m: operands could not be broadcast together with shapes (988,988) (142,142) "
          ]
        }
      ]
    },
    {
      "cell_type": "code",
      "source": [
        "from sklearn.linear_model import LinearRegression\n",
        "from sklearn.preprocessing import StandardScaler"
      ],
      "metadata": {
        "id": "1ADvA4kfAR77"
      },
      "execution_count": null,
      "outputs": []
    },
    {
      "cell_type": "code",
      "source": [
        "X = F.iloc[:,:-1].values\n",
        "y = F.iloc[:,-1].values\n",
        "X = StandardScaler().fit_transform(X,y)\n",
        "reg = LinearRegression().fit(X, y)"
      ],
      "metadata": {
        "id": "oSWP3Zrs_zKK"
      },
      "execution_count": null,
      "outputs": []
    },
    {
      "cell_type": "code",
      "source": [
        "reg.score(X, y)"
      ],
      "metadata": {
        "colab": {
          "base_uri": "https://localhost:8080/"
        },
        "id": "twVwJ5U18OS9",
        "outputId": "9e4660f7-0022-46b7-cbd2-93fef4a10d88"
      },
      "execution_count": null,
      "outputs": [
        {
          "output_type": "execute_result",
          "data": {
            "text/plain": [
              "0.9780761154829217"
            ]
          },
          "metadata": {},
          "execution_count": 54
        }
      ]
    },
    {
      "cell_type": "code",
      "source": [
        "reg.coef_"
      ],
      "metadata": {
        "colab": {
          "base_uri": "https://localhost:8080/"
        },
        "id": "pVd3eSVgAppU",
        "outputId": "eed3da83-acc3-44fa-d761-b9e6826a9c34"
      },
      "execution_count": null,
      "outputs": [
        {
          "output_type": "execute_result",
          "data": {
            "text/plain": [
              "array([ 5.8381946 ,  4.93369704,  5.6159402 ,  4.28838363,  3.84551651,\n",
              "        9.89346386, 13.05951671])"
            ]
          },
          "metadata": {},
          "execution_count": 55
        }
      ]
    },
    {
      "cell_type": "code",
      "source": [
        "reg.intercept_"
      ],
      "metadata": {
        "colab": {
          "base_uri": "https://localhost:8080/"
        },
        "id": "WJhyK9vBAryq",
        "outputId": "510023f3-ea5a-4cf9-e21d-efc383d29d36"
      },
      "execution_count": null,
      "outputs": [
        {
          "output_type": "execute_result",
          "data": {
            "text/plain": [
              "71.5"
            ]
          },
          "metadata": {},
          "execution_count": 56
        }
      ]
    },
    {
      "cell_type": "code",
      "source": [
        "from sklearn.decomposition import PCA"
      ],
      "metadata": {
        "id": "hKok3S038uzE"
      },
      "execution_count": null,
      "outputs": []
    },
    {
      "cell_type": "code",
      "source": [
        "pca = PCA(n_components=2)\n",
        "X = F.iloc[:,:-1].values\n",
        "pc = pca.fit_transform(X)\n",
        "print(pca.explained_variance_ratio_)\n"
      ],
      "metadata": {
        "colab": {
          "base_uri": "https://localhost:8080/"
        },
        "id": "cLxHE77R8v_T",
        "outputId": "ecc6228a-c60b-4a2b-ea70-2deaca40b45e"
      },
      "execution_count": null,
      "outputs": [
        {
          "output_type": "stream",
          "name": "stdout",
          "text": [
            "[0.74006912 0.07357114]\n"
          ]
        }
      ]
    },
    {
      "cell_type": "code",
      "source": [
        "pca.components_"
      ],
      "metadata": {
        "colab": {
          "base_uri": "https://localhost:8080/"
        },
        "id": "MNusQGqYCQKi",
        "outputId": "d83daecb-cb28-4f28-9a8a-948b003406d0"
      },
      "execution_count": null,
      "outputs": [
        {
          "output_type": "execute_result",
          "data": {
            "text/plain": [
              "array([[-0.38600541, -0.3923834 , -0.39926915, -0.37780448, -0.38029356,\n",
              "        -0.33518046, -0.37136759],\n",
              "       [-0.32889863,  0.10892936, -0.09510101,  0.00870233, -0.06162327,\n",
              "         0.84881123, -0.38283445]])"
            ]
          },
          "metadata": {},
          "execution_count": 71
        }
      ]
    },
    {
      "cell_type": "code",
      "source": [
        "F.columns"
      ],
      "metadata": {
        "colab": {
          "base_uri": "https://localhost:8080/"
        },
        "id": "wo2hk8TUC_o6",
        "outputId": "fd70fd8f-f825-40a4-b3ca-d1e9cee1fd5f"
      },
      "execution_count": null,
      "outputs": [
        {
          "output_type": "execute_result",
          "data": {
            "text/plain": [
              "Index(['Institutions', 'HumanCapital', 'Infrastructure', 'Market', 'Business',\n",
              "       'Knowledge', 'Creative', 'GII'],\n",
              "      dtype='object')"
            ]
          },
          "metadata": {},
          "execution_count": 72
        }
      ]
    },
    {
      "cell_type": "code",
      "source": [
        "plt.plot(pc[:,0],pc[:,1],'o')"
      ],
      "metadata": {
        "colab": {
          "base_uri": "https://localhost:8080/",
          "height": 282
        },
        "id": "EH8NheoB9YjN",
        "outputId": "aa1ab450-60da-4220-8da1-14873f9c4c9d"
      },
      "execution_count": null,
      "outputs": [
        {
          "output_type": "execute_result",
          "data": {
            "text/plain": [
              "[<matplotlib.lines.Line2D at 0x7f42a1951390>]"
            ]
          },
          "metadata": {},
          "execution_count": 60
        },
        {
          "output_type": "display_data",
          "data": {
            "text/plain": [
              "<Figure size 432x288 with 1 Axes>"
            ],
            "image/png": "[encoded data removed]"
          },
          "metadata": {
            "needs_background": "light"
          }
        }
      ]
    },
    {
      "cell_type": "code",
      "source": [
        "from sklearn.cluster import KMeans"
      ],
      "metadata": {
        "id": "fHJ9JM1w9_jE"
      },
      "execution_count": null,
      "outputs": []
    },
    {
      "cell_type": "code",
      "source": [
        "kmeans = KMeans(n_clusters=10, random_state=0).fit(X)\n",
        "kml = kmeans.labels_\n",
        "kmc = kmeans.cluster_centers_"
      ],
      "metadata": {
        "id": "_ooyJzHX-AkD"
      },
      "execution_count": null,
      "outputs": []
    },
    {
      "cell_type": "code",
      "source": [
        "kmeans.score(X)"
      ],
      "metadata": {
        "colab": {
          "base_uri": "https://localhost:8080/"
        },
        "id": "hN1D_bldBSq6",
        "outputId": "f01c904e-6947-4cf0-920d-1c7cafc89eff"
      },
      "execution_count": null,
      "outputs": [
        {
          "output_type": "execute_result",
          "data": {
            "text/plain": [
              "-336238.3260138571"
            ]
          },
          "metadata": {},
          "execution_count": 63
        }
      ]
    },
    {
      "cell_type": "code",
      "source": [
        "for i in range(np.max(kml)):\n",
        "  plt.plot(pc[kml==i,0],pc[kml==i,1],'o')"
      ],
      "metadata": {
        "colab": {
          "base_uri": "https://localhost:8080/",
          "height": 265
        },
        "id": "bevr-E81-Eh7",
        "outputId": "6e21c651-e876-4b64-b591-6e5d598874a1"
      },
      "execution_count": null,
      "outputs": [
        {
          "output_type": "display_data",
          "data": {
            "text/plain": [
              "<Figure size 432x288 with 1 Axes>"
            ],
            "image/png": "[encoded data removed]"
          },
          "metadata": {
            "needs_background": "light"
          }
        }
      ]
    },
    {
      "cell_type": "code",
      "source": [
        "F.index"
      ],
      "metadata": {
        "colab": {
          "base_uri": "https://localhost:8080/"
        },
        "id": "vLGiWNNB_AGX",
        "outputId": "b5ebfca4-c398-4d70-c11b-850dee247857"
      },
      "execution_count": null,
      "outputs": [
        {
          "output_type": "execute_result",
          "data": {
            "text/plain": [
              "Index(['Albania', 'Algeria', 'Angola', 'Argentina', 'Armenia', 'Australia',\n",
              "       'Austria', 'Azerbaijan', 'Bahrain', 'Bangladesh',\n",
              "       ...\n",
              "       'United Arab Emirates', 'United Kingdom', 'United States of America',\n",
              "       'Uruguay', 'Uzbekistan', 'Venezuela, Bolivarian Republic of',\n",
              "       'Viet Nam', 'Yemen', 'Zambia', 'Zimbabwe'],\n",
              "      dtype='object', length=142)"
            ]
          },
          "metadata": {},
          "execution_count": 35
        }
      ]
    },
    {
      "cell_type": "code",
      "source": [
        "kmc"
      ],
      "metadata": {
        "colab": {
          "base_uri": "https://localhost:8080/"
        },
        "id": "9xtDZ3PK_ejw",
        "outputId": "c0897163-a6d4-472c-fc26-fe4be88fd494"
      },
      "execution_count": null,
      "outputs": [
        {
          "output_type": "execute_result",
          "data": {
            "text/plain": [
              "array([[ 51.625     ,  59.5       ,  58.125     ,  48.375     ,\n",
              "         48.8125    ,  83.        ,  58.875     ],\n",
              "       [128.25      ,  94.        ,  81.25      , 115.625     ,\n",
              "        104.875     ,  86.        ,  86.625     ],\n",
              "       [ 32.92857143,  37.        ,  29.64285714,  41.71428571,\n",
              "         39.71428571,  34.07142857,  34.14285714],\n",
              "       [106.5       , 117.2       , 128.9       , 107.9       ,\n",
              "        102.9       ,  59.3       , 126.6       ],\n",
              "       [101.5       , 109.28571429, 114.14285714,  80.07142857,\n",
              "         78.57142857, 110.64285714,  87.21428571],\n",
              "       [ 67.5       ,  74.6       ,  79.1       ,  83.4       ,\n",
              "        104.3       , 107.3       , 115.8       ],\n",
              "       [116.84210526, 116.73684211, 117.89473684, 125.        ,\n",
              "        121.89473684, 116.57894737, 117.21052632],\n",
              "       [ 83.89473684,  63.68421053,  66.10526316,  68.73684211,\n",
              "         71.42105263,  42.84210526,  72.36842105],\n",
              "       [ 14.13043478,  12.13043478,  14.43478261,  14.2173913 ,\n",
              "         15.13043478,  18.04347826,  17.60869565],\n",
              "       [ 60.        ,  86.22222222,  72.44444444,  92.        ,\n",
              "         87.11111111, 111.22222222,  43.11111111]])"
            ]
          },
          "metadata": {},
          "execution_count": 69
        }
      ]
    },
    {
      "cell_type": "code",
      "source": [
        "pca.transform(X)"
      ],
      "metadata": {
        "id": "y7da8kyvBhQ5"
      },
      "execution_count": null,
      "outputs": []
    },
    {
      "cell_type": "markdown",
      "source": [
        "# For all files"
      ],
      "metadata": {
        "id": "p8dWZAxJxqKu"
      }
    },
    {
      "cell_type": "code",
      "source": [
        "from sklearn.linear_model import LinearRegression\n",
        "from sklearn.preprocessing import StandardScaler\n",
        "from sklearn.decomposition import PCA\n",
        "from sklearn.cluster import KMeans\n",
        "import numpy as np\n",
        "import pandas as pd\n",
        "import statsmodels.api as sm\n",
        "from statsmodels.formula.api import ols"
      ],
      "metadata": {
        "id": "OLGf2C9I0LVp",
        "colab": {
          "base_uri": "https://localhost:8080/"
        },
        "outputId": "62c55e8c-73c6-4e05-f86f-36f4ce81d3c1"
      },
      "execution_count": null,
      "outputs": [
        {
          "output_type": "stream",
          "name": "stderr",
          "text": [
            "/usr/local/lib/python3.7/dist-packages/statsmodels/tools/_testing.py:19: FutureWarning: pandas.util.testing is deprecated. Use the functions in the public API at pandas.testing instead.\n",
            "  import pandas.util.testing as tm\n"
          ]
        }
      ]
    },
    {
      "cell_type": "markdown",
      "source": [
        "## Organisation"
      ],
      "metadata": {
        "id": "n_WrpjXeEdpa"
      }
    },
    {
      "cell_type": "code",
      "source": [
        "def clean_table(A):\n",
        "  Z = np.zeros(A.shape)\n",
        "  for i,x in enumerate(A.values):\n",
        "    for j,y in enumerate(x):\n",
        "      if isinstance(y,str):\n",
        "        Z[i,j] = float(y.strip('[]'))\n",
        "      else:\n",
        "        Z[i,j] = float(y)\n",
        "\n",
        "  B = pd.DataFrame(columns = A.columns, index = A.index, data = Z)\n",
        "  return B"
      ],
      "metadata": {
        "id": "0E0BrvWB9bkb"
      },
      "execution_count": null,
      "outputs": []
    },
    {
      "cell_type": "code",
      "source": [
        "X = np.empty((0,9))\n",
        "for i in [13,14,15,16,17,18,19,20]:\n",
        "  T = pd.read_csv(folder+'Analysis_20{}.csv'.format(i),quotechar = '\"',engine='python')\n",
        "\n",
        "  for j,c in enumerate(T.columns):\n",
        "    if 'Zimbabwe' in c:\n",
        "      n = j+1\n",
        "      break\n",
        "\n",
        "  v = T.loc[:,' '].str.contains('^[0-9]{1}[.]{1}$',regex = True)\n",
        "  A = T.loc[v,:]\n",
        "  indexes = list(A[' .1'])\n",
        "  A = A.iloc[:,3:n]\n",
        "  A.index = indexes\n",
        "  A = A.transpose()\n",
        "  A['year'] = 2000+i\n",
        "  # print(A)\n",
        "  gii = T.iloc[1,3:n]\n",
        "  gii = gii.to_frame(name='GII')\n",
        "  F = pd.concat((A,gii),axis='columns')\n",
        "  F = clean_table(F)\n",
        "  if i == 13:\n",
        "    G = F.copy(deep=True)\n",
        "    G['countries'] = F.index\n",
        "  else:\n",
        "    aux = F.copy(deep=True)\n",
        "    aux['countries'] = F.index\n",
        "    G = pd.concat((G,aux),ignore_index=True)\n",
        "  F = F.dropna()\n",
        "  X = np.concatenate((X,F.values))"
      ],
      "metadata": {
        "id": "8Sh9u6uKCBnq"
      },
      "execution_count": null,
      "outputs": []
    },
    {
      "cell_type": "code",
      "source": [
        "F.head()"
      ],
      "metadata": {
        "colab": {
          "base_uri": "https://localhost:8080/"
        },
        "id": "CwoHAnpp_dZX",
        "outputId": "0264ad01-92c8-4f1d-fecb-bc1e133379e2"
      },
      "execution_count": null,
      "outputs": [
        {
          "output_type": "execute_result",
          "data": {
            "text/plain": [
              "           Institutions  Human capital and research  Infrastructure  \\\n",
              "Albania            56.0                        95.0            65.0   \n",
              "Algeria           104.0                        74.0           100.0   \n",
              "Argentina          97.0                        48.0            70.0   \n",
              "Armenia            64.0                        94.0            90.0   \n",
              "Australia          10.0                         9.0            22.0   \n",
              "\n",
              "           Market sophistication  Business sophistication  \\\n",
              "Albania                     70.0                     73.0   \n",
              "Algeria                    130.0                    126.0   \n",
              "Argentina                  120.0                     61.0   \n",
              "Armenia                     68.0                     69.0   \n",
              "Australia                    7.0                     26.0   \n",
              "\n",
              "           Knowledge and technology outputs  Creative outputs    year    GII  \n",
              "Albania                               119.0              72.0  2020.0   83.0  \n",
              "Algeria                               125.0             118.0  2020.0  121.0  \n",
              "Argentina                              75.0              71.0  2020.0   80.0  \n",
              "Armenia                                45.0              56.0  2020.0   61.0  \n",
              "Australia                              40.0              23.0  2020.0   23.0  "
            ],
            "text/html": [
              "\n",
              "  <div id=\"df-cd3233b5-5759-43a5-a44e-7a690a27f55c\">\n",
              "    <div class=\"colab-df-container\">\n",
              "      <div>\n",
              "<style scoped>\n",
              "    .dataframe tbody tr th:only-of-type {\n",
              "        vertical-align: middle;\n",
              "    }\n",
              "\n",
              "    .dataframe tbody tr th {\n",
              "        vertical-align: top;\n",
              "    }\n",
              "\n",
              "    .dataframe thead th {\n",
              "        text-align: right;\n",
              "    }\n",
              "</style>\n",
              "<table border=\"1\" class=\"dataframe\">\n",
              "  <thead>\n",
              "    <tr style=\"text-align: right;\">\n",
              "      <th></th>\n",
              "      <th>Institutions</th>\n",
              "      <th>Human capital and research</th>\n",
              "      <th>Infrastructure</th>\n",
              "      <th>Market sophistication</th>\n",
              "      <th>Business sophistication</th>\n",
              "      <th>Knowledge and technology outputs</th>\n",
              "      <th>Creative outputs</th>\n",
              "      <th>year</th>\n",
              "      <th>GII</th>\n",
              "    </tr>\n",
              "  </thead>\n",
              "  <tbody>\n",
              "    <tr>\n",
              "      <th>Albania</th>\n",
              "      <td>56.0</td>\n",
              "      <td>95.0</td>\n",
              "      <td>65.0</td>\n",
              "      <td>70.0</td>\n",
              "      <td>73.0</td>\n",
              "      <td>119.0</td>\n",
              "      <td>72.0</td>\n",
              "      <td>2020.0</td>\n",
              "      <td>83.0</td>\n",
              "    </tr>\n",
              "    <tr>\n",
              "      <th>Algeria</th>\n",
              "      <td>104.0</td>\n",
              "      <td>74.0</td>\n",
              "      <td>100.0</td>\n",
              "      <td>130.0</td>\n",
              "      <td>126.0</td>\n",
              "      <td>125.0</td>\n",
              "      <td>118.0</td>\n",
              "      <td>2020.0</td>\n",
              "      <td>121.0</td>\n",
              "    </tr>\n",
              "    <tr>\n",
              "      <th>Argentina</th>\n",
              "      <td>97.0</td>\n",
              "      <td>48.0</td>\n",
              "      <td>70.0</td>\n",
              "      <td>120.0</td>\n",
              "      <td>61.0</td>\n",
              "      <td>75.0</td>\n",
              "      <td>71.0</td>\n",
              "      <td>2020.0</td>\n",
              "      <td>80.0</td>\n",
              "    </tr>\n",
              "    <tr>\n",
              "      <th>Armenia</th>\n",
              "      <td>64.0</td>\n",
              "      <td>94.0</td>\n",
              "      <td>90.0</td>\n",
              "      <td>68.0</td>\n",
              "      <td>69.0</td>\n",
              "      <td>45.0</td>\n",
              "      <td>56.0</td>\n",
              "      <td>2020.0</td>\n",
              "      <td>61.0</td>\n",
              "    </tr>\n",
              "    <tr>\n",
              "      <th>Australia</th>\n",
              "      <td>10.0</td>\n",
              "      <td>9.0</td>\n",
              "      <td>22.0</td>\n",
              "      <td>7.0</td>\n",
              "      <td>26.0</td>\n",
              "      <td>40.0</td>\n",
              "      <td>23.0</td>\n",
              "      <td>2020.0</td>\n",
              "      <td>23.0</td>\n",
              "    </tr>\n",
              "  </tbody>\n",
              "</table>\n",
              "</div>\n",
              "      <button class=\"colab-df-convert\" onclick=\"convertToInteractive('df-cd3233b5-5759-43a5-a44e-7a690a27f55c')\"\n",
              "              title=\"Convert this dataframe to an interactive table.\"\n",
              "              style=\"display:none;\">\n",
              "        \n",
              "  <svg xmlns=\"http://www.w3.org/2000/svg\" height=\"24px\"viewBox=\"0 0 24 24\"\n",
              "       width=\"24px\">\n",
              "    <path d=\"M0 0h24v24H0V0z\" fill=\"none\"/>\n",
              "    <path d=\"M18.56 5.44l.94 2.06.94-2.06 2.06-.94-2.06-.94-.94-2.06-.94 2.06-2.06.94zm-11 1L8.5 8.5l.94-2.06 2.06-.94-2.06-.94L8.5 2.5l-.94 2.06-2.06.94zm10 10l.94 2.06.94-2.06 2.06-.94-2.06-.94-.94-2.06-.94 2.06-2.06.94z\"/><path d=\"M17.41 7.96l-1.37-1.37c-.4-.4-.92-.59-1.43-.59-.52 0-1.04.2-1.43.59L10.3 9.45l-7.72 7.72c-.78.78-.78 2.05 0 2.83L4 21.41c.39.39.9.59 1.41.59.51 0 1.02-.2 1.41-.59l7.78-7.78 2.81-2.81c.8-.78.8-2.07 0-2.86zM5.41 20L4 18.59l7.72-7.72 1.47 1.35L5.41 20z\"/>\n",
              "  </svg>\n",
              "      </button>\n",
              "      \n",
              "  <style>\n",
              "    .colab-df-container {\n",
              "      display:flex;\n",
              "      flex-wrap:wrap;\n",
              "      gap: 12px;\n",
              "    }\n",
              "\n",
              "    .colab-df-convert {\n",
              "      background-color: #E8F0FE;\n",
              "      border: none;\n",
              "      border-radius: 50%;\n",
              "      cursor: pointer;\n",
              "      display: none;\n",
              "      fill: #1967D2;\n",
              "      height: 32px;\n",
              "      padding: 0 0 0 0;\n",
              "      width: 32px;\n",
              "    }\n",
              "\n",
              "    .colab-df-convert:hover {\n",
              "      background-color: #E2EBFA;\n",
              "      box-shadow: 0px 1px 2px rgba(60, 64, 67, 0.3), 0px 1px 3px 1px rgba(60, 64, 67, 0.15);\n",
              "      fill: #174EA6;\n",
              "    }\n",
              "\n",
              "    [theme=dark] .colab-df-convert {\n",
              "      background-color: #3B4455;\n",
              "      fill: #D2E3FC;\n",
              "    }\n",
              "\n",
              "    [theme=dark] .colab-df-convert:hover {\n",
              "      background-color: #434B5C;\n",
              "      box-shadow: 0px 1px 3px 1px rgba(0, 0, 0, 0.15);\n",
              "      filter: drop-shadow(0px 1px 2px rgba(0, 0, 0, 0.3));\n",
              "      fill: #FFFFFF;\n",
              "    }\n",
              "  </style>\n",
              "\n",
              "      <script>\n",
              "        const buttonEl =\n",
              "          document.querySelector('#df-cd3233b5-5759-43a5-a44e-7a690a27f55c button.colab-df-convert');\n",
              "        buttonEl.style.display =\n",
              "          google.colab.kernel.accessAllowed ? 'block' : 'none';\n",
              "\n",
              "        async function convertToInteractive(key) {\n",
              "          const element = document.querySelector('#df-cd3233b5-5759-43a5-a44e-7a690a27f55c');\n",
              "          const dataTable =\n",
              "            await google.colab.kernel.invokeFunction('convertToInteractive',\n",
              "                                                     [key], {});\n",
              "          if (!dataTable) return;\n",
              "\n",
              "          const docLinkHtml = 'Like what you see? Visit the ' +\n",
              "            '<a target=\"_blank\" href=https://colab.research.google.com/notebooks/data_table.ipynb>data table notebook</a>'\n",
              "            + ' to learn more about interactive tables.';\n",
              "          element.innerHTML = '';\n",
              "          dataTable['output_type'] = 'display_data';\n",
              "          await google.colab.output.renderOutput(dataTable, element);\n",
              "          const docLink = document.createElement('div');\n",
              "          docLink.innerHTML = docLinkHtml;\n",
              "          element.appendChild(docLink);\n",
              "        }\n",
              "      </script>\n",
              "    </div>\n",
              "  </div>\n",
              "  "
            ]
          },
          "metadata": {},
          "execution_count": 9
        }
      ]
    },
    {
      "cell_type": "code",
      "source": [
        "y = X[:,-1]\n",
        "Xi = X[:,:-2]\n",
        "Xt = StandardScaler().fit_transform(Xi,y)\n",
        "reg = LinearRegression().fit(Xt,y)"
      ],
      "metadata": {
        "id": "_RGSBRth0BM-"
      },
      "execution_count": null,
      "outputs": []
    },
    {
      "cell_type": "code",
      "source": [
        "F.columns =  ['Institutions', 'HumanCapital', 'Infrastructure',\n",
        "       'Market', 'Business',\n",
        "       'Knowledge', 'Creative','year','GII']\n"
      ],
      "metadata": {
        "id": "-hoqCHWy_m6V"
      },
      "execution_count": null,
      "outputs": []
    },
    {
      "cell_type": "code",
      "source": [
        "X"
      ],
      "metadata": {
        "colab": {
          "base_uri": "https://localhost:8080/"
        },
        "id": "VzFKsS-MIiW1",
        "outputId": "fef85c03-d865-4b80-f0b4-deb8ec3fb781"
      },
      "execution_count": null,
      "outputs": [
        {
          "output_type": "execute_result",
          "data": {
            "text/plain": [
              "array([[  73.,   84.,   75., ...,  121., 2013.,   93.],\n",
              "       [ 118.,   79.,   93., ...,  140., 2013.,  138.],\n",
              "       [ 136.,  126.,  129., ...,  137., 2013.,  135.],\n",
              "       ...,\n",
              "       [ 131.,  125.,  129., ...,  124., 2020.,  131.],\n",
              "       [ 122.,  111.,  107., ...,  126., 2020.,  122.],\n",
              "       [ 128.,   93.,  131., ...,  112., 2020.,  120.]])"
            ]
          },
          "metadata": {},
          "execution_count": 12
        }
      ]
    },
    {
      "cell_type": "code",
      "source": [
        "Full = pd.DataFrame(data = X,columns=F.columns)\n",
        "print(Full.shape)\n",
        "Full.tail(5)"
      ],
      "metadata": {
        "colab": {
          "base_uri": "https://localhost:8080/"
        },
        "id": "Zvp7lX4bGA_O",
        "outputId": "c1c8b7d6-5d9d-4e49-bc25-29819acc7730"
      },
      "execution_count": null,
      "outputs": [
        {
          "output_type": "stream",
          "name": "stdout",
          "text": [
            "(1066, 9)\n"
          ]
        },
        {
          "output_type": "execute_result",
          "data": {
            "text/plain": [
              "      Institutions  HumanCapital  Infrastructure  Market  Business  Knowledge  \\\n",
              "1061          95.0          77.0            72.0    27.0     127.0       90.0   \n",
              "1062          83.0          79.0            73.0    34.0      39.0       37.0   \n",
              "1063         131.0         125.0           129.0   129.0     104.0      128.0   \n",
              "1064         122.0         111.0           107.0    85.0      91.0      123.0   \n",
              "1065         128.0          93.0           131.0    84.0     108.0      101.0   \n",
              "\n",
              "      Creative    year    GII  \n",
              "1061     127.0  2020.0   93.0  \n",
              "1062      38.0  2020.0   42.0  \n",
              "1063     124.0  2020.0  131.0  \n",
              "1064     126.0  2020.0  122.0  \n",
              "1065     112.0  2020.0  120.0  "
            ],
            "text/html": [
              "\n",
              "  <div id=\"df-5846c533-f665-4fd0-9421-83a56e6b8432\">\n",
              "    <div class=\"colab-df-container\">\n",
              "      <div>\n",
              "<style scoped>\n",
              "    .dataframe tbody tr th:only-of-type {\n",
              "        vertical-align: middle;\n",
              "    }\n",
              "\n",
              "    .dataframe tbody tr th {\n",
              "        vertical-align: top;\n",
              "    }\n",
              "\n",
              "    .dataframe thead th {\n",
              "        text-align: right;\n",
              "    }\n",
              "</style>\n",
              "<table border=\"1\" class=\"dataframe\">\n",
              "  <thead>\n",
              "    <tr style=\"text-align: right;\">\n",
              "      <th></th>\n",
              "      <th>Institutions</th>\n",
              "      <th>HumanCapital</th>\n",
              "      <th>Infrastructure</th>\n",
              "      <th>Market</th>\n",
              "      <th>Business</th>\n",
              "      <th>Knowledge</th>\n",
              "      <th>Creative</th>\n",
              "      <th>year</th>\n",
              "      <th>GII</th>\n",
              "    </tr>\n",
              "  </thead>\n",
              "  <tbody>\n",
              "    <tr>\n",
              "      <th>1061</th>\n",
              "      <td>95.0</td>\n",
              "      <td>77.0</td>\n",
              "      <td>72.0</td>\n",
              "      <td>27.0</td>\n",
              "      <td>127.0</td>\n",
              "      <td>90.0</td>\n",
              "      <td>127.0</td>\n",
              "      <td>2020.0</td>\n",
              "      <td>93.0</td>\n",
              "    </tr>\n",
              "    <tr>\n",
              "      <th>1062</th>\n",
              "      <td>83.0</td>\n",
              "      <td>79.0</td>\n",
              "      <td>73.0</td>\n",
              "      <td>34.0</td>\n",
              "      <td>39.0</td>\n",
              "      <td>37.0</td>\n",
              "      <td>38.0</td>\n",
              "      <td>2020.0</td>\n",
              "      <td>42.0</td>\n",
              "    </tr>\n",
              "    <tr>\n",
              "      <th>1063</th>\n",
              "      <td>131.0</td>\n",
              "      <td>125.0</td>\n",
              "      <td>129.0</td>\n",
              "      <td>129.0</td>\n",
              "      <td>104.0</td>\n",
              "      <td>128.0</td>\n",
              "      <td>124.0</td>\n",
              "      <td>2020.0</td>\n",
              "      <td>131.0</td>\n",
              "    </tr>\n",
              "    <tr>\n",
              "      <th>1064</th>\n",
              "      <td>122.0</td>\n",
              "      <td>111.0</td>\n",
              "      <td>107.0</td>\n",
              "      <td>85.0</td>\n",
              "      <td>91.0</td>\n",
              "      <td>123.0</td>\n",
              "      <td>126.0</td>\n",
              "      <td>2020.0</td>\n",
              "      <td>122.0</td>\n",
              "    </tr>\n",
              "    <tr>\n",
              "      <th>1065</th>\n",
              "      <td>128.0</td>\n",
              "      <td>93.0</td>\n",
              "      <td>131.0</td>\n",
              "      <td>84.0</td>\n",
              "      <td>108.0</td>\n",
              "      <td>101.0</td>\n",
              "      <td>112.0</td>\n",
              "      <td>2020.0</td>\n",
              "      <td>120.0</td>\n",
              "    </tr>\n",
              "  </tbody>\n",
              "</table>\n",
              "</div>\n",
              "      <button class=\"colab-df-convert\" onclick=\"convertToInteractive('df-5846c533-f665-4fd0-9421-83a56e6b8432')\"\n",
              "              title=\"Convert this dataframe to an interactive table.\"\n",
              "              style=\"display:none;\">\n",
              "        \n",
              "  <svg xmlns=\"http://www.w3.org/2000/svg\" height=\"24px\"viewBox=\"0 0 24 24\"\n",
              "       width=\"24px\">\n",
              "    <path d=\"M0 0h24v24H0V0z\" fill=\"none\"/>\n",
              "    <path d=\"M18.56 5.44l.94 2.06.94-2.06 2.06-.94-2.06-.94-.94-2.06-.94 2.06-2.06.94zm-11 1L8.5 8.5l.94-2.06 2.06-.94-2.06-.94L8.5 2.5l-.94 2.06-2.06.94zm10 10l.94 2.06.94-2.06 2.06-.94-2.06-.94-.94-2.06-.94 2.06-2.06.94z\"/><path d=\"M17.41 7.96l-1.37-1.37c-.4-.4-.92-.59-1.43-.59-.52 0-1.04.2-1.43.59L10.3 9.45l-7.72 7.72c-.78.78-.78 2.05 0 2.83L4 21.41c.39.39.9.59 1.41.59.51 0 1.02-.2 1.41-.59l7.78-7.78 2.81-2.81c.8-.78.8-2.07 0-2.86zM5.41 20L4 18.59l7.72-7.72 1.47 1.35L5.41 20z\"/>\n",
              "  </svg>\n",
              "      </button>\n",
              "      \n",
              "  <style>\n",
              "    .colab-df-container {\n",
              "      display:flex;\n",
              "      flex-wrap:wrap;\n",
              "      gap: 12px;\n",
              "    }\n",
              "\n",
              "    .colab-df-convert {\n",
              "      background-color: #E8F0FE;\n",
              "      border: none;\n",
              "      border-radius: 50%;\n",
              "      cursor: pointer;\n",
              "      display: none;\n",
              "      fill: #1967D2;\n",
              "      height: 32px;\n",
              "      padding: 0 0 0 0;\n",
              "      width: 32px;\n",
              "    }\n",
              "\n",
              "    .colab-df-convert:hover {\n",
              "      background-color: #E2EBFA;\n",
              "      box-shadow: 0px 1px 2px rgba(60, 64, 67, 0.3), 0px 1px 3px 1px rgba(60, 64, 67, 0.15);\n",
              "      fill: #174EA6;\n",
              "    }\n",
              "\n",
              "    [theme=dark] .colab-df-convert {\n",
              "      background-color: #3B4455;\n",
              "      fill: #D2E3FC;\n",
              "    }\n",
              "\n",
              "    [theme=dark] .colab-df-convert:hover {\n",
              "      background-color: #434B5C;\n",
              "      box-shadow: 0px 1px 3px 1px rgba(0, 0, 0, 0.15);\n",
              "      filter: drop-shadow(0px 1px 2px rgba(0, 0, 0, 0.3));\n",
              "      fill: #FFFFFF;\n",
              "    }\n",
              "  </style>\n",
              "\n",
              "      <script>\n",
              "        const buttonEl =\n",
              "          document.querySelector('#df-5846c533-f665-4fd0-9421-83a56e6b8432 button.colab-df-convert');\n",
              "        buttonEl.style.display =\n",
              "          google.colab.kernel.accessAllowed ? 'block' : 'none';\n",
              "\n",
              "        async function convertToInteractive(key) {\n",
              "          const element = document.querySelector('#df-5846c533-f665-4fd0-9421-83a56e6b8432');\n",
              "          const dataTable =\n",
              "            await google.colab.kernel.invokeFunction('convertToInteractive',\n",
              "                                                     [key], {});\n",
              "          if (!dataTable) return;\n",
              "\n",
              "          const docLinkHtml = 'Like what you see? Visit the ' +\n",
              "            '<a target=\"_blank\" href=https://colab.research.google.com/notebooks/data_table.ipynb>data table notebook</a>'\n",
              "            + ' to learn more about interactive tables.';\n",
              "          element.innerHTML = '';\n",
              "          dataTable['output_type'] = 'display_data';\n",
              "          await google.colab.output.renderOutput(dataTable, element);\n",
              "          const docLink = document.createElement('div');\n",
              "          docLink.innerHTML = docLinkHtml;\n",
              "          element.appendChild(docLink);\n",
              "        }\n",
              "      </script>\n",
              "    </div>\n",
              "  </div>\n",
              "  "
            ]
          },
          "metadata": {},
          "execution_count": 13
        }
      ]
    },
    {
      "cell_type": "code",
      "source": [
        "reg.score(Xt,y)"
      ],
      "metadata": {
        "colab": {
          "base_uri": "https://localhost:8080/"
        },
        "id": "Typ7wKop0CY2",
        "outputId": "6a295039-f2ec-458b-998c-8934e78f6122"
      },
      "execution_count": null,
      "outputs": [
        {
          "output_type": "execute_result",
          "data": {
            "text/plain": [
              "0.9824344442534932"
            ]
          },
          "metadata": {},
          "execution_count": 14
        }
      ]
    },
    {
      "cell_type": "code",
      "source": [
        "reg.coef_"
      ],
      "metadata": {
        "colab": {
          "base_uri": "https://localhost:8080/"
        },
        "id": "bBO-x93K72Tj",
        "outputId": "f4c24c87-26c5-4d7f-f4bf-bd53213a64dd"
      },
      "execution_count": null,
      "outputs": [
        {
          "output_type": "execute_result",
          "data": {
            "text/plain": [
              "array([ 5.05342011,  5.38626139,  5.02395252,  3.59753334,  2.81961963,\n",
              "        9.0477584 , 12.60260207])"
            ]
          },
          "metadata": {},
          "execution_count": 15
        }
      ]
    },
    {
      "cell_type": "code",
      "source": [
        "reg.intercept_"
      ],
      "metadata": {
        "colab": {
          "base_uri": "https://localhost:8080/"
        },
        "id": "jul-V4Lz74Fj",
        "outputId": "c66c0b4b-3b4c-4ba7-95b2-946621575bd5"
      },
      "execution_count": null,
      "outputs": [
        {
          "output_type": "execute_result",
          "data": {
            "text/plain": [
              "67.34709193245779"
            ]
          },
          "metadata": {},
          "execution_count": 16
        }
      ]
    },
    {
      "cell_type": "markdown",
      "source": [
        "## Anova"
      ],
      "metadata": {
        "id": "ayWf-aBXEh3P"
      }
    },
    {
      "cell_type": "code",
      "source": [
        "model = ols('GII ~ Institutions+HumanCapital+Infrastructure+Market+Business+Knowledge+Creative', data=Full).fit()\n",
        "anova_table = sm.stats.anova_lm(model, typ=2)\n",
        "anova_table"
      ],
      "metadata": {
        "colab": {
          "base_uri": "https://localhost:8080/"
        },
        "id": "KH4aLNF1_aoH",
        "outputId": "4483c86f-807a-4318-f76e-7532b55909ce"
      },
      "execution_count": null,
      "outputs": [
        {
          "output_type": "execute_result",
          "data": {
            "text/plain": [
              "                      sum_sq      df            F         PR(>F)\n",
              "Institutions     6691.830058     1.0   250.874294   7.252928e-51\n",
              "HumanCapital     7086.486074     1.0   265.669805   1.854273e-53\n",
              "Infrastructure   4886.445407     1.0   183.191075   1.303174e-38\n",
              "Market           6228.258999     1.0   233.495182   8.790167e-48\n",
              "Business         3016.761655     1.0   113.097306   3.636168e-25\n",
              "Knowledge       30012.304146     1.0  1125.150450  1.290642e-168\n",
              "Creative        43243.978968     1.0  1621.201163  1.087713e-215\n",
              "Residual        28221.130594  1058.0          NaN            NaN"
            ],
            "text/html": [
              "\n",
              "  <div id=\"df-cee661dd-2682-4c9b-b46d-023d92a22f69\">\n",
              "    <div class=\"colab-df-container\">\n",
              "      <div>\n",
              "<style scoped>\n",
              "    .dataframe tbody tr th:only-of-type {\n",
              "        vertical-align: middle;\n",
              "    }\n",
              "\n",
              "    .dataframe tbody tr th {\n",
              "        vertical-align: top;\n",
              "    }\n",
              "\n",
              "    .dataframe thead th {\n",
              "        text-align: right;\n",
              "    }\n",
              "</style>\n",
              "<table border=\"1\" class=\"dataframe\">\n",
              "  <thead>\n",
              "    <tr style=\"text-align: right;\">\n",
              "      <th></th>\n",
              "      <th>sum_sq</th>\n",
              "      <th>df</th>\n",
              "      <th>F</th>\n",
              "      <th>PR(&gt;F)</th>\n",
              "    </tr>\n",
              "  </thead>\n",
              "  <tbody>\n",
              "    <tr>\n",
              "      <th>Institutions</th>\n",
              "      <td>6691.830058</td>\n",
              "      <td>1.0</td>\n",
              "      <td>250.874294</td>\n",
              "      <td>7.252928e-51</td>\n",
              "    </tr>\n",
              "    <tr>\n",
              "      <th>HumanCapital</th>\n",
              "      <td>7086.486074</td>\n",
              "      <td>1.0</td>\n",
              "      <td>265.669805</td>\n",
              "      <td>1.854273e-53</td>\n",
              "    </tr>\n",
              "    <tr>\n",
              "      <th>Infrastructure</th>\n",
              "      <td>4886.445407</td>\n",
              "      <td>1.0</td>\n",
              "      <td>183.191075</td>\n",
              "      <td>1.303174e-38</td>\n",
              "    </tr>\n",
              "    <tr>\n",
              "      <th>Market</th>\n",
              "      <td>6228.258999</td>\n",
              "      <td>1.0</td>\n",
              "      <td>233.495182</td>\n",
              "      <td>8.790167e-48</td>\n",
              "    </tr>\n",
              "    <tr>\n",
              "      <th>Business</th>\n",
              "      <td>3016.761655</td>\n",
              "      <td>1.0</td>\n",
              "      <td>113.097306</td>\n",
              "      <td>3.636168e-25</td>\n",
              "    </tr>\n",
              "    <tr>\n",
              "      <th>Knowledge</th>\n",
              "      <td>30012.304146</td>\n",
              "      <td>1.0</td>\n",
              "      <td>1125.150450</td>\n",
              "      <td>1.290642e-168</td>\n",
              "    </tr>\n",
              "    <tr>\n",
              "      <th>Creative</th>\n",
              "      <td>43243.978968</td>\n",
              "      <td>1.0</td>\n",
              "      <td>1621.201163</td>\n",
              "      <td>1.087713e-215</td>\n",
              "    </tr>\n",
              "    <tr>\n",
              "      <th>Residual</th>\n",
              "      <td>28221.130594</td>\n",
              "      <td>1058.0</td>\n",
              "      <td>NaN</td>\n",
              "      <td>NaN</td>\n",
              "    </tr>\n",
              "  </tbody>\n",
              "</table>\n",
              "</div>\n",
              "      <button class=\"colab-df-convert\" onclick=\"convertToInteractive('df-cee661dd-2682-4c9b-b46d-023d92a22f69')\"\n",
              "              title=\"Convert this dataframe to an interactive table.\"\n",
              "              style=\"display:none;\">\n",
              "        \n",
              "  <svg xmlns=\"http://www.w3.org/2000/svg\" height=\"24px\"viewBox=\"0 0 24 24\"\n",
              "       width=\"24px\">\n",
              "    <path d=\"M0 0h24v24H0V0z\" fill=\"none\"/>\n",
              "    <path d=\"M18.56 5.44l.94 2.06.94-2.06 2.06-.94-2.06-.94-.94-2.06-.94 2.06-2.06.94zm-11 1L8.5 8.5l.94-2.06 2.06-.94-2.06-.94L8.5 2.5l-.94 2.06-2.06.94zm10 10l.94 2.06.94-2.06 2.06-.94-2.06-.94-.94-2.06-.94 2.06-2.06.94z\"/><path d=\"M17.41 7.96l-1.37-1.37c-.4-.4-.92-.59-1.43-.59-.52 0-1.04.2-1.43.59L10.3 9.45l-7.72 7.72c-.78.78-.78 2.05 0 2.83L4 21.41c.39.39.9.59 1.41.59.51 0 1.02-.2 1.41-.59l7.78-7.78 2.81-2.81c.8-.78.8-2.07 0-2.86zM5.41 20L4 18.59l7.72-7.72 1.47 1.35L5.41 20z\"/>\n",
              "  </svg>\n",
              "      </button>\n",
              "      \n",
              "  <style>\n",
              "    .colab-df-container {\n",
              "      display:flex;\n",
              "      flex-wrap:wrap;\n",
              "      gap: 12px;\n",
              "    }\n",
              "\n",
              "    .colab-df-convert {\n",
              "      background-color: #E8F0FE;\n",
              "      border: none;\n",
              "      border-radius: 50%;\n",
              "      cursor: pointer;\n",
              "      display: none;\n",
              "      fill: #1967D2;\n",
              "      height: 32px;\n",
              "      padding: 0 0 0 0;\n",
              "      width: 32px;\n",
              "    }\n",
              "\n",
              "    .colab-df-convert:hover {\n",
              "      background-color: #E2EBFA;\n",
              "      box-shadow: 0px 1px 2px rgba(60, 64, 67, 0.3), 0px 1px 3px 1px rgba(60, 64, 67, 0.15);\n",
              "      fill: #174EA6;\n",
              "    }\n",
              "\n",
              "    [theme=dark] .colab-df-convert {\n",
              "      background-color: #3B4455;\n",
              "      fill: #D2E3FC;\n",
              "    }\n",
              "\n",
              "    [theme=dark] .colab-df-convert:hover {\n",
              "      background-color: #434B5C;\n",
              "      box-shadow: 0px 1px 3px 1px rgba(0, 0, 0, 0.15);\n",
              "      filter: drop-shadow(0px 1px 2px rgba(0, 0, 0, 0.3));\n",
              "      fill: #FFFFFF;\n",
              "    }\n",
              "  </style>\n",
              "\n",
              "      <script>\n",
              "        const buttonEl =\n",
              "          document.querySelector('#df-cee661dd-2682-4c9b-b46d-023d92a22f69 button.colab-df-convert');\n",
              "        buttonEl.style.display =\n",
              "          google.colab.kernel.accessAllowed ? 'block' : 'none';\n",
              "\n",
              "        async function convertToInteractive(key) {\n",
              "          const element = document.querySelector('#df-cee661dd-2682-4c9b-b46d-023d92a22f69');\n",
              "          const dataTable =\n",
              "            await google.colab.kernel.invokeFunction('convertToInteractive',\n",
              "                                                     [key], {});\n",
              "          if (!dataTable) return;\n",
              "\n",
              "          const docLinkHtml = 'Like what you see? Visit the ' +\n",
              "            '<a target=\"_blank\" href=https://colab.research.google.com/notebooks/data_table.ipynb>data table notebook</a>'\n",
              "            + ' to learn more about interactive tables.';\n",
              "          element.innerHTML = '';\n",
              "          dataTable['output_type'] = 'display_data';\n",
              "          await google.colab.output.renderOutput(dataTable, element);\n",
              "          const docLink = document.createElement('div');\n",
              "          docLink.innerHTML = docLinkHtml;\n",
              "          element.appendChild(docLink);\n",
              "        }\n",
              "      </script>\n",
              "    </div>\n",
              "  </div>\n",
              "  "
            ]
          },
          "metadata": {},
          "execution_count": 17
        }
      ]
    },
    {
      "cell_type": "code",
      "source": [
        "F.shape"
      ],
      "metadata": {
        "colab": {
          "base_uri": "https://localhost:8080/"
        },
        "id": "Ek7Gwsb9GU6q",
        "outputId": "38d8b926-0a82-4c1d-ad3d-c8072cd6bafa"
      },
      "execution_count": null,
      "outputs": [
        {
          "output_type": "execute_result",
          "data": {
            "text/plain": [
              "(131, 9)"
            ]
          },
          "metadata": {},
          "execution_count": 18
        }
      ]
    },
    {
      "cell_type": "markdown",
      "source": [
        "## PCA and clustering"
      ],
      "metadata": {
        "id": "KB-O1RqMEq3v"
      }
    },
    {
      "cell_type": "code",
      "source": [
        "pca = PCA(n_components=2)\n",
        "pc = pca.fit_transform(Xt)\n",
        "evr = pca.explained_variance_ratio_"
      ],
      "metadata": {
        "id": "ohQqX_8376o7"
      },
      "execution_count": null,
      "outputs": []
    },
    {
      "cell_type": "code",
      "source": [
        "pca.components_"
      ],
      "metadata": {
        "colab": {
          "base_uri": "https://localhost:8080/"
        },
        "id": "MyjAAleM781E",
        "outputId": "78031c1e-6499-478e-91a1-b70bb9a4a01b"
      },
      "execution_count": null,
      "outputs": [
        {
          "output_type": "execute_result",
          "data": {
            "text/plain": [
              "array([[ 0.38706086,  0.389682  ,  0.3983898 ,  0.34655223,  0.36861841,\n",
              "         0.3659937 ,  0.38689538],\n",
              "       [-0.12672481,  0.15755712,  0.07083594, -0.86169261,  0.10329417,\n",
              "         0.41032257,  0.18041727]])"
            ]
          },
          "metadata": {},
          "execution_count": 20
        }
      ]
    },
    {
      "cell_type": "code",
      "source": [
        "kmeans = KMeans(n_clusters = 6).fit(Xt)\n",
        "kml = kmeans.labels_\n",
        "kmc = kmeans.cluster_centers_"
      ],
      "metadata": {
        "id": "jNDW08AK8AgT"
      },
      "execution_count": null,
      "outputs": []
    },
    {
      "cell_type": "code",
      "source": [
        "for i in range(np.max(kml)):\n",
        "  x = pc[kml==i,0]\n",
        "  y = pc[kml==i,1]\n",
        "  plt.plot(x,y,'o')\n",
        "  \n",
        "plt.xlabel('PC 1: {:4.3}%'.format(100*evr[0]))\n",
        "plt.ylabel('PC 2: {:4.3}%'.format(100*evr[1]))\n",
        "\n",
        "plt.axhline(color='black', lw=0.5)\n",
        "plt.axvline(color='black', lw=0.5)"
      ],
      "metadata": {
        "colab": {
          "base_uri": "https://localhost:8080/"
        },
        "id": "X8Ndschr8FUc",
        "outputId": "e21f448f-66e0-4bfc-fb0b-de4608ed8460"
      },
      "execution_count": null,
      "outputs": [
        {
          "output_type": "execute_result",
          "data": {
            "text/plain": [
              "<matplotlib.lines.Line2D at 0x7f56715e2710>"
            ]
          },
          "metadata": {},
          "execution_count": 22
        },
        {
          "output_type": "display_data",
          "data": {
            "text/plain": [
              "<Figure size 432x288 with 1 Axes>"
            ],
            "image/png": "[encoded data removed]"
          },
          "metadata": {
            "needs_background": "light"
          }
        }
      ]
    },
    {
      "cell_type": "code",
      "source": [
        "Xt.shape"
      ],
      "metadata": {
        "id": "nHna6QNT89Wr",
        "colab": {
          "base_uri": "https://localhost:8080/"
        },
        "outputId": "f20cece0-22e9-460d-bb0d-2297b5d483e4"
      },
      "execution_count": null,
      "outputs": [
        {
          "output_type": "execute_result",
          "data": {
            "text/plain": [
              "(1066, 7)"
            ]
          },
          "metadata": {},
          "execution_count": 23
        }
      ]
    },
    {
      "cell_type": "code",
      "source": [
        "Xi"
      ],
      "metadata": {
        "colab": {
          "base_uri": "https://localhost:8080/"
        },
        "id": "1-1gL8rsjK7z",
        "outputId": "3f375204-a6b7-4454-c73a-49a4e7bfdb6f"
      },
      "execution_count": null,
      "outputs": [
        {
          "output_type": "execute_result",
          "data": {
            "text/plain": [
              "array([[ 73.,  84.,  75., ..., 128., 108., 121.],\n",
              "       [118.,  79.,  93., ..., 139., 115., 140.],\n",
              "       [136., 126., 129., ..., 141.,  62., 137.],\n",
              "       ...,\n",
              "       [131., 125., 129., ..., 104., 128., 124.],\n",
              "       [122., 111., 107., ...,  91., 123., 126.],\n",
              "       [128.,  93., 131., ..., 108., 101., 112.]])"
            ]
          },
          "metadata": {},
          "execution_count": 24
        }
      ]
    },
    {
      "cell_type": "code",
      "source": [
        "Xi.shape"
      ],
      "metadata": {
        "colab": {
          "base_uri": "https://localhost:8080/"
        },
        "id": "pDUXdbZhq53J",
        "outputId": "be68b7ff-f278-41a9-e0a5-3e07b3b0e2c8"
      },
      "execution_count": null,
      "outputs": [
        {
          "output_type": "execute_result",
          "data": {
            "text/plain": [
              "(1066, 7)"
            ]
          },
          "metadata": {},
          "execution_count": 25
        }
      ]
    },
    {
      "cell_type": "code",
      "source": [
        ""
      ],
      "metadata": {
        "id": "_ah_FpQ4rRbp"
      },
      "execution_count": null,
      "outputs": []
    },
    {
      "cell_type": "markdown",
      "source": [
        "# Creative inputs to outputs\n",
        "\n",
        "Other regression analyses."
      ],
      "metadata": {
        "id": "2eTAZs78rSie"
      }
    },
    {
      "cell_type": "code",
      "source": [
        "xx = Xi[:,:4]\n",
        "yy = Xi[:,4:]\n"
      ],
      "metadata": {
        "id": "8ayZ6jhwrFGm"
      },
      "execution_count": null,
      "outputs": []
    },
    {
      "cell_type": "code",
      "source": [
        "reg = LinearRegression().fit(xx, yy)"
      ],
      "metadata": {
        "id": "NmbcJSOQrcZm"
      },
      "execution_count": null,
      "outputs": []
    },
    {
      "cell_type": "code",
      "source": [
        "print(reg.score(xx,yy))\n",
        "print(reg.intercept_)\n",
        "print(reg.coef_)"
      ],
      "metadata": {
        "colab": {
          "base_uri": "https://localhost:8080/"
        },
        "id": "Vs3TWP0U5cNr",
        "outputId": "951475cb-15ed-4744-92ef-a5eafffa493e"
      },
      "execution_count": null,
      "outputs": [
        {
          "output_type": "stream",
          "name": "stdout",
          "text": [
            "0.6430003699913411\n",
            "[ 9.36029332 10.4257249   6.05821584]\n",
            "[[0.31792413 0.2515757  0.13976469 0.15095403]\n",
            " [0.04062171 0.43944106 0.22558802 0.1394674 ]\n",
            " [0.29172034 0.11277028 0.42315892 0.08209938]]\n"
          ]
        }
      ]
    },
    {
      "cell_type": "code",
      "source": [
        "import statsmodels.api as sm\n",
        "from statsmodels.formula.api import ols"
      ],
      "metadata": {
        "id": "iZmdPEiU5mHA"
      },
      "execution_count": null,
      "outputs": []
    },
    {
      "cell_type": "code",
      "source": [
        "df = F.iloc[:,:-2]\n",
        "df.columns = ['Institutions', 'HumanCapital', 'Infrastructure',\n",
        "       'Market', 'Business',\n",
        "       'Knowledge', 'Creative']\n",
        "\n",
        "model1 = ols('Knowledge ~ Institutions+HumanCapital+Infrastructure+Market+Business', data=df).fit()\n",
        "anova_table1 = sm.stats.anova_lm(model1, typ=2)\n",
        "print(anova_table1)\n",
        "\n",
        "model2 = ols('Creative ~ Institutions+HumanCapital+Infrastructure+Market+Business', data=df).fit()\n",
        "anova_table2 = sm.stats.anova_lm(model2, typ=2)\n",
        "print(anova_table2)"
      ],
      "metadata": {
        "colab": {
          "base_uri": "https://localhost:8080/"
        },
        "id": "3IoHAUMh5xwa",
        "outputId": "b2297450-95ff-4ff1-fbb9-59f756d2b848"
      },
      "execution_count": null,
      "outputs": [
        {
          "output_type": "stream",
          "name": "stdout",
          "text": [
            "                      sum_sq     df          F    PR(>F)\n",
            "Institutions       58.689410    1.0   0.131054  0.717953\n",
            "HumanCapital     4284.859072    1.0   9.568156  0.002443\n",
            "Infrastructure   1858.678925    1.0   4.150459  0.043734\n",
            "Market            281.017543    1.0   0.627517  0.429769\n",
            "Business         6007.953261    1.0  13.415852  0.000367\n",
            "Residual        55978.117863  125.0        NaN       NaN\n",
            "                      sum_sq     df          F    PR(>F)\n",
            "Institutions     1441.564694    1.0   4.443458  0.037032\n",
            "HumanCapital      406.879949    1.0   1.254161  0.264906\n",
            "Infrastructure   2769.655793    1.0   8.537147  0.004131\n",
            "Market            640.500835    1.0   1.974270  0.162476\n",
            "Business         5844.222632    1.0  18.014147  0.000042\n",
            "Residual        40553.006658  125.0        NaN       NaN\n"
          ]
        }
      ]
    },
    {
      "cell_type": "code",
      "source": [
        "anova_table1"
      ],
      "metadata": {
        "colab": {
          "base_uri": "https://localhost:8080/"
        },
        "id": "PURA7wExBKPg",
        "outputId": "700ed923-cd61-4370-c5f2-aa5fbba76c66"
      },
      "execution_count": null,
      "outputs": [
        {
          "output_type": "execute_result",
          "data": {
            "text/plain": [
              "                      sum_sq     df          F    PR(>F)\n",
              "Institutions       58.689410    1.0   0.131054  0.717953\n",
              "HumanCapital     4284.859072    1.0   9.568156  0.002443\n",
              "Infrastructure   1858.678925    1.0   4.150459  0.043734\n",
              "Market            281.017543    1.0   0.627517  0.429769\n",
              "Business         6007.953261    1.0  13.415852  0.000367\n",
              "Residual        55978.117863  125.0        NaN       NaN"
            ],
            "text/html": [
              "\n",
              "  <div id=\"df-1b98b672-243d-4cd9-9659-25cfac29b18c\">\n",
              "    <div class=\"colab-df-container\">\n",
              "      <div>\n",
              "<style scoped>\n",
              "    .dataframe tbody tr th:only-of-type {\n",
              "        vertical-align: middle;\n",
              "    }\n",
              "\n",
              "    .dataframe tbody tr th {\n",
              "        vertical-align: top;\n",
              "    }\n",
              "\n",
              "    .dataframe thead th {\n",
              "        text-align: right;\n",
              "    }\n",
              "</style>\n",
              "<table border=\"1\" class=\"dataframe\">\n",
              "  <thead>\n",
              "    <tr style=\"text-align: right;\">\n",
              "      <th></th>\n",
              "      <th>sum_sq</th>\n",
              "      <th>df</th>\n",
              "      <th>F</th>\n",
              "      <th>PR(&gt;F)</th>\n",
              "    </tr>\n",
              "  </thead>\n",
              "  <tbody>\n",
              "    <tr>\n",
              "      <th>Institutions</th>\n",
              "      <td>58.689410</td>\n",
              "      <td>1.0</td>\n",
              "      <td>0.131054</td>\n",
              "      <td>0.717953</td>\n",
              "    </tr>\n",
              "    <tr>\n",
              "      <th>HumanCapital</th>\n",
              "      <td>4284.859072</td>\n",
              "      <td>1.0</td>\n",
              "      <td>9.568156</td>\n",
              "      <td>0.002443</td>\n",
              "    </tr>\n",
              "    <tr>\n",
              "      <th>Infrastructure</th>\n",
              "      <td>1858.678925</td>\n",
              "      <td>1.0</td>\n",
              "      <td>4.150459</td>\n",
              "      <td>0.043734</td>\n",
              "    </tr>\n",
              "    <tr>\n",
              "      <th>Market</th>\n",
              "      <td>281.017543</td>\n",
              "      <td>1.0</td>\n",
              "      <td>0.627517</td>\n",
              "      <td>0.429769</td>\n",
              "    </tr>\n",
              "    <tr>\n",
              "      <th>Business</th>\n",
              "      <td>6007.953261</td>\n",
              "      <td>1.0</td>\n",
              "      <td>13.415852</td>\n",
              "      <td>0.000367</td>\n",
              "    </tr>\n",
              "    <tr>\n",
              "      <th>Residual</th>\n",
              "      <td>55978.117863</td>\n",
              "      <td>125.0</td>\n",
              "      <td>NaN</td>\n",
              "      <td>NaN</td>\n",
              "    </tr>\n",
              "  </tbody>\n",
              "</table>\n",
              "</div>\n",
              "      <button class=\"colab-df-convert\" onclick=\"convertToInteractive('df-1b98b672-243d-4cd9-9659-25cfac29b18c')\"\n",
              "              title=\"Convert this dataframe to an interactive table.\"\n",
              "              style=\"display:none;\">\n",
              "        \n",
              "  <svg xmlns=\"http://www.w3.org/2000/svg\" height=\"24px\"viewBox=\"0 0 24 24\"\n",
              "       width=\"24px\">\n",
              "    <path d=\"M0 0h24v24H0V0z\" fill=\"none\"/>\n",
              "    <path d=\"M18.56 5.44l.94 2.06.94-2.06 2.06-.94-2.06-.94-.94-2.06-.94 2.06-2.06.94zm-11 1L8.5 8.5l.94-2.06 2.06-.94-2.06-.94L8.5 2.5l-.94 2.06-2.06.94zm10 10l.94 2.06.94-2.06 2.06-.94-2.06-.94-.94-2.06-.94 2.06-2.06.94z\"/><path d=\"M17.41 7.96l-1.37-1.37c-.4-.4-.92-.59-1.43-.59-.52 0-1.04.2-1.43.59L10.3 9.45l-7.72 7.72c-.78.78-.78 2.05 0 2.83L4 21.41c.39.39.9.59 1.41.59.51 0 1.02-.2 1.41-.59l7.78-7.78 2.81-2.81c.8-.78.8-2.07 0-2.86zM5.41 20L4 18.59l7.72-7.72 1.47 1.35L5.41 20z\"/>\n",
              "  </svg>\n",
              "      </button>\n",
              "      \n",
              "  <style>\n",
              "    .colab-df-container {\n",
              "      display:flex;\n",
              "      flex-wrap:wrap;\n",
              "      gap: 12px;\n",
              "    }\n",
              "\n",
              "    .colab-df-convert {\n",
              "      background-color: #E8F0FE;\n",
              "      border: none;\n",
              "      border-radius: 50%;\n",
              "      cursor: pointer;\n",
              "      display: none;\n",
              "      fill: #1967D2;\n",
              "      height: 32px;\n",
              "      padding: 0 0 0 0;\n",
              "      width: 32px;\n",
              "    }\n",
              "\n",
              "    .colab-df-convert:hover {\n",
              "      background-color: #E2EBFA;\n",
              "      box-shadow: 0px 1px 2px rgba(60, 64, 67, 0.3), 0px 1px 3px 1px rgba(60, 64, 67, 0.15);\n",
              "      fill: #174EA6;\n",
              "    }\n",
              "\n",
              "    [theme=dark] .colab-df-convert {\n",
              "      background-color: #3B4455;\n",
              "      fill: #D2E3FC;\n",
              "    }\n",
              "\n",
              "    [theme=dark] .colab-df-convert:hover {\n",
              "      background-color: #434B5C;\n",
              "      box-shadow: 0px 1px 3px 1px rgba(0, 0, 0, 0.15);\n",
              "      filter: drop-shadow(0px 1px 2px rgba(0, 0, 0, 0.3));\n",
              "      fill: #FFFFFF;\n",
              "    }\n",
              "  </style>\n",
              "\n",
              "      <script>\n",
              "        const buttonEl =\n",
              "          document.querySelector('#df-1b98b672-243d-4cd9-9659-25cfac29b18c button.colab-df-convert');\n",
              "        buttonEl.style.display =\n",
              "          google.colab.kernel.accessAllowed ? 'block' : 'none';\n",
              "\n",
              "        async function convertToInteractive(key) {\n",
              "          const element = document.querySelector('#df-1b98b672-243d-4cd9-9659-25cfac29b18c');\n",
              "          const dataTable =\n",
              "            await google.colab.kernel.invokeFunction('convertToInteractive',\n",
              "                                                     [key], {});\n",
              "          if (!dataTable) return;\n",
              "\n",
              "          const docLinkHtml = 'Like what you see? Visit the ' +\n",
              "            '<a target=\"_blank\" href=https://colab.research.google.com/notebooks/data_table.ipynb>data table notebook</a>'\n",
              "            + ' to learn more about interactive tables.';\n",
              "          element.innerHTML = '';\n",
              "          dataTable['output_type'] = 'display_data';\n",
              "          await google.colab.output.renderOutput(dataTable, element);\n",
              "          const docLink = document.createElement('div');\n",
              "          docLink.innerHTML = docLinkHtml;\n",
              "          element.appendChild(docLink);\n",
              "        }\n",
              "      </script>\n",
              "    </div>\n",
              "  </div>\n",
              "  "
            ]
          },
          "metadata": {},
          "execution_count": 31
        }
      ]
    },
    {
      "cell_type": "code",
      "source": [
        "anova_table2"
      ],
      "metadata": {
        "id": "ON9rUJK57mDi",
        "colab": {
          "base_uri": "https://localhost:8080/"
        },
        "outputId": "d5a6e330-ad9a-446a-a750-196fd1af4e82"
      },
      "execution_count": null,
      "outputs": [
        {
          "output_type": "execute_result",
          "data": {
            "text/plain": [
              "                      sum_sq     df          F    PR(>F)\n",
              "Institutions     1441.564694    1.0   4.443458  0.037032\n",
              "HumanCapital      406.879949    1.0   1.254161  0.264906\n",
              "Infrastructure   2769.655793    1.0   8.537147  0.004131\n",
              "Market            640.500835    1.0   1.974270  0.162476\n",
              "Business         5844.222632    1.0  18.014147  0.000042\n",
              "Residual        40553.006658  125.0        NaN       NaN"
            ],
            "text/html": [
              "\n",
              "  <div id=\"df-5281a750-e489-414b-821d-8d86982cdd64\">\n",
              "    <div class=\"colab-df-container\">\n",
              "      <div>\n",
              "<style scoped>\n",
              "    .dataframe tbody tr th:only-of-type {\n",
              "        vertical-align: middle;\n",
              "    }\n",
              "\n",
              "    .dataframe tbody tr th {\n",
              "        vertical-align: top;\n",
              "    }\n",
              "\n",
              "    .dataframe thead th {\n",
              "        text-align: right;\n",
              "    }\n",
              "</style>\n",
              "<table border=\"1\" class=\"dataframe\">\n",
              "  <thead>\n",
              "    <tr style=\"text-align: right;\">\n",
              "      <th></th>\n",
              "      <th>sum_sq</th>\n",
              "      <th>df</th>\n",
              "      <th>F</th>\n",
              "      <th>PR(&gt;F)</th>\n",
              "    </tr>\n",
              "  </thead>\n",
              "  <tbody>\n",
              "    <tr>\n",
              "      <th>Institutions</th>\n",
              "      <td>1441.564694</td>\n",
              "      <td>1.0</td>\n",
              "      <td>4.443458</td>\n",
              "      <td>0.037032</td>\n",
              "    </tr>\n",
              "    <tr>\n",
              "      <th>HumanCapital</th>\n",
              "      <td>406.879949</td>\n",
              "      <td>1.0</td>\n",
              "      <td>1.254161</td>\n",
              "      <td>0.264906</td>\n",
              "    </tr>\n",
              "    <tr>\n",
              "      <th>Infrastructure</th>\n",
              "      <td>2769.655793</td>\n",
              "      <td>1.0</td>\n",
              "      <td>8.537147</td>\n",
              "      <td>0.004131</td>\n",
              "    </tr>\n",
              "    <tr>\n",
              "      <th>Market</th>\n",
              "      <td>640.500835</td>\n",
              "      <td>1.0</td>\n",
              "      <td>1.974270</td>\n",
              "      <td>0.162476</td>\n",
              "    </tr>\n",
              "    <tr>\n",
              "      <th>Business</th>\n",
              "      <td>5844.222632</td>\n",
              "      <td>1.0</td>\n",
              "      <td>18.014147</td>\n",
              "      <td>0.000042</td>\n",
              "    </tr>\n",
              "    <tr>\n",
              "      <th>Residual</th>\n",
              "      <td>40553.006658</td>\n",
              "      <td>125.0</td>\n",
              "      <td>NaN</td>\n",
              "      <td>NaN</td>\n",
              "    </tr>\n",
              "  </tbody>\n",
              "</table>\n",
              "</div>\n",
              "      <button class=\"colab-df-convert\" onclick=\"convertToInteractive('df-5281a750-e489-414b-821d-8d86982cdd64')\"\n",
              "              title=\"Convert this dataframe to an interactive table.\"\n",
              "              style=\"display:none;\">\n",
              "        \n",
              "  <svg xmlns=\"http://www.w3.org/2000/svg\" height=\"24px\"viewBox=\"0 0 24 24\"\n",
              "       width=\"24px\">\n",
              "    <path d=\"M0 0h24v24H0V0z\" fill=\"none\"/>\n",
              "    <path d=\"M18.56 5.44l.94 2.06.94-2.06 2.06-.94-2.06-.94-.94-2.06-.94 2.06-2.06.94zm-11 1L8.5 8.5l.94-2.06 2.06-.94-2.06-.94L8.5 2.5l-.94 2.06-2.06.94zm10 10l.94 2.06.94-2.06 2.06-.94-2.06-.94-.94-2.06-.94 2.06-2.06.94z\"/><path d=\"M17.41 7.96l-1.37-1.37c-.4-.4-.92-.59-1.43-.59-.52 0-1.04.2-1.43.59L10.3 9.45l-7.72 7.72c-.78.78-.78 2.05 0 2.83L4 21.41c.39.39.9.59 1.41.59.51 0 1.02-.2 1.41-.59l7.78-7.78 2.81-2.81c.8-.78.8-2.07 0-2.86zM5.41 20L4 18.59l7.72-7.72 1.47 1.35L5.41 20z\"/>\n",
              "  </svg>\n",
              "      </button>\n",
              "      \n",
              "  <style>\n",
              "    .colab-df-container {\n",
              "      display:flex;\n",
              "      flex-wrap:wrap;\n",
              "      gap: 12px;\n",
              "    }\n",
              "\n",
              "    .colab-df-convert {\n",
              "      background-color: #E8F0FE;\n",
              "      border: none;\n",
              "      border-radius: 50%;\n",
              "      cursor: pointer;\n",
              "      display: none;\n",
              "      fill: #1967D2;\n",
              "      height: 32px;\n",
              "      padding: 0 0 0 0;\n",
              "      width: 32px;\n",
              "    }\n",
              "\n",
              "    .colab-df-convert:hover {\n",
              "      background-color: #E2EBFA;\n",
              "      box-shadow: 0px 1px 2px rgba(60, 64, 67, 0.3), 0px 1px 3px 1px rgba(60, 64, 67, 0.15);\n",
              "      fill: #174EA6;\n",
              "    }\n",
              "\n",
              "    [theme=dark] .colab-df-convert {\n",
              "      background-color: #3B4455;\n",
              "      fill: #D2E3FC;\n",
              "    }\n",
              "\n",
              "    [theme=dark] .colab-df-convert:hover {\n",
              "      background-color: #434B5C;\n",
              "      box-shadow: 0px 1px 3px 1px rgba(0, 0, 0, 0.15);\n",
              "      filter: drop-shadow(0px 1px 2px rgba(0, 0, 0, 0.3));\n",
              "      fill: #FFFFFF;\n",
              "    }\n",
              "  </style>\n",
              "\n",
              "      <script>\n",
              "        const buttonEl =\n",
              "          document.querySelector('#df-5281a750-e489-414b-821d-8d86982cdd64 button.colab-df-convert');\n",
              "        buttonEl.style.display =\n",
              "          google.colab.kernel.accessAllowed ? 'block' : 'none';\n",
              "\n",
              "        async function convertToInteractive(key) {\n",
              "          const element = document.querySelector('#df-5281a750-e489-414b-821d-8d86982cdd64');\n",
              "          const dataTable =\n",
              "            await google.colab.kernel.invokeFunction('convertToInteractive',\n",
              "                                                     [key], {});\n",
              "          if (!dataTable) return;\n",
              "\n",
              "          const docLinkHtml = 'Like what you see? Visit the ' +\n",
              "            '<a target=\"_blank\" href=https://colab.research.google.com/notebooks/data_table.ipynb>data table notebook</a>'\n",
              "            + ' to learn more about interactive tables.';\n",
              "          element.innerHTML = '';\n",
              "          dataTable['output_type'] = 'display_data';\n",
              "          await google.colab.output.renderOutput(dataTable, element);\n",
              "          const docLink = document.createElement('div');\n",
              "          docLink.innerHTML = docLinkHtml;\n",
              "          element.appendChild(docLink);\n",
              "        }\n",
              "      </script>\n",
              "    </div>\n",
              "  </div>\n",
              "  "
            ]
          },
          "metadata": {},
          "execution_count": 32
        }
      ]
    },
    {
      "cell_type": "code",
      "source": [
        ""
      ],
      "metadata": {
        "id": "ejjR0pgEDIDV"
      },
      "execution_count": null,
      "outputs": []
    },
    {
      "cell_type": "markdown",
      "source": [
        ""
      ],
      "metadata": {
        "id": "q0OZv_6nDIjO"
      }
    },
    {
      "cell_type": "markdown",
      "source": [
        "# Hypotheses tests\n",
        "\n"
      ],
      "metadata": {
        "id": "j6eqGsETCfGx"
      }
    },
    {
      "cell_type": "code",
      "source": [
        "def linear_regression_assumptions(features, label, feature_names=None):\n",
        "    \"\"\"\n",
        "    Tests a linear regression on the model to see if assumptions are being met\n",
        "    \"\"\"\n",
        "    from sklearn.linear_model import LinearRegression\n",
        "    import seaborn as sns\n",
        "    import matplotlib.pyplot as plt\n",
        "    \n",
        "    # Setting feature names to x1, x2, x3, etc. if they are not defined\n",
        "    if feature_names is None:\n",
        "        feature_names = ['X'+str(feature+1) for feature in range(features.shape[1])]\n",
        "    \n",
        "    print('Fitting linear regression')\n",
        "    # Multi-threading if the dataset is a size where doing so is beneficial\n",
        "    if features.shape[0] < 100000:\n",
        "        model = LinearRegression(n_jobs=-1)\n",
        "    else:\n",
        "        model = LinearRegression()\n",
        "        \n",
        "    model.fit(features, label)\n",
        "    \n",
        "    # Returning linear regression R^2 and coefficients before performing diagnostics\n",
        "    r2 = model.score(features, label)\n",
        "    print()\n",
        "    print('R^2:', r2, '\\n')\n",
        "    print('Coefficients')\n",
        "    print('-------------------------------------')\n",
        "    print('Intercept:', model.intercept_)\n",
        "    \n",
        "    for feature in range(len(model.coef_)):\n",
        "        print('{0}: {1}'.format(feature_names[feature], model.coef_[feature]))\n",
        "\n",
        "    print('\\nPerforming linear regression assumption testing')\n",
        "    \n",
        "    # Creating predictions and calculating residuals for assumption tests\n",
        "    predictions = model.predict(features)\n",
        "    df_results = pd.DataFrame({'Actual': list(label), 'Predicted': list(predictions)})\n",
        "    df_results['Residuals'] = abs(df_results['Actual']) - abs(df_results['Predicted'])\n",
        "\n",
        "    \n",
        "    def linear_assumption():\n",
        "        \"\"\"\n",
        "        Linearity: Assumes there is a linear relationship between the predictors and\n",
        "                   the response variable. If not, either a polynomial term or another\n",
        "                   algorithm should be used.\n",
        "        \"\"\"\n",
        "        print('\\n=======================================================================================')\n",
        "        print('Assumption 1: Linear Relationship between the Target and the Features')\n",
        "        \n",
        "        print('Checking with a scatter plot of actual vs. predicted. Predictions should follow the diagonal line.')\n",
        "        \n",
        "        # Plotting the actual vs predicted values\n",
        "        sns.lmplot(x='Actual', y='Predicted', data=df_results, fit_reg=False, size=7)\n",
        "        \n",
        "        # Plotting the diagonal line\n",
        "        line_coords = np.arange(df_results.min().min(), df_results.max().max())\n",
        "        plt.plot(line_coords, line_coords,  # X and y points\n",
        "                 color='darkorange', linestyle='--')\n",
        "        plt.title('Actual vs. Predicted')\n",
        "        plt.show()\n",
        "        print('If non-linearity is apparent, consider adding a polynomial term')\n",
        "        \n",
        "        \n",
        "    def normal_errors_assumption(p_value_thresh=0.05):\n",
        "        \"\"\"\n",
        "        Normality: Assumes that the error terms are normally distributed. If they are not,\n",
        "        nonlinear transformations of variables may solve this.\n",
        "               \n",
        "        This assumption being violated primarily causes issues with the confidence intervals\n",
        "        \"\"\"\n",
        "        from statsmodels.stats.diagnostic import normal_ad\n",
        "        print('\\n=======================================================================================')\n",
        "        print('Assumption 2: The error terms are normally distributed')\n",
        "        print()\n",
        "    \n",
        "        print('Using the Anderson-Darling test for normal distribution')\n",
        "\n",
        "        # Performing the test on the residuals\n",
        "        p_value = normal_ad(df_results['Residuals'])[1]\n",
        "        print('p-value from the test - below 0.05 generally means non-normal:', p_value)\n",
        "    \n",
        "        # Reporting the normality of the residuals\n",
        "        if p_value < p_value_thresh:\n",
        "            print('Residuals are not normally distributed')\n",
        "        else:\n",
        "            print('Residuals are normally distributed')\n",
        "    \n",
        "        # Plotting the residuals distribution\n",
        "        plt.subplots(figsize=(12, 6))\n",
        "        plt.title('Distribution of Residuals')\n",
        "        sns.distplot(df_results['Residuals'])\n",
        "        plt.show()\n",
        "    \n",
        "        print()\n",
        "        if p_value > p_value_thresh:\n",
        "            print('Assumption satisfied')\n",
        "        else:\n",
        "            print('Assumption not satisfied')\n",
        "            print()\n",
        "            print('Confidence intervals will likely be affected')\n",
        "            print('Try performing nonlinear transformations on variables')\n",
        "        \n",
        "        \n",
        "    def multicollinearity_assumption():\n",
        "        \"\"\"\n",
        "        Multicollinearity: Assumes that predictors are not correlated with each other. If there is\n",
        "                           correlation among the predictors, then either remove prepdictors with high\n",
        "                           Variance Inflation Factor (VIF) values or perform dimensionality reduction\n",
        "                           \n",
        "                           This assumption being violated causes issues with interpretability of the \n",
        "                           coefficients and the standard errors of the coefficients.\n",
        "        \"\"\"\n",
        "        from statsmodels.stats.outliers_influence import variance_inflation_factor\n",
        "        print('\\n=======================================================================================')\n",
        "        print('Assumption 3: Little to no multicollinearity among predictors')\n",
        "        \n",
        "        # Plotting the heatmap\n",
        "        plt.figure(figsize = (10,8))\n",
        "        sns.heatmap(pd.DataFrame(features, columns=feature_names).corr(), annot=True)\n",
        "        plt.title('Correlation of Variables')\n",
        "        plt.show()\n",
        "        \n",
        "        print('Variance Inflation Factors (VIF)')\n",
        "        print('> 10: An indication that multicollinearity may be present')\n",
        "        print('> 100: Certain multicollinearity among the variables')\n",
        "        print('-------------------------------------')\n",
        "       \n",
        "        # Gathering the VIF for each variable\n",
        "        VIF = [variance_inflation_factor(features, i) for i in range(features.shape[1])]\n",
        "        for idx, vif in enumerate(VIF):\n",
        "            print('{0}: {1}'.format(feature_names[idx], vif))\n",
        "        \n",
        "        # Gathering and printing total cases of possible or definite multicollinearity\n",
        "        possible_multicollinearity = sum([1 for vif in VIF if vif > 10])\n",
        "        definite_multicollinearity = sum([1 for vif in VIF if vif > 100])\n",
        "        print()\n",
        "        print('{0} cases of possible multicollinearity'.format(possible_multicollinearity))\n",
        "        print('{0} cases of definite multicollinearity'.format(definite_multicollinearity))\n",
        "        print()\n",
        "\n",
        "        if definite_multicollinearity == 0:\n",
        "            if possible_multicollinearity == 0:\n",
        "                print('Assumption satisfied')\n",
        "            else:\n",
        "                print('Assumption possibly satisfied')\n",
        "                print()\n",
        "                print('Coefficient interpretability may be problematic')\n",
        "                print('Consider removing variables with a high Variance Inflation Factor (VIF)')\n",
        "        else:\n",
        "            print('Assumption not satisfied')\n",
        "            print()\n",
        "            print('Coefficient interpretability will be problematic')\n",
        "            print('Consider removing variables with a high Variance Inflation Factor (VIF)')\n",
        "        \n",
        "        \n",
        "    def autocorrelation_assumption():\n",
        "        \"\"\"\n",
        "        Autocorrelation: Assumes that there is no autocorrelation in the residuals. If there is\n",
        "                         autocorrelation, then there is a pattern that is not explained due to\n",
        "                         the current value being dependent on the previous value.\n",
        "                         This may be resolved by adding a lag variable of either the dependent\n",
        "                         variable or some of the predictors.\n",
        "        \"\"\"\n",
        "        from statsmodels.stats.stattools import durbin_watson\n",
        "        print('\\n=======================================================================================')\n",
        "        print('Assumption 4: No Autocorrelation')\n",
        "        print('\\nPerforming Durbin-Watson Test')\n",
        "        print('Values of 1.5 < d < 2.5 generally show that there is no autocorrelation in the data')\n",
        "        print('0 to 2< is positive autocorrelation')\n",
        "        print('>2 to 4 is negative autocorrelation')\n",
        "        print('-------------------------------------')\n",
        "        durbinWatson = durbin_watson(df_results['Residuals'])\n",
        "        print('Durbin-Watson:', durbinWatson)\n",
        "        if durbinWatson < 1.5:\n",
        "            print('Signs of positive autocorrelation', '\\n')\n",
        "            print('Assumption not satisfied', '\\n')\n",
        "            print('Consider adding lag variables')\n",
        "        elif durbinWatson > 2.5:\n",
        "            print('Signs of negative autocorrelation', '\\n')\n",
        "            print('Assumption not satisfied', '\\n')\n",
        "            print('Consider adding lag variables')\n",
        "        else:\n",
        "            print('Little to no autocorrelation', '\\n')\n",
        "            print('Assumption satisfied')\n",
        "\n",
        "            \n",
        "    def homoscedasticity_assumption():\n",
        "        \"\"\"\n",
        "        Homoscedasticity: Assumes that the errors exhibit constant variance\n",
        "        \"\"\"\n",
        "        print('\\n=======================================================================================')\n",
        "        print('Assumption 5: Homoscedasticity of Error Terms')\n",
        "        print('Residuals should have relative constant variance')\n",
        "        \n",
        "        # Plotting the residuals\n",
        "        plt.subplots(figsize=(12, 6))\n",
        "        ax = plt.subplot(111)  # To remove spines\n",
        "        plt.scatter(x=df_results.index, y=df_results.Residuals, alpha=0.5)\n",
        "        plt.plot(np.repeat(0, df_results.index.max()), color='darkorange', linestyle='--')\n",
        "        ax.spines['right'].set_visible(False)  # Removing the right spine\n",
        "        ax.spines['top'].set_visible(False)  # Removing the top spine\n",
        "        plt.title('Residuals')\n",
        "        plt.show() \n",
        "        print('If heteroscedasticity is apparent, confidence intervals and predictions will be affected')\n",
        "        \n",
        "        \n",
        "    linear_assumption()\n",
        "    normal_errors_assumption()\n",
        "    multicollinearity_assumption()\n",
        "    autocorrelation_assumption()\n",
        "    homoscedasticity_assumption()\n"
      ],
      "metadata": {
        "id": "Bnn4nR2YCkO4"
      },
      "execution_count": null,
      "outputs": []
    },
    {
      "cell_type": "code",
      "source": [
        "X = Full.iloc[:,:5].values\n",
        "y = Full.iloc[:,5].values.squeeze()\n",
        "linear_regression_assumptions(X, y, feature_names=Full.columns[:5])"
      ],
      "metadata": {
        "id": "n4zP0gWPFIoM",
        "colab": {
          "base_uri": "https://localhost:8080/",
          "height": 1000
        },
        "outputId": "ffcb403a-3fcc-40e5-f9fa-00dabcc7d54c"
      },
      "execution_count": null,
      "outputs": [
        {
          "output_type": "stream",
          "name": "stdout",
          "text": [
            "Fitting linear regression\n",
            "\n",
            "R^2: 0.6320226527487117 \n",
            "\n",
            "Coefficients\n",
            "-------------------------------------\n",
            "Intercept: 8.078134882094751\n",
            "Institutions: -0.039114624319046734\n",
            "HumanCapital: 0.3763451089291695\n",
            "Infrastructure: 0.19053461083334666\n",
            "Market: 0.10160767230658702\n",
            "Business: 0.25080303957922273\n",
            "\n",
            "Performing linear regression assumption testing\n",
            "\n",
            "=======================================================================================\n",
            "Assumption 1: Linear Relationship between the Target and the Features\n",
            "Checking with a scatter plot of actual vs. predicted. Predictions should follow the diagonal line.\n"
          ]
        },
        {
          "output_type": "stream",
          "name": "stderr",
          "text": [
            "/usr/local/lib/python3.7/dist-packages/seaborn/regression.py:581: UserWarning: The `size` parameter has been renamed to `height`; please update your code.\n",
            "  warnings.warn(msg, UserWarning)\n"
          ]
        },
        {
          "output_type": "display_data",
          "data": {
            "text/plain": [
              "<Figure size 504x504 with 1 Axes>"
            ],
            "image/png": "[encoded data removed]"
          },
          "metadata": {
            "needs_background": "light"
          }
        },
        {
          "output_type": "stream",
          "name": "stdout",
          "text": [
            "If non-linearity is apparent, consider adding a polynomial term\n",
            "\n",
            "=======================================================================================\n",
            "Assumption 2: The error terms are normally distributed\n",
            "\n",
            "Using the Anderson-Darling test for normal distribution\n",
            "p-value from the test - below 0.05 generally means non-normal: 3.030429555133812e-08\n",
            "Residuals are not normally distributed\n"
          ]
        },
        {
          "output_type": "stream",
          "name": "stderr",
          "text": [
            "/usr/local/lib/python3.7/dist-packages/seaborn/distributions.py:2619: FutureWarning: `distplot` is a deprecated function and will be removed in a future version. Please adapt your code to use either `displot` (a figure-level function with similar flexibility) or `histplot` (an axes-level function for histograms).\n",
            "  warnings.warn(msg, FutureWarning)\n"
          ]
        },
        {
          "output_type": "display_data",
          "data": {
            "text/plain": [
              "<Figure size 864x432 with 1 Axes>"
            ],
            "image/png": "[encoded data removed]"
          },
          "metadata": {
            "needs_background": "light"
          }
        },
        {
          "output_type": "stream",
          "name": "stdout",
          "text": [
            "\n",
            "Assumption not satisfied\n",
            "\n",
            "Confidence intervals will likely be affected\n",
            "Try performing nonlinear transformations on variables\n",
            "\n",
            "=======================================================================================\n",
            "Assumption 3: Little to no multicollinearity among predictors\n"
          ]
        },
        {
          "output_type": "display_data",
          "data": {
            "text/plain": [
              "<Figure size 720x576 with 2 Axes>"
            ],
            "image/png": "[encoded data removed]"
          },
          "metadata": {
            "needs_background": "light"
          }
        },
        {
          "output_type": "stream",
          "name": "stdout",
          "text": [
            "Variance Inflation Factors (VIF)\n",
            "> 10: An indication that multicollinearity may be present\n",
            "> 100: Certain multicollinearity among the variables\n",
            "-------------------------------------\n",
            "Institutions: 15.329860640345018\n",
            "HumanCapital: 15.815062093633031\n",
            "Infrastructure: 19.69277112550781\n",
            "Market: 8.324415653557752\n",
            "Business: 9.96828852913717\n",
            "\n",
            "3 cases of possible multicollinearity\n",
            "0 cases of definite multicollinearity\n",
            "\n",
            "Assumption possibly satisfied\n",
            "\n",
            "Coefficient interpretability may be problematic\n",
            "Consider removing variables with a high Variance Inflation Factor (VIF)\n",
            "\n",
            "=======================================================================================\n",
            "Assumption 4: No Autocorrelation\n",
            "\n",
            "Performing Durbin-Watson Test\n",
            "Values of 1.5 < d < 2.5 generally show that there is no autocorrelation in the data\n",
            "0 to 2< is positive autocorrelation\n",
            ">2 to 4 is negative autocorrelation\n",
            "-------------------------------------\n",
            "Durbin-Watson: 2.0523864909719514\n",
            "Little to no autocorrelation \n",
            "\n",
            "Assumption satisfied\n",
            "\n",
            "=======================================================================================\n",
            "Assumption 5: Homoscedasticity of Error Terms\n",
            "Residuals should have relative constant variance\n"
          ]
        },
        {
          "output_type": "display_data",
          "data": {
            "text/plain": [
              "<Figure size 864x432 with 1 Axes>"
            ],
            "image/png": "[encoded data removed]"
          },
          "metadata": {
            "needs_background": "light"
          }
        },
        {
          "output_type": "stream",
          "name": "stdout",
          "text": [
            "If heteroscedasticity is apparent, confidence intervals and predictions will be affected\n"
          ]
        }
      ]
    },
    {
      "cell_type": "code",
      "source": [
        "features = X\n",
        "label = y.squeeze()\n",
        "feature_names=Full.columns[:5]"
      ],
      "metadata": {
        "id": "GGlLQOJzxfpH"
      },
      "execution_count": null,
      "outputs": []
    },
    {
      "cell_type": "code",
      "source": [
        "feature_names"
      ],
      "metadata": {
        "colab": {
          "base_uri": "https://localhost:8080/"
        },
        "id": "nTEjCJ5143uv",
        "outputId": "ad925a80-f699-4a26-ba2d-dec67b6c7d6c"
      },
      "execution_count": null,
      "outputs": [
        {
          "output_type": "execute_result",
          "data": {
            "text/plain": [
              "Index(['Institutions', 'HumanCapital', 'Infrastructure', 'Market', 'Business'], dtype='object')"
            ]
          },
          "metadata": {},
          "execution_count": 66
        }
      ]
    },
    {
      "cell_type": "code",
      "source": [
        "model = LinearRegression()\n",
        "model.fit(features, label)\n",
        "r2 = model.score(features, label)\n",
        "print()\n",
        "print('R^2:', r2, '\\n')\n",
        "print('Coefficients')\n",
        "print('-------------------------------------')\n",
        "print('Intercept:', model.intercept_)\n",
        "    \n",
        "for feature in range(len(model.coef_)):\n",
        "    print('{0}: {1}'.format(feature_names[feature], model.coef_[feature]))\n",
        "\n",
        "predictions = model.predict(features)\n",
        "df_results = pd.DataFrame({'Actual': list(label), 'Predicted': list(predictions)})\n",
        "df_results['Residuals'] = abs(df_results['Actual']) - abs(df_results['Predicted'])\n",
        "\n",
        "from statsmodels.stats.diagnostic import normal_ad\n",
        "print('\\n=======================================================================================')\n",
        "print('Assumption 2: The error terms are normally distributed')\n",
        "print()\n",
        "    \n",
        "print('Using the Anderson-Darling test for normal distribution')\n",
        "\n",
        "        # Performing the test on the residuals\n",
        "p_value = normal_ad(df_results['Residuals'])[1]\n",
        "print('p-value from the test - below 0.05 generally means non-normal:', p_value)\n",
        "    \n",
        "# Reporting the normality of the residuals\n",
        "if p_value < 0.05:\n",
        "     print('Residuals are not normally distributed')\n",
        "else:\n",
        "     print('Residuals are normally distributed')\n",
        "print(p_value)\n",
        "\n"
      ],
      "metadata": {
        "colab": {
          "base_uri": "https://localhost:8080/"
        },
        "id": "BbnR_gNdFyXl",
        "outputId": "a29011fc-52c0-4b5c-950d-df673f005c11"
      },
      "execution_count": null,
      "outputs": [
        {
          "output_type": "stream",
          "name": "stdout",
          "text": [
            "\n",
            "R^2: 0.6320226527487117 \n",
            "\n",
            "Coefficients\n",
            "-------------------------------------\n",
            "Intercept: 8.078134882094751\n",
            "Institutions: -0.039114624319046734\n",
            "HumanCapital: 0.3763451089291695\n",
            "Infrastructure: 0.19053461083334666\n",
            "Market: 0.10160767230658702\n",
            "Business: 0.25080303957922273\n",
            "\n",
            "=======================================================================================\n",
            "Assumption 2: The error terms are normally distributed\n",
            "\n",
            "Using the Anderson-Darling test for normal distribution\n",
            "p-value from the test - below 0.05 generally means non-normal: 3.030429555133812e-08\n",
            "Residuals are not normally distributed\n",
            "3.030429555133812e-08\n"
          ]
        }
      ]
    },
    {
      "cell_type": "code",
      "source": [
        "#normal_ad(df_results['Residuals'].values)\n",
        "df_results['Residuals']\n"
      ],
      "metadata": {
        "colab": {
          "base_uri": "https://localhost:8080/"
        },
        "id": "QP7ObMPz1IzG",
        "outputId": "bfe631b7-a8ce-4545-9d82-345740525e83"
      },
      "execution_count": null,
      "outputs": [
        {
          "output_type": "execute_result",
          "data": {
            "text/plain": [
              "0        [21.519913150693128]\n",
              "1         [17.64151123018425]\n",
              "2        [-60.41475142704891]\n",
              "3        [12.883646404188028]\n",
              "4       [-18.995584876085644]\n",
              "                ...          \n",
              "1061      [8.345295881828548]\n",
              "1062    [-24.707890661866216]\n",
              "1063     [14.232871646263561]\n",
              "1064     [26.072610086753883]\n",
              "1065      [2.346635132852697]\n",
              "Name: Residuals, Length: 1066, dtype: object"
            ]
          },
          "metadata": {},
          "execution_count": 59
        }
      ]
    },
    {
      "cell_type": "code",
      "source": [
        "df_results"
      ],
      "metadata": {
        "colab": {
          "base_uri": "https://localhost:8080/",
          "height": 423
        },
        "id": "aDkNaxNc1O58",
        "outputId": "57ea92fd-b77e-4f62-8dc8-9fee30eae2c8"
      },
      "execution_count": null,
      "outputs": [
        {
          "output_type": "execute_result",
          "data": {
            "text/plain": [
              "       Actual             Predicted              Residuals\n",
              "0     [108.0]   [86.48008684930687]   [21.519913150693128]\n",
              "1     [115.0]   [97.35848876981575]    [17.64151123018425]\n",
              "2      [62.0]  [122.41475142704891]   [-60.41475142704891]\n",
              "3      [74.0]   [61.11635359581197]   [12.883646404188028]\n",
              "4      [58.0]   [76.99558487608564]  [-18.995584876085644]\n",
              "...       ...                   ...                    ...\n",
              "1061   [90.0]   [81.65470411817145]    [8.345295881828548]\n",
              "1062   [37.0]  [61.707890661866216]  [-24.707890661866216]\n",
              "1063  [128.0]  [113.76712835373644]   [14.232871646263561]\n",
              "1064  [123.0]   [96.92738991324612]   [26.072610086753883]\n",
              "1065  [101.0]    [98.6533648671473]    [2.346635132852697]\n",
              "\n",
              "[1066 rows x 3 columns]"
            ],
            "text/html": [
              "\n",
              "  <div id=\"df-f7162199-2e8a-4420-8fbb-53f2b3f8394b\">\n",
              "    <div class=\"colab-df-container\">\n",
              "      <div>\n",
              "<style scoped>\n",
              "    .dataframe tbody tr th:only-of-type {\n",
              "        vertical-align: middle;\n",
              "    }\n",
              "\n",
              "    .dataframe tbody tr th {\n",
              "        vertical-align: top;\n",
              "    }\n",
              "\n",
              "    .dataframe thead th {\n",
              "        text-align: right;\n",
              "    }\n",
              "</style>\n",
              "<table border=\"1\" class=\"dataframe\">\n",
              "  <thead>\n",
              "    <tr style=\"text-align: right;\">\n",
              "      <th></th>\n",
              "      <th>Actual</th>\n",
              "      <th>Predicted</th>\n",
              "      <th>Residuals</th>\n",
              "    </tr>\n",
              "  </thead>\n",
              "  <tbody>\n",
              "    <tr>\n",
              "      <th>0</th>\n",
              "      <td>[108.0]</td>\n",
              "      <td>[86.48008684930687]</td>\n",
              "      <td>[21.519913150693128]</td>\n",
              "    </tr>\n",
              "    <tr>\n",
              "      <th>1</th>\n",
              "      <td>[115.0]</td>\n",
              "      <td>[97.35848876981575]</td>\n",
              "      <td>[17.64151123018425]</td>\n",
              "    </tr>\n",
              "    <tr>\n",
              "      <th>2</th>\n",
              "      <td>[62.0]</td>\n",
              "      <td>[122.41475142704891]</td>\n",
              "      <td>[-60.41475142704891]</td>\n",
              "    </tr>\n",
              "    <tr>\n",
              "      <th>3</th>\n",
              "      <td>[74.0]</td>\n",
              "      <td>[61.11635359581197]</td>\n",
              "      <td>[12.883646404188028]</td>\n",
              "    </tr>\n",
              "    <tr>\n",
              "      <th>4</th>\n",
              "      <td>[58.0]</td>\n",
              "      <td>[76.99558487608564]</td>\n",
              "      <td>[-18.995584876085644]</td>\n",
              "    </tr>\n",
              "    <tr>\n",
              "      <th>...</th>\n",
              "      <td>...</td>\n",
              "      <td>...</td>\n",
              "      <td>...</td>\n",
              "    </tr>\n",
              "    <tr>\n",
              "      <th>1061</th>\n",
              "      <td>[90.0]</td>\n",
              "      <td>[81.65470411817145]</td>\n",
              "      <td>[8.345295881828548]</td>\n",
              "    </tr>\n",
              "    <tr>\n",
              "      <th>1062</th>\n",
              "      <td>[37.0]</td>\n",
              "      <td>[61.707890661866216]</td>\n",
              "      <td>[-24.707890661866216]</td>\n",
              "    </tr>\n",
              "    <tr>\n",
              "      <th>1063</th>\n",
              "      <td>[128.0]</td>\n",
              "      <td>[113.76712835373644]</td>\n",
              "      <td>[14.232871646263561]</td>\n",
              "    </tr>\n",
              "    <tr>\n",
              "      <th>1064</th>\n",
              "      <td>[123.0]</td>\n",
              "      <td>[96.92738991324612]</td>\n",
              "      <td>[26.072610086753883]</td>\n",
              "    </tr>\n",
              "    <tr>\n",
              "      <th>1065</th>\n",
              "      <td>[101.0]</td>\n",
              "      <td>[98.6533648671473]</td>\n",
              "      <td>[2.346635132852697]</td>\n",
              "    </tr>\n",
              "  </tbody>\n",
              "</table>\n",
              "<p>1066 rows × 3 columns</p>\n",
              "</div>\n",
              "      <button class=\"colab-df-convert\" onclick=\"convertToInteractive('df-f7162199-2e8a-4420-8fbb-53f2b3f8394b')\"\n",
              "              title=\"Convert this dataframe to an interactive table.\"\n",
              "              style=\"display:none;\">\n",
              "        \n",
              "  <svg xmlns=\"http://www.w3.org/2000/svg\" height=\"24px\"viewBox=\"0 0 24 24\"\n",
              "       width=\"24px\">\n",
              "    <path d=\"M0 0h24v24H0V0z\" fill=\"none\"/>\n",
              "    <path d=\"M18.56 5.44l.94 2.06.94-2.06 2.06-.94-2.06-.94-.94-2.06-.94 2.06-2.06.94zm-11 1L8.5 8.5l.94-2.06 2.06-.94-2.06-.94L8.5 2.5l-.94 2.06-2.06.94zm10 10l.94 2.06.94-2.06 2.06-.94-2.06-.94-.94-2.06-.94 2.06-2.06.94z\"/><path d=\"M17.41 7.96l-1.37-1.37c-.4-.4-.92-.59-1.43-.59-.52 0-1.04.2-1.43.59L10.3 9.45l-7.72 7.72c-.78.78-.78 2.05 0 2.83L4 21.41c.39.39.9.59 1.41.59.51 0 1.02-.2 1.41-.59l7.78-7.78 2.81-2.81c.8-.78.8-2.07 0-2.86zM5.41 20L4 18.59l7.72-7.72 1.47 1.35L5.41 20z\"/>\n",
              "  </svg>\n",
              "      </button>\n",
              "      \n",
              "  <style>\n",
              "    .colab-df-container {\n",
              "      display:flex;\n",
              "      flex-wrap:wrap;\n",
              "      gap: 12px;\n",
              "    }\n",
              "\n",
              "    .colab-df-convert {\n",
              "      background-color: #E8F0FE;\n",
              "      border: none;\n",
              "      border-radius: 50%;\n",
              "      cursor: pointer;\n",
              "      display: none;\n",
              "      fill: #1967D2;\n",
              "      height: 32px;\n",
              "      padding: 0 0 0 0;\n",
              "      width: 32px;\n",
              "    }\n",
              "\n",
              "    .colab-df-convert:hover {\n",
              "      background-color: #E2EBFA;\n",
              "      box-shadow: 0px 1px 2px rgba(60, 64, 67, 0.3), 0px 1px 3px 1px rgba(60, 64, 67, 0.15);\n",
              "      fill: #174EA6;\n",
              "    }\n",
              "\n",
              "    [theme=dark] .colab-df-convert {\n",
              "      background-color: #3B4455;\n",
              "      fill: #D2E3FC;\n",
              "    }\n",
              "\n",
              "    [theme=dark] .colab-df-convert:hover {\n",
              "      background-color: #434B5C;\n",
              "      box-shadow: 0px 1px 3px 1px rgba(0, 0, 0, 0.15);\n",
              "      filter: drop-shadow(0px 1px 2px rgba(0, 0, 0, 0.3));\n",
              "      fill: #FFFFFF;\n",
              "    }\n",
              "  </style>\n",
              "\n",
              "      <script>\n",
              "        const buttonEl =\n",
              "          document.querySelector('#df-f7162199-2e8a-4420-8fbb-53f2b3f8394b button.colab-df-convert');\n",
              "        buttonEl.style.display =\n",
              "          google.colab.kernel.accessAllowed ? 'block' : 'none';\n",
              "\n",
              "        async function convertToInteractive(key) {\n",
              "          const element = document.querySelector('#df-f7162199-2e8a-4420-8fbb-53f2b3f8394b');\n",
              "          const dataTable =\n",
              "            await google.colab.kernel.invokeFunction('convertToInteractive',\n",
              "                                                     [key], {});\n",
              "          if (!dataTable) return;\n",
              "\n",
              "          const docLinkHtml = 'Like what you see? Visit the ' +\n",
              "            '<a target=\"_blank\" href=https://colab.research.google.com/notebooks/data_table.ipynb>data table notebook</a>'\n",
              "            + ' to learn more about interactive tables.';\n",
              "          element.innerHTML = '';\n",
              "          dataTable['output_type'] = 'display_data';\n",
              "          await google.colab.output.renderOutput(dataTable, element);\n",
              "          const docLink = document.createElement('div');\n",
              "          docLink.innerHTML = docLinkHtml;\n",
              "          element.appendChild(docLink);\n",
              "        }\n",
              "      </script>\n",
              "    </div>\n",
              "  </div>\n",
              "  "
            ]
          },
          "metadata": {},
          "execution_count": 61
        }
      ]
    },
    {
      "cell_type": "code",
      "source": [
        "df_results = pd.DataFrame({'Actual': list(label), 'Predicted': list(predictions)})"
      ],
      "metadata": {
        "id": "uyIpK3gYtw5O"
      },
      "execution_count": null,
      "outputs": []
    },
    {
      "cell_type": "markdown",
      "source": [
        "# Graphs\n",
        "\n",
        "- Gráfico de linhas com os pilares para cada país ao longo dos anos.\n",
        "- Gráfico de mapa com os países pintados por valor do GII.\n",
        "- "
      ],
      "metadata": {
        "id": "dWoW7J9HtxhW"
      }
    },
    {
      "cell_type": "code",
      "source": [
        "!pip install geopandas"
      ],
      "metadata": {
        "colab": {
          "base_uri": "https://localhost:8080/"
        },
        "id": "8y7xBQQ988Sn",
        "outputId": "4737582c-c9ef-4363-df3c-b65df61f84a3"
      },
      "execution_count": null,
      "outputs": [
        {
          "output_type": "stream",
          "name": "stdout",
          "text": [
            "Collecting geopandas\n",
            "  Downloading geopandas-0.10.2-py2.py3-none-any.whl (1.0 MB)\n",
            "\u001b[?25l\r\u001b[K     |▎                               | 10 kB 25.5 MB/s eta 0:00:01\r\u001b[K     |▋                               | 20 kB 29.2 MB/s eta 0:00:01\r\u001b[K     |█                               | 30 kB 34.3 MB/s eta 0:00:01\r\u001b[K     |█▎                              | 40 kB 35.7 MB/s eta 0:00:01\r\u001b[K     |█▋                              | 51 kB 18.5 MB/s eta 0:00:01\r\u001b[K     |██                              | 61 kB 21.1 MB/s eta 0:00:01\r\u001b[K     |██▎                             | 71 kB 17.5 MB/s eta 0:00:01\r\u001b[K     |██▌                             | 81 kB 14.6 MB/s eta 0:00:01\r\u001b[K     |██▉                             | 92 kB 15.8 MB/s eta 0:00:01\r\u001b[K     |███▏                            | 102 kB 17.1 MB/s eta 0:00:01\r\u001b[K     |███▌                            | 112 kB 17.1 MB/s eta 0:00:01\r\u001b[K     |███▉                            | 122 kB 17.1 MB/s eta 0:00:01\r\u001b[K     |████▏                           | 133 kB 17.1 MB/s eta 0:00:01\r\u001b[K     |████▌                           | 143 kB 17.1 MB/s eta 0:00:01\r\u001b[K     |████▊                           | 153 kB 17.1 MB/s eta 0:00:01\r\u001b[K     |█████                           | 163 kB 17.1 MB/s eta 0:00:01\r\u001b[K     |█████▍                          | 174 kB 17.1 MB/s eta 0:00:01\r\u001b[K     |█████▊                          | 184 kB 17.1 MB/s eta 0:00:01\r\u001b[K     |██████                          | 194 kB 17.1 MB/s eta 0:00:01\r\u001b[K     |██████▍                         | 204 kB 17.1 MB/s eta 0:00:01\r\u001b[K     |██████▊                         | 215 kB 17.1 MB/s eta 0:00:01\r\u001b[K     |███████                         | 225 kB 17.1 MB/s eta 0:00:01\r\u001b[K     |███████▎                        | 235 kB 17.1 MB/s eta 0:00:01\r\u001b[K     |███████▋                        | 245 kB 17.1 MB/s eta 0:00:01\r\u001b[K     |████████                        | 256 kB 17.1 MB/s eta 0:00:01\r\u001b[K     |████████▎                       | 266 kB 17.1 MB/s eta 0:00:01\r\u001b[K     |████████▋                       | 276 kB 17.1 MB/s eta 0:00:01\r\u001b[K     |█████████                       | 286 kB 17.1 MB/s eta 0:00:01\r\u001b[K     |█████████▏                      | 296 kB 17.1 MB/s eta 0:00:01\r\u001b[K     |█████████▌                      | 307 kB 17.1 MB/s eta 0:00:01\r\u001b[K     |█████████▉                      | 317 kB 17.1 MB/s eta 0:00:01\r\u001b[K     |██████████▏                     | 327 kB 17.1 MB/s eta 0:00:01\r\u001b[K     |██████████▌                     | 337 kB 17.1 MB/s eta 0:00:01\r\u001b[K     |██████████▉                     | 348 kB 17.1 MB/s eta 0:00:01\r\u001b[K     |███████████▏                    | 358 kB 17.1 MB/s eta 0:00:01\r\u001b[K     |███████████▍                    | 368 kB 17.1 MB/s eta 0:00:01\r\u001b[K     |███████████▊                    | 378 kB 17.1 MB/s eta 0:00:01\r\u001b[K     |████████████                    | 389 kB 17.1 MB/s eta 0:00:01\r\u001b[K     |████████████▍                   | 399 kB 17.1 MB/s eta 0:00:01\r\u001b[K     |████████████▊                   | 409 kB 17.1 MB/s eta 0:00:01\r\u001b[K     |█████████████                   | 419 kB 17.1 MB/s eta 0:00:01\r\u001b[K     |█████████████▍                  | 430 kB 17.1 MB/s eta 0:00:01\r\u001b[K     |█████████████▋                  | 440 kB 17.1 MB/s eta 0:00:01\r\u001b[K     |██████████████                  | 450 kB 17.1 MB/s eta 0:00:01\r\u001b[K     |██████████████▎                 | 460 kB 17.1 MB/s eta 0:00:01\r\u001b[K     |██████████████▋                 | 471 kB 17.1 MB/s eta 0:00:01\r\u001b[K     |███████████████                 | 481 kB 17.1 MB/s eta 0:00:01\r\u001b[K     |███████████████▎                | 491 kB 17.1 MB/s eta 0:00:01\r\u001b[K     |███████████████▋                | 501 kB 17.1 MB/s eta 0:00:01\r\u001b[K     |███████████████▉                | 512 kB 17.1 MB/s eta 0:00:01\r\u001b[K     |████████████████▏               | 522 kB 17.1 MB/s eta 0:00:01\r\u001b[K     |████████████████▌               | 532 kB 17.1 MB/s eta 0:00:01\r\u001b[K     |████████████████▉               | 542 kB 17.1 MB/s eta 0:00:01\r\u001b[K     |█████████████████▏              | 552 kB 17.1 MB/s eta 0:00:01\r\u001b[K     |█████████████████▌              | 563 kB 17.1 MB/s eta 0:00:01\r\u001b[K     |█████████████████▉              | 573 kB 17.1 MB/s eta 0:00:01\r\u001b[K     |██████████████████              | 583 kB 17.1 MB/s eta 0:00:01\r\u001b[K     |██████████████████▍             | 593 kB 17.1 MB/s eta 0:00:01\r\u001b[K     |██████████████████▊             | 604 kB 17.1 MB/s eta 0:00:01\r\u001b[K     |███████████████████             | 614 kB 17.1 MB/s eta 0:00:01\r\u001b[K     |███████████████████▍            | 624 kB 17.1 MB/s eta 0:00:01\r\u001b[K     |███████████████████▊            | 634 kB 17.1 MB/s eta 0:00:01\r\u001b[K     |████████████████████            | 645 kB 17.1 MB/s eta 0:00:01\r\u001b[K     |████████████████████▎           | 655 kB 17.1 MB/s eta 0:00:01\r\u001b[K     |████████████████████▋           | 665 kB 17.1 MB/s eta 0:00:01\r\u001b[K     |█████████████████████           | 675 kB 17.1 MB/s eta 0:00:01\r\u001b[K     |█████████████████████▎          | 686 kB 17.1 MB/s eta 0:00:01\r\u001b[K     |█████████████████████▋          | 696 kB 17.1 MB/s eta 0:00:01\r\u001b[K     |██████████████████████          | 706 kB 17.1 MB/s eta 0:00:01\r\u001b[K     |██████████████████████▎         | 716 kB 17.1 MB/s eta 0:00:01\r\u001b[K     |██████████████████████▋         | 727 kB 17.1 MB/s eta 0:00:01\r\u001b[K     |██████████████████████▉         | 737 kB 17.1 MB/s eta 0:00:01\r\u001b[K     |███████████████████████▏        | 747 kB 17.1 MB/s eta 0:00:01\r\u001b[K     |███████████████████████▌        | 757 kB 17.1 MB/s eta 0:00:01\r\u001b[K     |███████████████████████▉        | 768 kB 17.1 MB/s eta 0:00:01\r\u001b[K     |████████████████████████▏       | 778 kB 17.1 MB/s eta 0:00:01\r\u001b[K     |████████████████████████▌       | 788 kB 17.1 MB/s eta 0:00:01\r\u001b[K     |████████████████████████▉       | 798 kB 17.1 MB/s eta 0:00:01\r\u001b[K     |█████████████████████████       | 808 kB 17.1 MB/s eta 0:00:01\r\u001b[K     |█████████████████████████▍      | 819 kB 17.1 MB/s eta 0:00:01\r\u001b[K     |█████████████████████████▊      | 829 kB 17.1 MB/s eta 0:00:01\r\u001b[K     |██████████████████████████      | 839 kB 17.1 MB/s eta 0:00:01\r\u001b[K     |██████████████████████████▍     | 849 kB 17.1 MB/s eta 0:00:01\r\u001b[K     |██████████████████████████▊     | 860 kB 17.1 MB/s eta 0:00:01\r\u001b[K     |███████████████████████████     | 870 kB 17.1 MB/s eta 0:00:01\r\u001b[K     |███████████████████████████▎    | 880 kB 17.1 MB/s eta 0:00:01\r\u001b[K     |███████████████████████████▋    | 890 kB 17.1 MB/s eta 0:00:01\r\u001b[K     |████████████████████████████    | 901 kB 17.1 MB/s eta 0:00:01\r\u001b[K     |████████████████████████████▎   | 911 kB 17.1 MB/s eta 0:00:01\r\u001b[K     |████████████████████████████▋   | 921 kB 17.1 MB/s eta 0:00:01\r\u001b[K     |█████████████████████████████   | 931 kB 17.1 MB/s eta 0:00:01\r\u001b[K     |█████████████████████████████▎  | 942 kB 17.1 MB/s eta 0:00:01\r\u001b[K     |█████████████████████████████▌  | 952 kB 17.1 MB/s eta 0:00:01\r\u001b[K     |█████████████████████████████▉  | 962 kB 17.1 MB/s eta 0:00:01\r\u001b[K     |██████████████████████████████▏ | 972 kB 17.1 MB/s eta 0:00:01\r\u001b[K     |██████████████████████████████▌ | 983 kB 17.1 MB/s eta 0:00:01\r\u001b[K     |██████████████████████████████▉ | 993 kB 17.1 MB/s eta 0:00:01\r\u001b[K     |███████████████████████████████▏| 1.0 MB 17.1 MB/s eta 0:00:01\r\u001b[K     |███████████████████████████████▌| 1.0 MB 17.1 MB/s eta 0:00:01\r\u001b[K     |███████████████████████████████▊| 1.0 MB 17.1 MB/s eta 0:00:01\r\u001b[K     |████████████████████████████████| 1.0 MB 17.1 MB/s \n",
            "\u001b[?25hRequirement already satisfied: shapely>=1.6 in /usr/local/lib/python3.7/dist-packages (from geopandas) (1.8.1.post1)\n",
            "Requirement already satisfied: pandas>=0.25.0 in /usr/local/lib/python3.7/dist-packages (from geopandas) (1.3.5)\n",
            "Collecting fiona>=1.8\n",
            "  Downloading Fiona-1.8.21-cp37-cp37m-manylinux2014_x86_64.whl (16.7 MB)\n",
            "\u001b[K     |████████████████████████████████| 16.7 MB 182 kB/s \n",
            "\u001b[?25hCollecting pyproj>=2.2.0\n",
            "  Downloading pyproj-3.2.1-cp37-cp37m-manylinux2010_x86_64.whl (6.3 MB)\n",
            "\u001b[K     |████████████████████████████████| 6.3 MB 44.3 MB/s \n",
            "\u001b[?25hRequirement already satisfied: setuptools in /usr/local/lib/python3.7/dist-packages (from fiona>=1.8->geopandas) (57.4.0)\n",
            "Collecting munch\n",
            "  Downloading munch-2.5.0-py2.py3-none-any.whl (10 kB)\n",
            "Collecting cligj>=0.5\n",
            "  Downloading cligj-0.7.2-py3-none-any.whl (7.1 kB)\n",
            "Requirement already satisfied: six>=1.7 in /usr/local/lib/python3.7/dist-packages (from fiona>=1.8->geopandas) (1.15.0)\n",
            "Requirement already satisfied: attrs>=17 in /usr/local/lib/python3.7/dist-packages (from fiona>=1.8->geopandas) (21.4.0)\n",
            "Requirement already satisfied: certifi in /usr/local/lib/python3.7/dist-packages (from fiona>=1.8->geopandas) (2021.10.8)\n",
            "Requirement already satisfied: click>=4.0 in /usr/local/lib/python3.7/dist-packages (from fiona>=1.8->geopandas) (7.1.2)\n",
            "Collecting click-plugins>=1.0\n",
            "  Downloading click_plugins-1.1.1-py2.py3-none-any.whl (7.5 kB)\n",
            "Requirement already satisfied: python-dateutil>=2.7.3 in /usr/local/lib/python3.7/dist-packages (from pandas>=0.25.0->geopandas) (2.8.2)\n",
            "Requirement already satisfied: numpy>=1.17.3 in /usr/local/lib/python3.7/dist-packages (from pandas>=0.25.0->geopandas) (1.21.6)\n",
            "Requirement already satisfied: pytz>=2017.3 in /usr/local/lib/python3.7/dist-packages (from pandas>=0.25.0->geopandas) (2022.1)\n",
            "Installing collected packages: munch, cligj, click-plugins, pyproj, fiona, geopandas\n",
            "Successfully installed click-plugins-1.1.1 cligj-0.7.2 fiona-1.8.21 geopandas-0.10.2 munch-2.5.0 pyproj-3.2.1\n"
          ]
        }
      ]
    },
    {
      "cell_type": "code",
      "source": [
        "import matplotlib.pyplot as plt\n",
        "import geopandas"
      ],
      "metadata": {
        "id": "LnfR3HR18UJe"
      },
      "execution_count": null,
      "outputs": []
    },
    {
      "cell_type": "code",
      "source": [
        "pd.unique(G['countries'])"
      ],
      "metadata": {
        "colab": {
          "base_uri": "https://localhost:8080/"
        },
        "id": "rRAjT2OETrJq",
        "outputId": "56cbe025-69c6-4590-f04a-0a131ba9b3c7"
      },
      "execution_count": null,
      "outputs": [
        {
          "output_type": "execute_result",
          "data": {
            "text/plain": [
              "array(['Albania', 'Algeria', 'Angola', 'Argentina', 'Armenia',\n",
              "       'Australia', 'Austria', 'Azerbaijan', 'Bahrain', 'Bangladesh',\n",
              "       'Barbados', 'Belarus', 'Belgium', 'Belize', 'Benin',\n",
              "       'Bolivia, Plurinational State of', 'Bosnia and Herzegovina',\n",
              "       'Botswana', 'Brazil', 'Brunei Darussalam', 'Bulgaria',\n",
              "       'Burkina Faso', 'Burundi', 'Cambodia', 'Cameroon', 'Canada',\n",
              "       'Cape Verde', 'Chad', 'Chile', 'China', 'Colombia', 'Costa Rica',\n",
              "       'Cote dIvoire', 'Croatia', 'Cyprus', 'Czech Republic', 'Denmark',\n",
              "       'Dominican Republic', 'Ecuador', 'Egypt', 'El Salvador', 'Estonia',\n",
              "       'Ethiopia', 'Fiji', 'Finland', 'France', 'Gabon', 'Gambia',\n",
              "       'Georgia', 'Germany', 'Ghana', 'Greece', 'Guatemala', 'Guinea',\n",
              "       'Guyana', 'Honduras', 'Hong Kong (China)', 'Hungary', 'Iceland',\n",
              "       'India', 'Indonesia', 'Iran, Islamic Republic of', 'Ireland',\n",
              "       'Israel', 'Italy', 'Jamaica', 'Japan', 'Jordan', 'Kazakhstan',\n",
              "       'Kenya', 'Korea, Republic of', 'Kuwait', 'Kyrgyzstan',\n",
              "       \"Lao People's Democratic Republic\", 'Latvia', 'Lebanon', 'Lesotho',\n",
              "       'Libya', 'Lithuania', 'Luxembourg', 'Madagascar', 'Malawi',\n",
              "       'Malaysia', 'Mali', 'Malta', 'Mauritania', 'Mauritius', 'Mexico',\n",
              "       'Moldova, Republic of', 'Mongolia', 'Montenegro', 'Morocco',\n",
              "       'Mozambique', 'Namibia', 'Nepal', 'Netherlands', 'New Zealand',\n",
              "       'Nicaragua', 'Niger', 'Nigeria', 'Norway', 'Oman', 'Pakistan',\n",
              "       'Panama', 'Paraguay', 'Peru', 'Philippines', 'Poland', 'Portugal',\n",
              "       'Qatar', 'Romania', 'Russian Federation', 'Rwanda', 'Saudi Arabia',\n",
              "       'Senegal', 'Serbia', 'Singapore', 'Slovakia', 'Slovenia',\n",
              "       'South Africa', 'Spain', 'Sri Lanka', 'Sudan', 'Suriname',\n",
              "       'Swaziland', 'Sweden', 'Switzerland', 'Syrian Arab Republic',\n",
              "       'Taiwan, Province of China', 'Tajikistan',\n",
              "       'Tanzania, United Republic of', 'Thailand',\n",
              "       'The Former Yugoslav Republic (FYR) of Macedonia', 'Togo',\n",
              "       'Trinidad and Tobago', 'Tunisia', 'Turkey', 'Uganda', 'Ukraine',\n",
              "       'United Arab Emirates', 'United Kingdom',\n",
              "       'United States of America', 'Uruguay', 'Uzbekistan',\n",
              "       'Venezuela, Bolivarian Republic of', 'Viet Nam', 'Yemen', 'Zambia',\n",
              "       'Zimbabwe', 'Afghanistan', 'American Samoa', 'Andorra', 'Anguilla',\n",
              "       'Antigua and Barbuda', 'Aruba', 'Bahamas', 'Bermuda', 'Bhutan',\n",
              "       'Bolivia, Plurinational St.', 'Cabo Verde', 'Cayman Islands',\n",
              "       'Central African Republic', 'Channel Islands', 'Comoros', 'Congo',\n",
              "       'Congo, Democratic Republic of the', 'Cook Islands', 'Cuba',\n",
              "       'Curaçao', 'Djibouti', 'Dominica', 'Equatorial Guinea', 'Eritrea',\n",
              "       'Faroe Islands', 'French Guiana', 'French Polynesia', 'Gibraltar',\n",
              "       'Greenland', 'Grenada', 'Guam', 'Guinea Bissau', 'Haiti',\n",
              "       'Holy See (Vatican City State)', 'Iran, Islamic Rep.', 'Iraq',\n",
              "       'Isle of Man', 'Jersey', 'Kiribati',\n",
              "       \"Korea, Democratic People's Republic of\", 'Korea, Rep.', 'Kosovo',\n",
              "       'Liberia', 'Liechtenstein', 'Macao', 'Maldives',\n",
              "       'Marshall Islands', 'Martinique', 'Mayotte',\n",
              "       'Micronesia, Federated States of', 'Moldova, Rep.', 'Monaco',\n",
              "       'Montserrat', 'Myanmar', 'Nauru', 'Netherlands Antilles',\n",
              "       'New Caledonia', 'Niue', 'Northern Mariana Islands', 'Palau',\n",
              "       'Palestinian Territory, Occupied', 'Papua New Guinea',\n",
              "       'Puerto Rico', 'Réunion', 'Saint Kitts and Nevis', 'Saint Lucia',\n",
              "       'Saint Martin (French part)', 'Saint Vincent and the Grenadines',\n",
              "       'Samoa', 'San Marino', 'Sao Tome and Principe', 'Seychelles',\n",
              "       'Sierra Leone', 'Sint Maarten (Dutch part)', 'Solomon Islands',\n",
              "       'Somalia', 'South Sudan', 'Sudan (pre-secession)',\n",
              "       'Tanzania, United Rep.', 'Timor-Leste', 'Tokelau', 'Tonga',\n",
              "       'Turkmenistan', 'Turks and Caicos Islands', 'Tuvalu', 'Vanuatu',\n",
              "       'Venezuela, Bolivarian Rep.', 'Virgin Islands, British',\n",
              "       'Virgin Islands, U.S.', 'TFYR Macedonia', \"Côte d'Ivoire\",\n",
              "       'Bolivia (Plurinational State of)', \"Cote d'Ivoire\",\n",
              "       'Czech Republic (the)', 'Dominican Republic (the)',\n",
              "       'Hong Kong, China', 'Iran (Islamic Republic of)',\n",
              "       'Netherlands (the)', 'Niger (the)', 'North Macedonia',\n",
              "       'Republic of Korea (the)', 'Republic of Moldova (the)',\n",
              "       'Russian Federation (the)', 'United Arab Emirates (the)',\n",
              "       'United Kingdom (the)', 'United Republic of Tanzania (the)',\n",
              "       'United States of America (the)',\n",
              "       \"Lao People's Democratic Republic (the)\"], dtype=object)"
            ]
          },
          "metadata": {},
          "execution_count": 35
        }
      ]
    },
    {
      "cell_type": "code",
      "source": [
        "v = G['countries'].str.contains('Tanzania')\n",
        "G.loc[v,'countries'] = 'Tanzania'\n",
        "v = G['countries'].str.contains('Netherlands')\n",
        "G.loc[v,'countries'] = 'Netherlands'\n",
        "v = G['countries'].str.contains('Laos ')\n",
        "G.loc[v,'countries'] = 'Laos'\n",
        "v = G['countries'].str.contains('Lao ')\n",
        "G.loc[v,'countries'] = 'Laos'\n",
        "v = G['countries'].str.contains('Russia')\n",
        "G.loc[v,'countries'] = 'Russia'\n",
        "v = G['countries'].str.contains('Congo')\n",
        "G.loc[v,'countries'] = 'Congo'\n",
        "v = G['countries'].str.contains('Cape Verde')\n",
        "G.loc[v,'countries'] = 'Cabo Verde'\n",
        "v = G['countries'].str.contains('Bolivia')\n",
        "G.loc[v,'countries'] = 'Bolivia'\n",
        "v = G['countries'].str.contains('Macedonia')\n",
        "G.loc[v,'countries'] = 'Macedonia'\n",
        "v = G['countries'].str.contains('Moldova')\n",
        "G.loc[v,'countries'] = 'Moldova'\n",
        "v = G['countries'].str.contains('Ivoire')\n",
        "G.loc[v,'countries'] = \"Côte d'Ivoire\"\n",
        "v = G['countries'].str.contains('States of America') | G['countries'].str.contains('United Stated of America')\n",
        "G.loc[v,'countries'] = 'United Stated of America'\n",
        "v = G['countries'].str.contains('United Kingdom')\n",
        "G.loc[v,'countries'] = 'United Kingdom'\n",
        "v = (G['countries'].str.contains('Korea') & (~G['countries'].str.contains('People')))\n",
        "G.loc[v,'countries'] = 'South Korea'\n",
        "v = (G['countries'].str.contains('Korea') & (G['countries'].str.contains('People')))\n",
        "G.loc[v,'countries'] = \"North Korea\"\n",
        "v = G['countries'].str.contains('Arab Emirates')\n",
        "G.loc[v,'countries'] = 'United Arab Emirates'\n",
        "v = G['countries'].str.contains('Iran')\n",
        "G.loc[v,'countries'] = 'Iran'"
      ],
      "metadata": {
        "id": "RMPVercNEeCt"
      },
      "execution_count": null,
      "outputs": []
    },
    {
      "cell_type": "code",
      "source": [
        "countries = pd.unique(G['countries'])\n",
        "for c in countries:\n",
        "  v = (G['countries']==c).values\n",
        "  y = G.iloc[v,-2]\n",
        "  x = G.iloc[v,-3]\n",
        "  plt.plot(x,y,label=c)\n",
        "#plt.legend()\n"
      ],
      "metadata": {
        "id": "Tpmki9KDXqNl",
        "colab": {
          "base_uri": "https://localhost:8080/",
          "height": 265
        },
        "outputId": "24f9e52e-da40-4fa6-9172-caa780c5ac2e"
      },
      "execution_count": null,
      "outputs": [
        {
          "output_type": "display_data",
          "data": {
            "text/plain": [
              "<Figure size 432x288 with 1 Axes>"
            ],
            "image/png": "[encoded data removed]"
          },
          "metadata": {
            "needs_background": "light"
          }
        }
      ]
    },
    {
      "cell_type": "code",
      "source": [
        "world = geopandas.read_file(geopandas.datasets.get_path('naturalearth_lowres'))\n",
        "world = world[(world.pop_est>0) & (world.name!=\"Antarctica\")]"
      ],
      "metadata": {
        "id": "qutV5VniX6h_"
      },
      "execution_count": null,
      "outputs": []
    },
    {
      "cell_type": "code",
      "source": [
        "world['GII'] = \n",
        "world.plot(column='GII');"
      ],
      "metadata": {
        "id": "PYoblJ4s9Z3X",
        "colab": {
          "base_uri": "https://localhost:8080/",
          "height": 131
        },
        "outputId": "ad52f746-0a13-45f2-f3f6-7ebe585e78c8"
      },
      "execution_count": null,
      "outputs": [
        {
          "output_type": "error",
          "ename": "SyntaxError",
          "evalue": "ignored",
          "traceback": [
            "\u001b[0;36m  File \u001b[0;32m\"<ipython-input-130-4372e1d58665>\"\u001b[0;36m, line \u001b[0;32m1\u001b[0m\n\u001b[0;31m    world['GII'] =\u001b[0m\n\u001b[0m                   ^\u001b[0m\n\u001b[0;31mSyntaxError\u001b[0m\u001b[0;31m:\u001b[0m invalid syntax\n"
          ]
        }
      ]
    },
    {
      "cell_type": "code",
      "source": [
        "wc = list(world['name'])"
      ],
      "metadata": {
        "id": "6tddlYfRtYP6"
      },
      "execution_count": null,
      "outputs": []
    },
    {
      "cell_type": "code",
      "source": [
        "i1 = 0\n",
        "i2 = len(wc)\n",
        "k = i1\n",
        "while k<i2:\n",
        "  print(k,wc[k])\n",
        "  k = k+1"
      ],
      "metadata": {
        "colab": {
          "base_uri": "https://localhost:8080/"
        },
        "id": "i6_SZHkZ6KKf",
        "outputId": "58599cf0-af5b-4a60-899d-fbe2546d6ebf"
      },
      "execution_count": null,
      "outputs": [
        {
          "output_type": "stream",
          "name": "stdout",
          "text": [
            "0 Fiji\n",
            "1 Tanzania\n",
            "2 W. Sahara\n",
            "3 Canada\n",
            "4 United States of America\n",
            "5 Kazakhstan\n",
            "6 Uzbekistan\n",
            "7 Papua New Guinea\n",
            "8 Indonesia\n",
            "9 Argentina\n",
            "10 Chile\n",
            "11 Dem. Rep. Congo\n",
            "12 Somalia\n",
            "13 Kenya\n",
            "14 Sudan\n",
            "15 Chad\n",
            "16 Haiti\n",
            "17 Dominican Rep.\n",
            "18 Russia\n",
            "19 Bahamas\n",
            "20 Falkland Is.\n",
            "21 Norway\n",
            "22 Greenland\n",
            "23 Fr. S. Antarctic Lands\n",
            "24 Timor-Leste\n",
            "25 South Africa\n",
            "26 Lesotho\n",
            "27 Mexico\n",
            "28 Uruguay\n",
            "29 Brazil\n",
            "30 Bolivia\n",
            "31 Peru\n",
            "32 Colombia\n",
            "33 Panama\n",
            "34 Costa Rica\n",
            "35 Nicaragua\n",
            "36 Honduras\n",
            "37 El Salvador\n",
            "38 Guatemala\n",
            "39 Belize\n",
            "40 Venezuela\n",
            "41 Guyana\n",
            "42 Suriname\n",
            "43 France\n",
            "44 Ecuador\n",
            "45 Puerto Rico\n",
            "46 Jamaica\n",
            "47 Cuba\n",
            "48 Zimbabwe\n",
            "49 Botswana\n",
            "50 Namibia\n",
            "51 Senegal\n",
            "52 Mali\n",
            "53 Mauritania\n",
            "54 Benin\n",
            "55 Niger\n",
            "56 Nigeria\n",
            "57 Cameroon\n",
            "58 Togo\n",
            "59 Ghana\n",
            "60 Côte d'Ivoire\n",
            "61 Guinea\n",
            "62 Guinea-Bissau\n",
            "63 Liberia\n",
            "64 Sierra Leone\n",
            "65 Burkina Faso\n",
            "66 Central African Rep.\n",
            "67 Congo\n",
            "68 Gabon\n",
            "69 Eq. Guinea\n",
            "70 Zambia\n",
            "71 Malawi\n",
            "72 Mozambique\n",
            "73 eSwatini\n",
            "74 Angola\n",
            "75 Burundi\n",
            "76 Israel\n",
            "77 Lebanon\n",
            "78 Madagascar\n",
            "79 Palestine\n",
            "80 Gambia\n",
            "81 Tunisia\n",
            "82 Algeria\n",
            "83 Jordan\n",
            "84 United Arab Emirates\n",
            "85 Qatar\n",
            "86 Kuwait\n",
            "87 Iraq\n",
            "88 Oman\n",
            "89 Vanuatu\n",
            "90 Cambodia\n",
            "91 Thailand\n",
            "92 Laos\n",
            "93 Myanmar\n",
            "94 Vietnam\n",
            "95 North Korea\n",
            "96 South Korea\n",
            "97 Mongolia\n",
            "98 India\n",
            "99 Bangladesh\n",
            "100 Bhutan\n",
            "101 Nepal\n",
            "102 Pakistan\n",
            "103 Afghanistan\n",
            "104 Tajikistan\n",
            "105 Kyrgyzstan\n",
            "106 Turkmenistan\n",
            "107 Iran\n",
            "108 Syria\n",
            "109 Armenia\n",
            "110 Sweden\n",
            "111 Belarus\n",
            "112 Ukraine\n",
            "113 Poland\n",
            "114 Austria\n",
            "115 Hungary\n",
            "116 Moldova\n",
            "117 Romania\n",
            "118 Lithuania\n",
            "119 Latvia\n",
            "120 Estonia\n",
            "121 Germany\n",
            "122 Bulgaria\n",
            "123 Greece\n",
            "124 Turkey\n",
            "125 Albania\n",
            "126 Croatia\n",
            "127 Switzerland\n",
            "128 Luxembourg\n",
            "129 Belgium\n",
            "130 Netherlands\n",
            "131 Portugal\n",
            "132 Spain\n",
            "133 Ireland\n",
            "134 New Caledonia\n",
            "135 Solomon Is.\n",
            "136 New Zealand\n",
            "137 Australia\n",
            "138 Sri Lanka\n",
            "139 China\n",
            "140 Taiwan\n",
            "141 Italy\n",
            "142 Denmark\n",
            "143 United Kingdom\n",
            "144 Iceland\n",
            "145 Azerbaijan\n",
            "146 Georgia\n",
            "147 Philippines\n",
            "148 Malaysia\n",
            "149 Brunei\n",
            "150 Slovenia\n",
            "151 Finland\n",
            "152 Slovakia\n",
            "153 Czechia\n",
            "154 Eritrea\n",
            "155 Japan\n",
            "156 Paraguay\n",
            "157 Yemen\n",
            "158 Saudi Arabia\n",
            "159 N. Cyprus\n",
            "160 Cyprus\n",
            "161 Morocco\n",
            "162 Egypt\n",
            "163 Libya\n",
            "164 Ethiopia\n",
            "165 Djibouti\n",
            "166 Somaliland\n",
            "167 Uganda\n",
            "168 Rwanda\n",
            "169 Bosnia and Herz.\n",
            "170 Macedonia\n",
            "171 Serbia\n",
            "172 Montenegro\n",
            "173 Kosovo\n",
            "174 Trinidad and Tobago\n",
            "175 S. Sudan\n"
          ]
        }
      ]
    },
    {
      "cell_type": "code",
      "source": [
        "tab = [-1]*len(countries)\n",
        "for j,c in enumerate(countries):\n",
        "  for i,wci in enumerate(wc):\n",
        "    if c[-6:] in wci and tab[j] == -1:\n",
        "      tab[j] = i\n",
        "tab[16] = 170\n",
        "tab[19] = 149\n",
        "tab[35] = 153\n",
        "tab[61] = 107\n",
        "tab[73] = 92\n",
        "tab[111] = 18\n",
        "tab[119] = 25\n",
        "tab[70] = 96\n",
        "tab[126] = 127\n",
        "tab[127] = 108\n",
        "tab[128] = 140\n",
        "tab[129] = 104\n",
        "tab[130] = 1\n",
        "tab[143] = 6\n",
        "tab[144] = 40\n",
        "tab[145] = 94\n",
        "tab[159] = 66\n",
        "tab[192] = -1\n",
        "tab[224] = 106\n",
        "tab[228] = 40\n",
        "#tab[231] = 153\n",
        "tab[102] = 102\n",
        "tab[224] = -1\n",
        "tab[226] = 40"
      ],
      "metadata": {
        "id": "tjuJO9c0-kVp"
      },
      "execution_count": null,
      "outputs": []
    },
    {
      "cell_type": "code",
      "source": [
        "for i in range(len(countries)):\n",
        "\n",
        "  if tab[i] != -1:\n",
        "    print(i,countries[i],wc[tab[i]])\n",
        "  else:\n",
        "    print(i,countries[i],'--None--')"
      ],
      "metadata": {
        "colab": {
          "base_uri": "https://localhost:8080/"
        },
        "id": "Adlny2tKBleB",
        "outputId": "2fe27039-2d12-4558-8232-e5cffb197240"
      },
      "execution_count": null,
      "outputs": [
        {
          "output_type": "stream",
          "name": "stdout",
          "text": [
            "0 Albania Albania\n",
            "1 Algeria Algeria\n",
            "2 Angola Angola\n",
            "3 Argentina Argentina\n",
            "4 Armenia Armenia\n",
            "5 Australia Australia\n",
            "6 Austria Austria\n",
            "7 Azerbaijan Azerbaijan\n",
            "8 Bahrain --None--\n",
            "9 Bangladesh Bangladesh\n",
            "10 Barbados --None--\n",
            "11 Belarus Belarus\n",
            "12 Belgium Belgium\n",
            "13 Belize Belize\n",
            "14 Benin Benin\n",
            "15 Bolivia Bolivia\n",
            "16 Bosnia and Herzegovina Macedonia\n",
            "17 Botswana Botswana\n",
            "18 Brazil Brazil\n",
            "19 Brunei Darussalam Brunei\n",
            "20 Bulgaria Bulgaria\n",
            "21 Burkina Faso Burkina Faso\n",
            "22 Burundi Burundi\n",
            "23 Cambodia Cambodia\n",
            "24 Cameroon Cameroon\n",
            "25 Canada Canada\n",
            "26 Cabo Verde --None--\n",
            "27 Chad Chad\n",
            "28 Chile Chile\n",
            "29 China China\n",
            "30 Colombia Colombia\n",
            "31 Costa Rica Costa Rica\n",
            "32 Côte d'Ivoire Côte d'Ivoire\n",
            "33 Croatia Croatia\n",
            "34 Cyprus N. Cyprus\n",
            "35 Czech Republic Czechia\n",
            "36 Denmark Denmark\n",
            "37 Dominican Republic --None--\n",
            "38 Ecuador Ecuador\n",
            "39 Egypt Egypt\n",
            "40 El Salvador El Salvador\n",
            "41 Estonia Estonia\n",
            "42 Ethiopia Ethiopia\n",
            "43 Fiji Fiji\n",
            "44 Finland Finland\n",
            "45 France France\n",
            "46 Gabon Gabon\n",
            "47 Gambia Gambia\n",
            "48 Georgia Georgia\n",
            "49 Germany Germany\n",
            "50 Ghana Ghana\n",
            "51 Greece Greece\n",
            "52 Guatemala Guatemala\n",
            "53 Guinea Papua New Guinea\n",
            "54 Guyana Guyana\n",
            "55 Honduras Honduras\n",
            "56 Hong Kong (China) --None--\n",
            "57 Hungary Hungary\n",
            "58 Iceland Iceland\n",
            "59 India India\n",
            "60 Indonesia Indonesia\n",
            "61 Iran Iran\n",
            "62 Ireland Ireland\n",
            "63 Israel Israel\n",
            "64 Italy Italy\n",
            "65 Jamaica Jamaica\n",
            "66 Japan Japan\n",
            "67 Jordan Jordan\n",
            "68 Kazakhstan Kazakhstan\n",
            "69 Kenya Kenya\n",
            "70 South Korea South Korea\n",
            "71 Kuwait Kuwait\n",
            "72 Kyrgyzstan Kyrgyzstan\n",
            "73 Lao Laos\n",
            "74 Latvia Latvia\n",
            "75 Lebanon Lebanon\n",
            "76 Lesotho Lesotho\n",
            "77 Libya Libya\n",
            "78 Lithuania Lithuania\n",
            "79 Luxembourg Luxembourg\n",
            "80 Madagascar Madagascar\n",
            "81 Malawi Malawi\n",
            "82 Malaysia Malaysia\n",
            "83 Mali Mali\n",
            "84 Malta --None--\n",
            "85 Mauritania Mauritania\n",
            "86 Mauritius --None--\n",
            "87 Mexico Mexico\n",
            "88 Moldova Moldova\n",
            "89 Mongolia Mongolia\n",
            "90 Montenegro Montenegro\n",
            "91 Morocco Morocco\n",
            "92 Mozambique Mozambique\n",
            "93 Namibia Namibia\n",
            "94 Nepal Nepal\n",
            "95 Netherlands Netherlands\n",
            "96 New Zealand New Zealand\n",
            "97 Nicaragua Nicaragua\n",
            "98 Niger Niger\n",
            "99 Nigeria Nigeria\n",
            "100 Norway Norway\n",
            "101 Oman Oman\n",
            "102 Pakistan Pakistan\n",
            "103 Panama Panama\n",
            "104 Paraguay Paraguay\n",
            "105 Peru Peru\n",
            "106 Philippines Philippines\n",
            "107 Poland Poland\n",
            "108 Portugal Portugal\n",
            "109 Qatar Qatar\n",
            "110 Romania Romania\n",
            "111 Russia Russia\n",
            "112 Rwanda Rwanda\n",
            "113 Saudi Arabia Saudi Arabia\n",
            "114 Senegal Senegal\n",
            "115 Serbia Serbia\n",
            "116 Singapore --None--\n",
            "117 Slovakia Slovakia\n",
            "118 Slovenia Slovenia\n",
            "119 South Africa South Africa\n",
            "120 Spain Spain\n",
            "121 Sri Lanka Sri Lanka\n",
            "122 Sudan Sudan\n",
            "123 Suriname Suriname\n",
            "124 Swaziland --None--\n",
            "125 Sweden Sweden\n",
            "126 Switzerland Switzerland\n",
            "127 Syrian Arab Republic Syria\n",
            "128 Taiwan, Province of China Taiwan\n",
            "129 Tajikistan Tajikistan\n",
            "130 Tanzania Tanzania\n",
            "131 Thailand Thailand\n",
            "132 Macedonia New Caledonia\n",
            "133 Togo Togo\n",
            "134 Trinidad and Tobago Trinidad and Tobago\n",
            "135 Tunisia Tunisia\n",
            "136 Turkey Turkey\n",
            "137 Uganda Uganda\n",
            "138 Ukraine Ukraine\n",
            "139 United Arab Emirates United Arab Emirates\n",
            "140 United Kingdom United Kingdom\n",
            "141 United Stated of America United States of America\n",
            "142 Uruguay Uruguay\n",
            "143 Uzbekistan Uzbekistan\n",
            "144 Venezuela, Bolivarian Republic of Venezuela\n",
            "145 Viet Nam Vietnam\n",
            "146 Yemen Yemen\n",
            "147 Zambia Zambia\n",
            "148 Zimbabwe Zimbabwe\n",
            "149 Afghanistan Afghanistan\n",
            "150 American Samoa --None--\n",
            "151 Andorra --None--\n",
            "152 Anguilla --None--\n",
            "153 Antigua and Barbuda --None--\n",
            "154 Aruba --None--\n",
            "155 Bahamas Bahamas\n",
            "156 Bermuda --None--\n",
            "157 Bhutan Bhutan\n",
            "158 Cayman Islands --None--\n",
            "159 Central African Republic Central African Rep.\n",
            "160 Channel Islands --None--\n",
            "161 Comoros --None--\n",
            "162 Congo Dem. Rep. Congo\n",
            "163 Cook Islands --None--\n",
            "164 Cuba Cuba\n",
            "165 Curaçao --None--\n",
            "166 Djibouti Djibouti\n",
            "167 Dominica Dominican Rep.\n",
            "168 Equatorial Guinea Papua New Guinea\n",
            "169 Eritrea Eritrea\n",
            "170 Faroe Islands --None--\n",
            "171 French Guiana --None--\n",
            "172 French Polynesia --None--\n",
            "173 Gibraltar --None--\n",
            "174 Greenland Greenland\n",
            "175 Grenada --None--\n",
            "176 Guam --None--\n",
            "177 Guinea Bissau Guinea-Bissau\n",
            "178 Haiti Haiti\n",
            "179 Holy See (Vatican City State) --None--\n",
            "180 Iraq Iraq\n",
            "181 Isle of Man --None--\n",
            "182 Jersey --None--\n",
            "183 Kiribati --None--\n",
            "184 Kosovo Kosovo\n",
            "185 Liberia Liberia\n",
            "186 Liechtenstein --None--\n",
            "187 Macao --None--\n",
            "188 Maldives --None--\n",
            "189 Marshall Islands --None--\n",
            "190 Martinique --None--\n",
            "191 Mayotte --None--\n",
            "192 Micronesia, Federated States of --None--\n",
            "193 Monaco --None--\n",
            "194 Montserrat --None--\n",
            "195 Myanmar Myanmar\n",
            "196 Nauru --None--\n",
            "197 New Caledonia New Caledonia\n",
            "198 Niue --None--\n",
            "199 Northern Mariana Islands --None--\n",
            "200 Palau --None--\n",
            "201 Palestinian Territory, Occupied --None--\n",
            "202 Papua New Guinea Papua New Guinea\n",
            "203 Puerto Rico Puerto Rico\n",
            "204 Réunion --None--\n",
            "205 Saint Kitts and Nevis --None--\n",
            "206 Saint Lucia --None--\n",
            "207 Saint Martin (French part) --None--\n",
            "208 Saint Vincent and the Grenadines --None--\n",
            "209 Samoa --None--\n",
            "210 San Marino --None--\n",
            "211 Sao Tome and Principe --None--\n",
            "212 Seychelles --None--\n",
            "213 Sierra Leone Sierra Leone\n",
            "214 Sint Maarten (Dutch part) --None--\n",
            "215 Solomon Islands --None--\n",
            "216 Somalia Somalia\n",
            "217 South Sudan S. Sudan\n",
            "218 Sudan (pre-secession) --None--\n",
            "219 Timor-Leste Timor-Leste\n",
            "220 Tokelau --None--\n",
            "221 Tonga --None--\n",
            "222 Turkmenistan Afghanistan\n",
            "223 Turks and Caicos Islands --None--\n",
            "224 Tuvalu --None--\n",
            "225 Vanuatu Vanuatu\n",
            "226 Venezuela, Bolivarian Rep. Venezuela\n",
            "227 Virgin Islands, British --None--\n",
            "228 Virgin Islands, U.S. Venezuela\n",
            "229 Czech Republic (the) --None--\n",
            "230 Dominican Republic (the) --None--\n",
            "231 Hong Kong, China --None--\n",
            "232 Niger (the) --None--\n"
          ]
        }
      ]
    },
    {
      "cell_type": "code",
      "source": [
        "len(countries), len(wc), len(tab)\n",
        "wc[157:170]"
      ],
      "metadata": {
        "colab": {
          "base_uri": "https://localhost:8080/"
        },
        "id": "xXJaJyPvU9C1",
        "outputId": "90489cf2-51a0-4411-d333-488a52193da5"
      },
      "execution_count": null,
      "outputs": [
        {
          "output_type": "execute_result",
          "data": {
            "text/plain": [
              "157               Yemen\n",
              "158        Saudi Arabia\n",
              "160           N. Cyprus\n",
              "161              Cyprus\n",
              "162             Morocco\n",
              "163               Egypt\n",
              "164               Libya\n",
              "165            Ethiopia\n",
              "166            Djibouti\n",
              "167          Somaliland\n",
              "168              Uganda\n",
              "169              Rwanda\n",
              "170    Bosnia and Herz.\n",
              "Name: name, dtype: object"
            ]
          },
          "metadata": {},
          "execution_count": 85
        }
      ]
    },
    {
      "cell_type": "markdown",
      "source": [
        "# Dynamic model"
      ],
      "metadata": {
        "id": "Srl1zxSi_-El"
      }
    },
    {
      "cell_type": "code",
      "source": [
        "xx = X[:,:5]\n",
        "yy = X[:,5:7]\n",
        "t = X[:,7]"
      ],
      "metadata": {
        "id": "l30rgKsxAANa"
      },
      "execution_count": null,
      "outputs": []
    },
    {
      "cell_type": "code",
      "source": [
        "t"
      ],
      "metadata": {
        "colab": {
          "base_uri": "https://localhost:8080/"
        },
        "id": "gzHPdwfXACJ7",
        "outputId": "cb7131ae-f15e-4dd2-e22a-894c063c460a"
      },
      "execution_count": null,
      "outputs": [
        {
          "output_type": "execute_result",
          "data": {
            "text/plain": [
              "array([2013., 2013., 2013., ..., 2020., 2020., 2020.])"
            ]
          },
          "metadata": {},
          "execution_count": 61
        }
      ]
    },
    {
      "cell_type": "code",
      "source": [
        ""
      ],
      "metadata": {
        "id": "yprMx5goAQkD"
      },
      "execution_count": null,
      "outputs": []
    }
  ]
}